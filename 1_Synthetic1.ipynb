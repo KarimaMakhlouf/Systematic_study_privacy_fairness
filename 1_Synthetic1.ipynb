{
 "cells": [
  {
   "cell_type": "code",
   "execution_count": 1,
   "metadata": {},
   "outputs": [],
   "source": [
    "import math "
   ]
  },
  {
   "cell_type": "code",
   "execution_count": 2,
   "metadata": {},
   "outputs": [],
   "source": [
    "import numpy as np\n",
    "import matplotlib.pyplot as plt\n",
    "import pandas as pd\n",
    "import time\n",
    "import copy\n",
    "import itertools\n",
    "\n",
    "# Sklearn imports\n",
    "from sklearn.model_selection import StratifiedKFold\n",
    "from sklearn.ensemble import RandomForestClassifier\n",
    "from sklearn.preprocessing import LabelEncoder\n",
    "from sklearn.model_selection import train_test_split\n",
    "from multi_freq_ldpy.pure_frequency_oracles.GRR import GRR_Client\n",
    "from sklearn.metrics import confusion_matrix, accuracy_score, precision_score, recall_score\n",
    "# LDP import\n",
    "from GRR import GRR_Client\n",
    "from GroupFairnessNotions import confusion_matrix_scorer, Statistical_parity, Metric_disparity, Equal_opportunity, Predictive_equality, Treatment_equality, Overall_accuracy, Predictive_rate_parity, CSD"
   ]
  },
  {
   "cell_type": "code",
   "execution_count": 3,
   "metadata": {},
   "outputs": [],
   "source": [
    "# Evaluating nb_seed times due to randomness\n",
    "nb_seed = 20\n",
    "\n",
    "dataset = 'Synthetic1'\n",
    "path_results = 'Results/'\n",
    "\n",
    "# list of epsilon\n",
    "#[8,2,1,0.8,0.5,0.40,0.27,0.2,0.1]\n",
    "lst_eps = [16,8,2,1,0.85,0.5,0.40,0.27,0.23,0.1]\n",
    "\n",
    "# Target attribute\n",
    "target = 'Y' \n",
    "\n",
    "# Protected attribute \n",
    "protected_att = 'A'\n",
    "\n",
    "test_size = 0.2\n",
    "\n",
    "nb_samples = 1e5\n",
    "\n",
    "lst_sensitive = [protected_att,'X']"
   ]
  },
  {
   "cell_type": "code",
   "execution_count": 4,
   "metadata": {},
   "outputs": [
    {
     "name": "stdout",
     "output_type": "stream",
     "text": [
      "15000 15000 35000 35000\n",
      "100000\n"
     ]
    }
   ],
   "source": [
    "x0, x1 = 0.5, 0.5\n",
    "a0, a1 = 0.3, 0.7 \n",
    "\n",
    "\n",
    "p_a0_x0 = np.rint(a0 * x0 * nb_samples).astype(int)\n",
    "p_a0_x1 = np.rint(a0 * x1 * nb_samples).astype(int)\n",
    "p_a1_x0 = np.rint(a1 * x0 * nb_samples).astype(int)\n",
    "p_a1_x1 = np.rint(a1 * x1 * nb_samples).astype(int)\n",
    "\n",
    "\n",
    "print(p_a0_x0, p_a0_x1, p_a1_x0, p_a1_x1)\n",
    "orig_nb_samples = [p_a0_x0, p_a0_x1, p_a1_x0, p_a1_x1]\n",
    "print (sum(orig_nb_samples))\n"
   ]
  },
  {
   "cell_type": "code",
   "execution_count": 5,
   "metadata": {},
   "outputs": [
    {
     "data": {
      "text/html": [
       "<div>\n",
       "<style scoped>\n",
       "    .dataframe tbody tr th:only-of-type {\n",
       "        vertical-align: middle;\n",
       "    }\n",
       "\n",
       "    .dataframe tbody tr th {\n",
       "        vertical-align: top;\n",
       "    }\n",
       "\n",
       "    .dataframe thead th {\n",
       "        text-align: right;\n",
       "    }\n",
       "</style>\n",
       "<table border=\"1\" class=\"dataframe\">\n",
       "  <thead>\n",
       "    <tr style=\"text-align: right;\">\n",
       "      <th></th>\n",
       "      <th>A</th>\n",
       "      <th>X</th>\n",
       "    </tr>\n",
       "  </thead>\n",
       "  <tbody>\n",
       "    <tr>\n",
       "      <th>0</th>\n",
       "      <td>0</td>\n",
       "      <td>0</td>\n",
       "    </tr>\n",
       "    <tr>\n",
       "      <th>1</th>\n",
       "      <td>0</td>\n",
       "      <td>1</td>\n",
       "    </tr>\n",
       "    <tr>\n",
       "      <th>2</th>\n",
       "      <td>1</td>\n",
       "      <td>0</td>\n",
       "    </tr>\n",
       "    <tr>\n",
       "      <th>3</th>\n",
       "      <td>1</td>\n",
       "      <td>1</td>\n",
       "    </tr>\n",
       "  </tbody>\n",
       "</table>\n",
       "</div>"
      ],
      "text/plain": [
       "   A  X\n",
       "0  0  0\n",
       "1  0  1\n",
       "2  1  0\n",
       "3  1  1"
      ]
     },
     "metadata": {},
     "output_type": "display_data"
    }
   ],
   "source": [
    "# creating a list of column names\n",
    "column_values = ['A','X']\n",
    "\n",
    "# creating the patterns of features\n",
    "pattern_features = [x for x in itertools.product([0, 1], repeat=len(column_values))]\n",
    "\n",
    "# creating the dataframe\n",
    "df = pd.DataFrame(data = pattern_features, \n",
    "                  columns = column_values)\n",
    "  \n",
    "# displaying the dataframe\n",
    "display(df)"
   ]
  },
  {
   "cell_type": "code",
   "execution_count": 6,
   "metadata": {
    "scrolled": true
   },
   "outputs": [
    {
     "data": {
      "text/html": [
       "<div>\n",
       "<style scoped>\n",
       "    .dataframe tbody tr th:only-of-type {\n",
       "        vertical-align: middle;\n",
       "    }\n",
       "\n",
       "    .dataframe tbody tr th {\n",
       "        vertical-align: top;\n",
       "    }\n",
       "\n",
       "    .dataframe thead th {\n",
       "        text-align: right;\n",
       "    }\n",
       "</style>\n",
       "<table border=\"1\" class=\"dataframe\">\n",
       "  <thead>\n",
       "    <tr style=\"text-align: right;\">\n",
       "      <th></th>\n",
       "      <th>A</th>\n",
       "      <th>X</th>\n",
       "    </tr>\n",
       "  </thead>\n",
       "  <tbody>\n",
       "    <tr>\n",
       "      <th>0</th>\n",
       "      <td>0</td>\n",
       "      <td>0</td>\n",
       "    </tr>\n",
       "    <tr>\n",
       "      <th>1</th>\n",
       "      <td>0</td>\n",
       "      <td>0</td>\n",
       "    </tr>\n",
       "    <tr>\n",
       "      <th>2</th>\n",
       "      <td>0</td>\n",
       "      <td>0</td>\n",
       "    </tr>\n",
       "    <tr>\n",
       "      <th>3</th>\n",
       "      <td>0</td>\n",
       "      <td>0</td>\n",
       "    </tr>\n",
       "    <tr>\n",
       "      <th>4</th>\n",
       "      <td>0</td>\n",
       "      <td>0</td>\n",
       "    </tr>\n",
       "    <tr>\n",
       "      <th>...</th>\n",
       "      <td>...</td>\n",
       "      <td>...</td>\n",
       "    </tr>\n",
       "    <tr>\n",
       "      <th>99995</th>\n",
       "      <td>1</td>\n",
       "      <td>1</td>\n",
       "    </tr>\n",
       "    <tr>\n",
       "      <th>99996</th>\n",
       "      <td>1</td>\n",
       "      <td>1</td>\n",
       "    </tr>\n",
       "    <tr>\n",
       "      <th>99997</th>\n",
       "      <td>1</td>\n",
       "      <td>1</td>\n",
       "    </tr>\n",
       "    <tr>\n",
       "      <th>99998</th>\n",
       "      <td>1</td>\n",
       "      <td>1</td>\n",
       "    </tr>\n",
       "    <tr>\n",
       "      <th>99999</th>\n",
       "      <td>1</td>\n",
       "      <td>1</td>\n",
       "    </tr>\n",
       "  </tbody>\n",
       "</table>\n",
       "<p>100000 rows × 2 columns</p>\n",
       "</div>"
      ],
      "text/plain": [
       "       A  X\n",
       "0      0  0\n",
       "1      0  0\n",
       "2      0  0\n",
       "3      0  0\n",
       "4      0  0\n",
       "...   .. ..\n",
       "99995  1  1\n",
       "99996  1  1\n",
       "99997  1  1\n",
       "99998  1  1\n",
       "99999  1  1\n",
       "\n",
       "[100000 rows x 2 columns]"
      ]
     },
     "metadata": {},
     "output_type": "display_data"
    }
   ],
   "source": [
    "df['n'] = orig_nb_samples\n",
    "df = df.loc[df.index.repeat(df.n)].reset_index(drop=True)\n",
    "del df['n']\n",
    "display(df)"
   ]
  },
  {
   "cell_type": "code",
   "execution_count": 7,
   "metadata": {},
   "outputs": [],
   "source": [
    "df['Y'] = df.apply(lambda row: 0.75*row.A + 0.5*row.X, axis = 1)\n",
    "\n",
    "#df['Y'] = df.apply(lambda row: int(row.A == 1 or row.X == 1), axis = 1)"
   ]
  },
  {
   "cell_type": "code",
   "execution_count": 9,
   "metadata": {},
   "outputs": [
    {
     "data": {
      "text/plain": [
       "count    100000.000000\n",
       "mean          0.775000\n",
       "std           0.425002\n",
       "min           0.000000\n",
       "25%           0.500000\n",
       "50%           0.750000\n",
       "75%           1.250000\n",
       "max           1.250000\n",
       "Name: Y, dtype: float64"
      ]
     },
     "execution_count": 9,
     "metadata": {},
     "output_type": "execute_result"
    }
   ],
   "source": [
    "df.Y.describe()"
   ]
  },
  {
   "cell_type": "code",
   "execution_count": 12,
   "metadata": {},
   "outputs": [
    {
     "data": {
      "text/html": [
       "<div>\n",
       "<style scoped>\n",
       "    .dataframe tbody tr th:only-of-type {\n",
       "        vertical-align: middle;\n",
       "    }\n",
       "\n",
       "    .dataframe tbody tr th {\n",
       "        vertical-align: top;\n",
       "    }\n",
       "\n",
       "    .dataframe thead th {\n",
       "        text-align: right;\n",
       "    }\n",
       "</style>\n",
       "<table border=\"1\" class=\"dataframe\">\n",
       "  <thead>\n",
       "    <tr style=\"text-align: right;\">\n",
       "      <th></th>\n",
       "      <th>A</th>\n",
       "      <th>X</th>\n",
       "      <th>Y</th>\n",
       "    </tr>\n",
       "  </thead>\n",
       "  <tbody>\n",
       "    <tr>\n",
       "      <th>0</th>\n",
       "      <td>0</td>\n",
       "      <td>0</td>\n",
       "      <td>0</td>\n",
       "    </tr>\n",
       "    <tr>\n",
       "      <th>1</th>\n",
       "      <td>0</td>\n",
       "      <td>0</td>\n",
       "      <td>0</td>\n",
       "    </tr>\n",
       "    <tr>\n",
       "      <th>2</th>\n",
       "      <td>0</td>\n",
       "      <td>0</td>\n",
       "      <td>0</td>\n",
       "    </tr>\n",
       "    <tr>\n",
       "      <th>3</th>\n",
       "      <td>0</td>\n",
       "      <td>0</td>\n",
       "      <td>0</td>\n",
       "    </tr>\n",
       "    <tr>\n",
       "      <th>4</th>\n",
       "      <td>0</td>\n",
       "      <td>0</td>\n",
       "      <td>0</td>\n",
       "    </tr>\n",
       "    <tr>\n",
       "      <th>...</th>\n",
       "      <td>...</td>\n",
       "      <td>...</td>\n",
       "      <td>...</td>\n",
       "    </tr>\n",
       "    <tr>\n",
       "      <th>99995</th>\n",
       "      <td>1</td>\n",
       "      <td>1</td>\n",
       "      <td>1</td>\n",
       "    </tr>\n",
       "    <tr>\n",
       "      <th>99996</th>\n",
       "      <td>1</td>\n",
       "      <td>1</td>\n",
       "      <td>1</td>\n",
       "    </tr>\n",
       "    <tr>\n",
       "      <th>99997</th>\n",
       "      <td>1</td>\n",
       "      <td>1</td>\n",
       "      <td>1</td>\n",
       "    </tr>\n",
       "    <tr>\n",
       "      <th>99998</th>\n",
       "      <td>1</td>\n",
       "      <td>1</td>\n",
       "      <td>1</td>\n",
       "    </tr>\n",
       "    <tr>\n",
       "      <th>99999</th>\n",
       "      <td>1</td>\n",
       "      <td>1</td>\n",
       "      <td>1</td>\n",
       "    </tr>\n",
       "  </tbody>\n",
       "</table>\n",
       "<p>100000 rows × 3 columns</p>\n",
       "</div>"
      ],
      "text/plain": [
       "       A  X  Y\n",
       "0      0  0  0\n",
       "1      0  0  0\n",
       "2      0  0  0\n",
       "3      0  0  0\n",
       "4      0  0  0\n",
       "...   .. .. ..\n",
       "99995  1  1  1\n",
       "99996  1  1  1\n",
       "99997  1  1  1\n",
       "99998  1  1  1\n",
       "99999  1  1  1\n",
       "\n",
       "[100000 rows x 3 columns]"
      ]
     },
     "execution_count": 12,
     "metadata": {},
     "output_type": "execute_result"
    }
   ],
   "source": [
    "df"
   ]
  },
  {
   "cell_type": "code",
   "execution_count": 10,
   "metadata": {},
   "outputs": [],
   "source": [
    "df['Y'] = np.where(df['Y'] > df.Y.mean(), 1, 0) "
   ]
  },
  {
   "cell_type": "code",
   "execution_count": 11,
   "metadata": {},
   "outputs": [
    {
     "data": {
      "text/plain": [
       "0    65000\n",
       "1    35000\n",
       "Name: Y, dtype: int64"
      ]
     },
     "execution_count": 11,
     "metadata": {},
     "output_type": "execute_result"
    }
   ],
   "source": [
    "df.Y.value_counts()"
   ]
  },
  {
   "cell_type": "markdown",
   "metadata": {},
   "source": [
    "## Data Distribution"
   ]
  },
  {
   "cell_type": "code",
   "execution_count": 15,
   "metadata": {
    "scrolled": true
   },
   "outputs": [
    {
     "name": "stdout",
     "output_type": "stream",
     "text": [
      "0    65000\n",
      "1    35000\n",
      "Name: Y, dtype: int64\n",
      "A0_Y0: 30000\n",
      " A0_Y1: 0\n",
      " A1_Y0: 35000\n",
      " A1_Y1: 35000\n"
     ]
    }
   ],
   "source": [
    "print(df.Y.value_counts())\n",
    "A0_Y0 = len(df[(df['A'] == 0) & (df['Y'] == 0)])\n",
    "A0_Y1 = len(df[(df['A'] == 0) & (df['Y'] == 1)])\n",
    "A1_Y0 = len(df[(df['A'] == 1) & (df['Y'] == 0)])\n",
    "A1_Y1 = len(df[(df['A'] == 1) & (df['Y'] == 1)])\n",
    "print(f'A0_Y0: {A0_Y0}\\n A0_Y1: {A0_Y1}\\n A1_Y0: {A1_Y0}\\n A1_Y1: {A1_Y1}')"
   ]
  },
  {
   "cell_type": "code",
   "execution_count": 11,
   "metadata": {},
   "outputs": [
    {
     "name": "stdout",
     "output_type": "stream",
     "text": [
      "0    50000\n",
      "1    50000\n",
      "Name: X, dtype: int64\n",
      "A0_X0_Y0: 15000\n",
      " A0_X1_Y0: 0\n",
      " A1_X0_Y0: 0\n",
      " A1_X1_Y0: 0\n",
      " A0_X0_Y1: 0\n",
      " A0_X1_Y1: 15000\n",
      " A1_X0_Y1: 35000\n",
      " A1_X1_Y1: 35000\n",
      "\n"
     ]
    }
   ],
   "source": [
    "print(df.X.value_counts())\n",
    "A0_X0_Y0 = len(df[(df['A'] == 0) & (df['X'] == 0) & (df['Y'] == 0)])\n",
    "A0_X1_Y0 = len(df[(df['A'] == 0) & (df['X'] == 1) & (df['Y'] == 0)])\n",
    "A1_X0_Y0 = len(df[(df['A'] == 1) & (df['X'] == 0) & (df['Y'] == 0)])\n",
    "A1_X1_Y0 = len(df[(df['A'] == 1) & (df['X'] == 1) & (df['Y'] == 0)])\n",
    "A0_X0_Y1 = len(df[(df['A'] == 0) & (df['X'] == 0) & (df['Y'] == 1)])\n",
    "A0_X1_Y1 = len(df[(df['A'] == 0) & (df['X'] == 1) & (df['Y'] == 1)])\n",
    "A1_X0_Y1 = len(df[(df['A'] == 1) & (df['X'] == 0) & (df['Y'] == 1)])\n",
    "A1_X1_Y1 = len(df[(df['A'] == 1) & (df['X'] == 1) & (df['Y'] == 1)])\n",
    "\n",
    "print(f'A0_X0_Y0: {A0_X0_Y0}\\n A0_X1_Y0: {A0_X1_Y0}\\n A1_X0_Y0: {A1_X0_Y0}\\n A1_X1_Y0: {A1_X1_Y0}\\n A0_X0_Y1: {A0_X0_Y1}\\n A0_X1_Y1: {A0_X1_Y1}\\n A1_X0_Y1: {A1_X0_Y1}\\n A1_X1_Y1: {A1_X1_Y1}\\n')\n",
    "\n",
    "\n"
   ]
  },
  {
   "cell_type": "markdown",
   "metadata": {},
   "source": [
    "## Computation of the epsilon where the change starts (theoritically)"
   ]
  },
  {
   "cell_type": "code",
   "execution_count": 12,
   "metadata": {
    "scrolled": true
   },
   "outputs": [],
   "source": [
    "delta1_X0 = A1_X0_Y1 - A1_X0_Y0\n",
    "delta0_X0 = A0_X0_Y1 - A0_X0_Y0\n",
    "epsilon_CSD_X0 = np.log(-(delta1_X0/delta0_X0))"
   ]
  },
  {
   "cell_type": "code",
   "execution_count": 13,
   "metadata": {},
   "outputs": [
    {
     "data": {
      "text/plain": [
       "0.8472978603872037"
      ]
     },
     "execution_count": 13,
     "metadata": {},
     "output_type": "execute_result"
    }
   ],
   "source": [
    "epsilon_CSD_X0"
   ]
  },
  {
   "cell_type": "code",
   "execution_count": 14,
   "metadata": {},
   "outputs": [
    {
     "data": {
      "text/plain": [
       "35000"
      ]
     },
     "execution_count": 14,
     "metadata": {},
     "output_type": "execute_result"
    }
   ],
   "source": [
    "delta1_X0"
   ]
  },
  {
   "cell_type": "code",
   "execution_count": 15,
   "metadata": {},
   "outputs": [
    {
     "data": {
      "text/plain": [
       "-15000"
      ]
     },
     "execution_count": 15,
     "metadata": {},
     "output_type": "execute_result"
    }
   ],
   "source": [
    "delta0_X0"
   ]
  },
  {
   "cell_type": "code",
   "execution_count": null,
   "metadata": {},
   "outputs": [],
   "source": []
  },
  {
   "cell_type": "code",
   "execution_count": null,
   "metadata": {},
   "outputs": [],
   "source": []
  },
  {
   "cell_type": "code",
   "execution_count": 16,
   "metadata": {},
   "outputs": [],
   "source": [
    "A0 = len(df[(df['A'] == 0)])/len(df)\n",
    "A1 = len(df[(df['A'] == 1)])/len(df)\n",
    "X1 = len(df[(df['X'] == 1)])/len(df)\n",
    "X0 = len(df[(df['X'] == 0)])/len(df)"
   ]
  },
  {
   "cell_type": "code",
   "execution_count": 17,
   "metadata": {},
   "outputs": [],
   "source": [
    "epsilon_A_bf = np.log(A1/A0)"
   ]
  },
  {
   "cell_type": "code",
   "execution_count": 18,
   "metadata": {
    "scrolled": true
   },
   "outputs": [
    {
     "data": {
      "text/plain": [
       "0.8472978603872037"
      ]
     },
     "execution_count": 18,
     "metadata": {},
     "output_type": "execute_result"
    }
   ],
   "source": [
    "epsilon_A_bf"
   ]
  },
  {
   "cell_type": "markdown",
   "metadata": {},
   "source": [
    "## epsilon for obfuscating A and X"
   ]
  },
  {
   "cell_type": "code",
   "execution_count": 19,
   "metadata": {},
   "outputs": [],
   "source": [
    "alpha = A1/(A0*X0)\n",
    "upper = -1 +(math. sqrt(1+4*alpha))\n",
    "lower = 2*alpha + 1 - math. sqrt(1+4*alpha)\n",
    "epsilon_AX_obf = np.log(upper/lower)"
   ]
  },
  {
   "cell_type": "code",
   "execution_count": 20,
   "metadata": {},
   "outputs": [
    {
     "data": {
      "text/plain": [
       "-0.5407857722195111"
      ]
     },
     "execution_count": 20,
     "metadata": {},
     "output_type": "execute_result"
    }
   ],
   "source": [
    "epsilon_AX_obf\n"
   ]
  },
  {
   "cell_type": "markdown",
   "metadata": {},
   "source": [
    "# Non-private Random Forest (using train/test splitting)"
   ]
  },
  {
   "cell_type": "code",
   "execution_count": 13,
   "metadata": {},
   "outputs": [
    {
     "name": "stdout",
     "output_type": "stream",
     "text": [
      "0\n"
     ]
    },
    {
     "name": "stderr",
     "output_type": "stream",
     "text": [
      "/Users/karima/GoogleDrive/KarimaWork/PhD_Third_Year/Research/Privacy_Fairness/Theoritical_Work/Experiments/GroupFairnessNotions.py:45: RuntimeWarning: invalid value encountered in true_divide\n",
      "  return TP/float(TP+FN)\n"
     ]
    },
    {
     "name": "stdout",
     "output_type": "stream",
     "text": [
      "1\n"
     ]
    },
    {
     "name": "stderr",
     "output_type": "stream",
     "text": [
      "/Users/karima/GoogleDrive/KarimaWork/PhD_Third_Year/Research/Privacy_Fairness/Theoritical_Work/Experiments/GroupFairnessNotions.py:45: RuntimeWarning: invalid value encountered in true_divide\n",
      "  return TP/float(TP+FN)\n"
     ]
    },
    {
     "name": "stdout",
     "output_type": "stream",
     "text": [
      "2\n"
     ]
    },
    {
     "name": "stderr",
     "output_type": "stream",
     "text": [
      "/Users/karima/GoogleDrive/KarimaWork/PhD_Third_Year/Research/Privacy_Fairness/Theoritical_Work/Experiments/GroupFairnessNotions.py:45: RuntimeWarning: invalid value encountered in true_divide\n",
      "  return TP/float(TP+FN)\n"
     ]
    },
    {
     "name": "stdout",
     "output_type": "stream",
     "text": [
      "3\n"
     ]
    },
    {
     "name": "stderr",
     "output_type": "stream",
     "text": [
      "/Users/karima/GoogleDrive/KarimaWork/PhD_Third_Year/Research/Privacy_Fairness/Theoritical_Work/Experiments/GroupFairnessNotions.py:45: RuntimeWarning: invalid value encountered in true_divide\n",
      "  return TP/float(TP+FN)\n"
     ]
    },
    {
     "name": "stdout",
     "output_type": "stream",
     "text": [
      "4\n"
     ]
    },
    {
     "name": "stderr",
     "output_type": "stream",
     "text": [
      "/Users/karima/GoogleDrive/KarimaWork/PhD_Third_Year/Research/Privacy_Fairness/Theoritical_Work/Experiments/GroupFairnessNotions.py:45: RuntimeWarning: invalid value encountered in true_divide\n",
      "  return TP/float(TP+FN)\n"
     ]
    },
    {
     "name": "stdout",
     "output_type": "stream",
     "text": [
      "5\n"
     ]
    },
    {
     "name": "stderr",
     "output_type": "stream",
     "text": [
      "/Users/karima/GoogleDrive/KarimaWork/PhD_Third_Year/Research/Privacy_Fairness/Theoritical_Work/Experiments/GroupFairnessNotions.py:45: RuntimeWarning: invalid value encountered in true_divide\n",
      "  return TP/float(TP+FN)\n"
     ]
    },
    {
     "name": "stdout",
     "output_type": "stream",
     "text": [
      "6\n"
     ]
    },
    {
     "name": "stderr",
     "output_type": "stream",
     "text": [
      "/Users/karima/GoogleDrive/KarimaWork/PhD_Third_Year/Research/Privacy_Fairness/Theoritical_Work/Experiments/GroupFairnessNotions.py:45: RuntimeWarning: invalid value encountered in true_divide\n",
      "  return TP/float(TP+FN)\n"
     ]
    },
    {
     "name": "stdout",
     "output_type": "stream",
     "text": [
      "7\n"
     ]
    },
    {
     "name": "stderr",
     "output_type": "stream",
     "text": [
      "/Users/karima/GoogleDrive/KarimaWork/PhD_Third_Year/Research/Privacy_Fairness/Theoritical_Work/Experiments/GroupFairnessNotions.py:45: RuntimeWarning: invalid value encountered in true_divide\n",
      "  return TP/float(TP+FN)\n"
     ]
    },
    {
     "name": "stdout",
     "output_type": "stream",
     "text": [
      "8\n"
     ]
    },
    {
     "name": "stderr",
     "output_type": "stream",
     "text": [
      "/Users/karima/GoogleDrive/KarimaWork/PhD_Third_Year/Research/Privacy_Fairness/Theoritical_Work/Experiments/GroupFairnessNotions.py:45: RuntimeWarning: invalid value encountered in true_divide\n",
      "  return TP/float(TP+FN)\n"
     ]
    },
    {
     "name": "stdout",
     "output_type": "stream",
     "text": [
      "9\n"
     ]
    },
    {
     "name": "stderr",
     "output_type": "stream",
     "text": [
      "/Users/karima/GoogleDrive/KarimaWork/PhD_Third_Year/Research/Privacy_Fairness/Theoritical_Work/Experiments/GroupFairnessNotions.py:45: RuntimeWarning: invalid value encountered in true_divide\n",
      "  return TP/float(TP+FN)\n"
     ]
    },
    {
     "name": "stdout",
     "output_type": "stream",
     "text": [
      "10\n"
     ]
    },
    {
     "name": "stderr",
     "output_type": "stream",
     "text": [
      "/Users/karima/GoogleDrive/KarimaWork/PhD_Third_Year/Research/Privacy_Fairness/Theoritical_Work/Experiments/GroupFairnessNotions.py:45: RuntimeWarning: invalid value encountered in true_divide\n",
      "  return TP/float(TP+FN)\n"
     ]
    },
    {
     "name": "stdout",
     "output_type": "stream",
     "text": [
      "11\n"
     ]
    },
    {
     "name": "stderr",
     "output_type": "stream",
     "text": [
      "/Users/karima/GoogleDrive/KarimaWork/PhD_Third_Year/Research/Privacy_Fairness/Theoritical_Work/Experiments/GroupFairnessNotions.py:45: RuntimeWarning: invalid value encountered in true_divide\n",
      "  return TP/float(TP+FN)\n"
     ]
    },
    {
     "name": "stdout",
     "output_type": "stream",
     "text": [
      "12\n"
     ]
    },
    {
     "name": "stderr",
     "output_type": "stream",
     "text": [
      "/Users/karima/GoogleDrive/KarimaWork/PhD_Third_Year/Research/Privacy_Fairness/Theoritical_Work/Experiments/GroupFairnessNotions.py:45: RuntimeWarning: invalid value encountered in true_divide\n",
      "  return TP/float(TP+FN)\n"
     ]
    },
    {
     "name": "stdout",
     "output_type": "stream",
     "text": [
      "13\n"
     ]
    },
    {
     "name": "stderr",
     "output_type": "stream",
     "text": [
      "/Users/karima/GoogleDrive/KarimaWork/PhD_Third_Year/Research/Privacy_Fairness/Theoritical_Work/Experiments/GroupFairnessNotions.py:45: RuntimeWarning: invalid value encountered in true_divide\n",
      "  return TP/float(TP+FN)\n"
     ]
    },
    {
     "name": "stdout",
     "output_type": "stream",
     "text": [
      "14\n"
     ]
    },
    {
     "name": "stderr",
     "output_type": "stream",
     "text": [
      "/Users/karima/GoogleDrive/KarimaWork/PhD_Third_Year/Research/Privacy_Fairness/Theoritical_Work/Experiments/GroupFairnessNotions.py:45: RuntimeWarning: invalid value encountered in true_divide\n",
      "  return TP/float(TP+FN)\n"
     ]
    },
    {
     "name": "stdout",
     "output_type": "stream",
     "text": [
      "15\n"
     ]
    },
    {
     "name": "stderr",
     "output_type": "stream",
     "text": [
      "/Users/karima/GoogleDrive/KarimaWork/PhD_Third_Year/Research/Privacy_Fairness/Theoritical_Work/Experiments/GroupFairnessNotions.py:45: RuntimeWarning: invalid value encountered in true_divide\n",
      "  return TP/float(TP+FN)\n"
     ]
    },
    {
     "name": "stdout",
     "output_type": "stream",
     "text": [
      "16\n"
     ]
    },
    {
     "name": "stderr",
     "output_type": "stream",
     "text": [
      "/Users/karima/GoogleDrive/KarimaWork/PhD_Third_Year/Research/Privacy_Fairness/Theoritical_Work/Experiments/GroupFairnessNotions.py:45: RuntimeWarning: invalid value encountered in true_divide\n",
      "  return TP/float(TP+FN)\n"
     ]
    },
    {
     "name": "stdout",
     "output_type": "stream",
     "text": [
      "17\n"
     ]
    },
    {
     "name": "stderr",
     "output_type": "stream",
     "text": [
      "/Users/karima/GoogleDrive/KarimaWork/PhD_Third_Year/Research/Privacy_Fairness/Theoritical_Work/Experiments/GroupFairnessNotions.py:45: RuntimeWarning: invalid value encountered in true_divide\n",
      "  return TP/float(TP+FN)\n"
     ]
    },
    {
     "name": "stdout",
     "output_type": "stream",
     "text": [
      "18\n"
     ]
    },
    {
     "name": "stderr",
     "output_type": "stream",
     "text": [
      "/Users/karima/GoogleDrive/KarimaWork/PhD_Third_Year/Research/Privacy_Fairness/Theoritical_Work/Experiments/GroupFairnessNotions.py:45: RuntimeWarning: invalid value encountered in true_divide\n",
      "  return TP/float(TP+FN)\n"
     ]
    },
    {
     "name": "stdout",
     "output_type": "stream",
     "text": [
      "19\n"
     ]
    },
    {
     "name": "stderr",
     "output_type": "stream",
     "text": [
      "/Users/karima/GoogleDrive/KarimaWork/PhD_Third_Year/Research/Privacy_Fairness/Theoritical_Work/Experiments/GroupFairnessNotions.py:45: RuntimeWarning: invalid value encountered in true_divide\n",
      "  return TP/float(TP+FN)\n"
     ]
    }
   ],
   "source": [
    "np_sp_min1, np_sp_maj1, np_sd = [], [], []\n",
    "np_acc1 = []\n",
    "np_oa_min1, np_oa_maj1, np_oad = [], [], []\n",
    "ndp_csp_minX0, ndp_csp_majX0, np_csd_X0, ndp_csp_minX1, ndp_csp_majX1, np_csd_X1 = [], [] ,[] , [],[], []\n",
    "np_eo_min1, np_eo_maj1, np_eod = [], [], []\n",
    "np_pe_min1, np_pe_maj1, np_ped = [], [], []\n",
    "\n",
    "\n",
    "for seed in range(nb_seed):\n",
    "    print(seed)\n",
    "    np.random.seed(seed) # for reproducibility\n",
    "    \n",
    "    # Use original datasets\n",
    "    X = copy.deepcopy(df.drop(target, axis=1))\n",
    "    y = copy.deepcopy(df[target])\n",
    "\n",
    "    # Train test splitting\n",
    "    X_train, X_test, y_train, y_test = train_test_split(X, y, test_size=test_size, shuffle=True, stratify=y, random_state=seed)\n",
    "    \n",
    "    # instantiate and train model\n",
    "    model = RandomForestClassifier(n_jobs=-1)\n",
    "    model.fit(X_train, y_train)\n",
    "    y_pred = model.predict(X_test)\n",
    "    acc = accuracy_score(y_test, y_pred)\n",
    "\n",
    "    # retrieving minority, majority from the test set\n",
    "    X_test_min, X_test_maj = X_test[X_test[protected_att] == 0], X_test[X_test[protected_att] == 1]\n",
    "\n",
    "    # predicted outcomes for minority, majority\n",
    "    y_pred_min, y_pred_maj = model.predict(X_test_min), model.predict(X_test_maj)\n",
    "\n",
    "    indices_min, indices_maj = X_test_min.index, X_test_maj.index\n",
    "    y_test_min, y_test_maj = y_test.get(key = indices_min), y_test.get(key = indices_maj)\n",
    "    \n",
    "    # Needed for the computation of Cond.Stat.Disp\n",
    "            \n",
    "    # retrieving four groups: A=0_X=0, A0_X=1, A1_X=0, A1_X=1 from the test set\n",
    "\n",
    "    X_test_min_X0, X_test_min_X1, X_test_maj_X0, X_test_maj_X1 = X_test[(X_test[protected_att] == 0) & (X_test['X'] == 0)], X_test[(X_test[protected_att] == 0) & (X_test['X'] == 1)],X_test[(X_test[protected_att] == 1) & (X_test['X'] == 0)], X_test[(X_test[protected_att] == 1) & (X_test['X'] == 1)]\n",
    "    \n",
    "    \n",
    "    # confusion matrix for minority, majority\n",
    "    conf_matrix_min, conf_matrix_maj = confusion_matrix_scorer(y_test_min,y_pred_min), confusion_matrix_scorer(y_test_maj,y_pred_maj)\n",
    "    \n",
    "    # predicted outcomes for the four groups\n",
    "    y_pred_min_X0, y_pred_min_X1, y_pred_maj_X0, y_pred_maj_X1 = model.predict(X_test_min_X0), model.predict(X_test_min_X1), model.predict(X_test_maj_X0), model.predict(X_test_maj_X1)  \n",
    "#     pred_A0_X0.append(y_pred_min_X0)\n",
    "#     pred_A0_X1.append(y_pred_min_X1)\n",
    "#     pred_A1_X0.append(y_pred_min_X0)\n",
    "#     pred_A1_X1.append(y_pred_maj_X1)\n",
    "    \n",
    "    # computing fairness metrics\n",
    "    np_sp_min1.append(Statistical_parity(y_pred_min))\n",
    "    np_sp_maj1.append(Statistical_parity(y_pred_maj))\n",
    "    np_sd.append(Metric_disparity(Statistical_parity(y_pred_maj), Statistical_parity(y_pred_min)))\n",
    "    np_eo_min1.append(Equal_opportunity(conf_matrix_min))\n",
    "    np_eo_maj1.append(Equal_opportunity(conf_matrix_maj))\n",
    "    np_eod.append(Metric_disparity(Equal_opportunity(conf_matrix_maj), Equal_opportunity(conf_matrix_min)))\n",
    "    np_pe_min1.append(Predictive_equality(conf_matrix_min))\n",
    "    np_pe_maj1.append(Predictive_equality(conf_matrix_maj))\n",
    "    np_ped.append(Metric_disparity(Predictive_equality(conf_matrix_maj), Predictive_equality(conf_matrix_min)))\n",
    "    ndp_csp_minX0.append(Statistical_parity(y_pred_min_X0))\n",
    "    ndp_csp_majX0.append(Statistical_parity(y_pred_maj_X0))\n",
    "    np_csd_X0.append(Metric_disparity(Statistical_parity(y_pred_maj_X0), Statistical_parity(y_pred_min_X0)))\n",
    "    ndp_csp_minX1.append(Statistical_parity(y_pred_min_X1))\n",
    "    ndp_csp_majX1.append(Statistical_parity(y_pred_maj_X1))  \n",
    "    np_csd_X1.append(Metric_disparity(Statistical_parity(y_pred_maj_X1), Statistical_parity(y_pred_min_X1)))\n",
    "    np_oa_min1.append(Overall_accuracy(y_test_min, y_pred_min))\n",
    "    np_oa_maj1.append(Overall_accuracy(y_test_maj, y_pred_maj))\n",
    "    np_oad.append(Metric_disparity(Overall_accuracy(y_test_maj, y_pred_maj), Overall_accuracy(y_test_min, y_pred_min)))\n",
    "    np_acc1.append(acc)\n"
   ]
  },
  {
   "cell_type": "code",
   "execution_count": 14,
   "metadata": {},
   "outputs": [
    {
     "name": "stdout",
     "output_type": "stream",
     "text": [
      "\n",
      "=======================================No DP=======================================\n",
      "\n",
      "Non-Private fairness notions considering the protected attribute A:\n",
      "The predicted acceptance rate (statistical parity) for A=0 is: 0.0\n",
      "The predicted acceptance rate (statistical parity) for A=1 is: 0.4993481673823865\n",
      "The true positive rate (Equal Opporunity) for A=0 is: nan\n",
      "The true positive rate (Equal Opporunity) for A=1 is: 1.0\n",
      "The false positive rate (Predictive Equality) for A=0 is: 0.0\n",
      "The false positive rate (Predictive Equality) for A=1 is: 0.0\n",
      "The conditional acceptance rate for A=0/X=0 is: 0.0\n",
      "The conditional acceptance rate for A=1/X=0 is: 0.0\n",
      "The conditional acceptance rate for A=0/X=1 is: 0.0\n",
      "The conditional acceptance rate for A=1/X=1 is: 1.0\n",
      "The overall accuracy for A=0 is: 1.0\n",
      "The overall accuracy for A=1 is: 1.0\n",
      "The overall accuracy is: 1.0\n"
     ]
    }
   ],
   "source": [
    "print(\"\\n=======================================No DP=======================================\\n\")\n",
    "\n",
    "print('Non-Private fairness notions considering the protected attribute '+str(protected_att)+':')\n",
    "print(\"The predicted acceptance rate (statistical parity) for A=0 is:\", np.mean(np_sp_min1))\n",
    "print(\"The predicted acceptance rate (statistical parity) for A=1 is:\", np.mean(np_sp_maj1))\n",
    "print(\"The true positive rate (Equal Opporunity) for A=0 is:\", np.mean(np_eo_min1))\n",
    "print(\"The true positive rate (Equal Opporunity) for A=1 is:\", np.mean(np_eo_maj1))\n",
    "print(\"The false positive rate (Predictive Equality) for A=0 is:\", np.mean(np_pe_min1))\n",
    "print(\"The false positive rate (Predictive Equality) for A=1 is:\", np.mean(np_pe_maj1))\n",
    "print(\"The conditional acceptance rate for A=0/X=0 is:\", np.mean(ndp_csp_minX0))\n",
    "print(\"The conditional acceptance rate for A=1/X=0 is:\", np.mean(ndp_csp_majX0)) \n",
    "print(\"The conditional acceptance rate for A=0/X=1 is:\", np.mean(ndp_csp_minX1))\n",
    "print(\"The conditional acceptance rate for A=1/X=1 is:\", np.mean(ndp_csp_majX1))\n",
    "print(\"The overall accuracy for A=0 is:\", np.mean(np_oa_min1))\n",
    "print(\"The overall accuracy for A=1 is:\", np.mean(np_oa_maj1))\n",
    "print(\"The overall accuracy is:\", np.mean(np_acc1))"
   ]
  },
  {
   "cell_type": "markdown",
   "metadata": {},
   "source": [
    "# Starting with Local Differential Privacy"
   ]
  },
  {
   "cell_type": "code",
   "execution_count": null,
   "metadata": {
    "scrolled": false
   },
   "outputs": [
    {
     "name": "stdout",
     "output_type": "stream",
     "text": [
      "\n",
      "========= Setting 1: Local DP: only the sensitive feature is obfuscated =========\n",
      "\n",
      "16\n"
     ]
    },
    {
     "name": "stderr",
     "output_type": "stream",
     "text": [
      "/Users/karima/GoogleDrive/KarimaWork/PhD_Third_Year/Research/Privacy_Fairness/Theoritical_Work/Experiments/GroupFairnessNotions.py:45: RuntimeWarning: invalid value encountered in true_divide\n",
      "  return TP/float(TP+FN)\n",
      "/Users/karima/GoogleDrive/KarimaWork/PhD_Third_Year/Research/Privacy_Fairness/Theoritical_Work/Experiments/GroupFairnessNotions.py:45: RuntimeWarning: invalid value encountered in true_divide\n",
      "  return TP/float(TP+FN)\n",
      "/Users/karima/GoogleDrive/KarimaWork/PhD_Third_Year/Research/Privacy_Fairness/Theoritical_Work/Experiments/GroupFairnessNotions.py:45: RuntimeWarning: invalid value encountered in true_divide\n",
      "  return TP/float(TP+FN)\n",
      "/Users/karima/GoogleDrive/KarimaWork/PhD_Third_Year/Research/Privacy_Fairness/Theoritical_Work/Experiments/GroupFairnessNotions.py:45: RuntimeWarning: invalid value encountered in true_divide\n",
      "  return TP/float(TP+FN)\n",
      "/Users/karima/GoogleDrive/KarimaWork/PhD_Third_Year/Research/Privacy_Fairness/Theoritical_Work/Experiments/GroupFairnessNotions.py:45: RuntimeWarning: invalid value encountered in true_divide\n",
      "  return TP/float(TP+FN)\n",
      "/Users/karima/GoogleDrive/KarimaWork/PhD_Third_Year/Research/Privacy_Fairness/Theoritical_Work/Experiments/GroupFairnessNotions.py:45: RuntimeWarning: invalid value encountered in true_divide\n",
      "  return TP/float(TP+FN)\n",
      "/Users/karima/GoogleDrive/KarimaWork/PhD_Third_Year/Research/Privacy_Fairness/Theoritical_Work/Experiments/GroupFairnessNotions.py:45: RuntimeWarning: invalid value encountered in true_divide\n",
      "  return TP/float(TP+FN)\n",
      "/Users/karima/GoogleDrive/KarimaWork/PhD_Third_Year/Research/Privacy_Fairness/Theoritical_Work/Experiments/GroupFairnessNotions.py:45: RuntimeWarning: invalid value encountered in true_divide\n",
      "  return TP/float(TP+FN)\n",
      "/Users/karima/GoogleDrive/KarimaWork/PhD_Third_Year/Research/Privacy_Fairness/Theoritical_Work/Experiments/GroupFairnessNotions.py:45: RuntimeWarning: invalid value encountered in true_divide\n",
      "  return TP/float(TP+FN)\n",
      "/Users/karima/GoogleDrive/KarimaWork/PhD_Third_Year/Research/Privacy_Fairness/Theoritical_Work/Experiments/GroupFairnessNotions.py:45: RuntimeWarning: invalid value encountered in true_divide\n",
      "  return TP/float(TP+FN)\n",
      "/Users/karima/GoogleDrive/KarimaWork/PhD_Third_Year/Research/Privacy_Fairness/Theoritical_Work/Experiments/GroupFairnessNotions.py:45: RuntimeWarning: invalid value encountered in true_divide\n",
      "  return TP/float(TP+FN)\n",
      "/Users/karima/GoogleDrive/KarimaWork/PhD_Third_Year/Research/Privacy_Fairness/Theoritical_Work/Experiments/GroupFairnessNotions.py:45: RuntimeWarning: invalid value encountered in true_divide\n",
      "  return TP/float(TP+FN)\n",
      "/Users/karima/GoogleDrive/KarimaWork/PhD_Third_Year/Research/Privacy_Fairness/Theoritical_Work/Experiments/GroupFairnessNotions.py:45: RuntimeWarning: invalid value encountered in true_divide\n",
      "  return TP/float(TP+FN)\n",
      "/Users/karima/GoogleDrive/KarimaWork/PhD_Third_Year/Research/Privacy_Fairness/Theoritical_Work/Experiments/GroupFairnessNotions.py:45: RuntimeWarning: invalid value encountered in true_divide\n",
      "  return TP/float(TP+FN)\n",
      "/Users/karima/GoogleDrive/KarimaWork/PhD_Third_Year/Research/Privacy_Fairness/Theoritical_Work/Experiments/GroupFairnessNotions.py:45: RuntimeWarning: invalid value encountered in true_divide\n",
      "  return TP/float(TP+FN)\n",
      "/Users/karima/GoogleDrive/KarimaWork/PhD_Third_Year/Research/Privacy_Fairness/Theoritical_Work/Experiments/GroupFairnessNotions.py:45: RuntimeWarning: invalid value encountered in true_divide\n",
      "  return TP/float(TP+FN)\n",
      "/Users/karima/GoogleDrive/KarimaWork/PhD_Third_Year/Research/Privacy_Fairness/Theoritical_Work/Experiments/GroupFairnessNotions.py:45: RuntimeWarning: invalid value encountered in true_divide\n",
      "  return TP/float(TP+FN)\n",
      "/Users/karima/GoogleDrive/KarimaWork/PhD_Third_Year/Research/Privacy_Fairness/Theoritical_Work/Experiments/GroupFairnessNotions.py:45: RuntimeWarning: invalid value encountered in true_divide\n",
      "  return TP/float(TP+FN)\n",
      "/Users/karima/GoogleDrive/KarimaWork/PhD_Third_Year/Research/Privacy_Fairness/Theoritical_Work/Experiments/GroupFairnessNotions.py:45: RuntimeWarning: invalid value encountered in true_divide\n",
      "  return TP/float(TP+FN)\n",
      "/Users/karima/GoogleDrive/KarimaWork/PhD_Third_Year/Research/Privacy_Fairness/Theoritical_Work/Experiments/GroupFairnessNotions.py:45: RuntimeWarning: invalid value encountered in true_divide\n",
      "  return TP/float(TP+FN)\n"
     ]
    },
    {
     "name": "stdout",
     "output_type": "stream",
     "text": [
      "0.0\n",
      "8\n"
     ]
    },
    {
     "name": "stderr",
     "output_type": "stream",
     "text": [
      "/Users/karima/GoogleDrive/KarimaWork/PhD_Third_Year/Research/Privacy_Fairness/Theoritical_Work/Experiments/GroupFairnessNotions.py:45: RuntimeWarning: invalid value encountered in true_divide\n",
      "  return TP/float(TP+FN)\n",
      "/Users/karima/GoogleDrive/KarimaWork/PhD_Third_Year/Research/Privacy_Fairness/Theoritical_Work/Experiments/GroupFairnessNotions.py:45: RuntimeWarning: invalid value encountered in true_divide\n",
      "  return TP/float(TP+FN)\n",
      "/Users/karima/GoogleDrive/KarimaWork/PhD_Third_Year/Research/Privacy_Fairness/Theoritical_Work/Experiments/GroupFairnessNotions.py:45: RuntimeWarning: invalid value encountered in true_divide\n",
      "  return TP/float(TP+FN)\n",
      "/Users/karima/GoogleDrive/KarimaWork/PhD_Third_Year/Research/Privacy_Fairness/Theoritical_Work/Experiments/GroupFairnessNotions.py:45: RuntimeWarning: invalid value encountered in true_divide\n",
      "  return TP/float(TP+FN)\n",
      "/Users/karima/GoogleDrive/KarimaWork/PhD_Third_Year/Research/Privacy_Fairness/Theoritical_Work/Experiments/GroupFairnessNotions.py:45: RuntimeWarning: invalid value encountered in true_divide\n",
      "  return TP/float(TP+FN)\n",
      "/Users/karima/GoogleDrive/KarimaWork/PhD_Third_Year/Research/Privacy_Fairness/Theoritical_Work/Experiments/GroupFairnessNotions.py:45: RuntimeWarning: invalid value encountered in true_divide\n",
      "  return TP/float(TP+FN)\n",
      "/Users/karima/GoogleDrive/KarimaWork/PhD_Third_Year/Research/Privacy_Fairness/Theoritical_Work/Experiments/GroupFairnessNotions.py:45: RuntimeWarning: invalid value encountered in true_divide\n",
      "  return TP/float(TP+FN)\n",
      "/Users/karima/GoogleDrive/KarimaWork/PhD_Third_Year/Research/Privacy_Fairness/Theoritical_Work/Experiments/GroupFairnessNotions.py:45: RuntimeWarning: invalid value encountered in true_divide\n",
      "  return TP/float(TP+FN)\n",
      "/Users/karima/GoogleDrive/KarimaWork/PhD_Third_Year/Research/Privacy_Fairness/Theoritical_Work/Experiments/GroupFairnessNotions.py:45: RuntimeWarning: invalid value encountered in true_divide\n",
      "  return TP/float(TP+FN)\n",
      "/Users/karima/GoogleDrive/KarimaWork/PhD_Third_Year/Research/Privacy_Fairness/Theoritical_Work/Experiments/GroupFairnessNotions.py:45: RuntimeWarning: invalid value encountered in true_divide\n",
      "  return TP/float(TP+FN)\n",
      "/Users/karima/GoogleDrive/KarimaWork/PhD_Third_Year/Research/Privacy_Fairness/Theoritical_Work/Experiments/GroupFairnessNotions.py:45: RuntimeWarning: invalid value encountered in true_divide\n",
      "  return TP/float(TP+FN)\n",
      "/Users/karima/GoogleDrive/KarimaWork/PhD_Third_Year/Research/Privacy_Fairness/Theoritical_Work/Experiments/GroupFairnessNotions.py:45: RuntimeWarning: invalid value encountered in true_divide\n",
      "  return TP/float(TP+FN)\n",
      "/Users/karima/GoogleDrive/KarimaWork/PhD_Third_Year/Research/Privacy_Fairness/Theoritical_Work/Experiments/GroupFairnessNotions.py:45: RuntimeWarning: invalid value encountered in true_divide\n",
      "  return TP/float(TP+FN)\n",
      "/Users/karima/GoogleDrive/KarimaWork/PhD_Third_Year/Research/Privacy_Fairness/Theoritical_Work/Experiments/GroupFairnessNotions.py:45: RuntimeWarning: invalid value encountered in true_divide\n",
      "  return TP/float(TP+FN)\n",
      "/Users/karima/GoogleDrive/KarimaWork/PhD_Third_Year/Research/Privacy_Fairness/Theoritical_Work/Experiments/GroupFairnessNotions.py:45: RuntimeWarning: invalid value encountered in true_divide\n",
      "  return TP/float(TP+FN)\n",
      "/Users/karima/GoogleDrive/KarimaWork/PhD_Third_Year/Research/Privacy_Fairness/Theoritical_Work/Experiments/GroupFairnessNotions.py:45: RuntimeWarning: invalid value encountered in true_divide\n",
      "  return TP/float(TP+FN)\n",
      "/Users/karima/GoogleDrive/KarimaWork/PhD_Third_Year/Research/Privacy_Fairness/Theoritical_Work/Experiments/GroupFairnessNotions.py:45: RuntimeWarning: invalid value encountered in true_divide\n",
      "  return TP/float(TP+FN)\n",
      "/Users/karima/GoogleDrive/KarimaWork/PhD_Third_Year/Research/Privacy_Fairness/Theoritical_Work/Experiments/GroupFairnessNotions.py:45: RuntimeWarning: invalid value encountered in true_divide\n",
      "  return TP/float(TP+FN)\n",
      "/Users/karima/GoogleDrive/KarimaWork/PhD_Third_Year/Research/Privacy_Fairness/Theoritical_Work/Experiments/GroupFairnessNotions.py:45: RuntimeWarning: invalid value encountered in true_divide\n",
      "  return TP/float(TP+FN)\n",
      "/Users/karima/GoogleDrive/KarimaWork/PhD_Third_Year/Research/Privacy_Fairness/Theoritical_Work/Experiments/GroupFairnessNotions.py:45: RuntimeWarning: invalid value encountered in true_divide\n",
      "  return TP/float(TP+FN)\n"
     ]
    },
    {
     "name": "stdout",
     "output_type": "stream",
     "text": [
      "0.0\n",
      "2\n"
     ]
    },
    {
     "name": "stderr",
     "output_type": "stream",
     "text": [
      "/Users/karima/GoogleDrive/KarimaWork/PhD_Third_Year/Research/Privacy_Fairness/Theoritical_Work/Experiments/GroupFairnessNotions.py:45: RuntimeWarning: invalid value encountered in true_divide\n",
      "  return TP/float(TP+FN)\n",
      "/Users/karima/GoogleDrive/KarimaWork/PhD_Third_Year/Research/Privacy_Fairness/Theoritical_Work/Experiments/GroupFairnessNotions.py:45: RuntimeWarning: invalid value encountered in true_divide\n",
      "  return TP/float(TP+FN)\n",
      "/Users/karima/GoogleDrive/KarimaWork/PhD_Third_Year/Research/Privacy_Fairness/Theoritical_Work/Experiments/GroupFairnessNotions.py:45: RuntimeWarning: invalid value encountered in true_divide\n",
      "  return TP/float(TP+FN)\n",
      "/Users/karima/GoogleDrive/KarimaWork/PhD_Third_Year/Research/Privacy_Fairness/Theoritical_Work/Experiments/GroupFairnessNotions.py:45: RuntimeWarning: invalid value encountered in true_divide\n",
      "  return TP/float(TP+FN)\n",
      "/Users/karima/GoogleDrive/KarimaWork/PhD_Third_Year/Research/Privacy_Fairness/Theoritical_Work/Experiments/GroupFairnessNotions.py:45: RuntimeWarning: invalid value encountered in true_divide\n",
      "  return TP/float(TP+FN)\n",
      "/Users/karima/GoogleDrive/KarimaWork/PhD_Third_Year/Research/Privacy_Fairness/Theoritical_Work/Experiments/GroupFairnessNotions.py:45: RuntimeWarning: invalid value encountered in true_divide\n",
      "  return TP/float(TP+FN)\n",
      "/Users/karima/GoogleDrive/KarimaWork/PhD_Third_Year/Research/Privacy_Fairness/Theoritical_Work/Experiments/GroupFairnessNotions.py:45: RuntimeWarning: invalid value encountered in true_divide\n",
      "  return TP/float(TP+FN)\n",
      "/Users/karima/GoogleDrive/KarimaWork/PhD_Third_Year/Research/Privacy_Fairness/Theoritical_Work/Experiments/GroupFairnessNotions.py:45: RuntimeWarning: invalid value encountered in true_divide\n",
      "  return TP/float(TP+FN)\n",
      "/Users/karima/GoogleDrive/KarimaWork/PhD_Third_Year/Research/Privacy_Fairness/Theoritical_Work/Experiments/GroupFairnessNotions.py:45: RuntimeWarning: invalid value encountered in true_divide\n",
      "  return TP/float(TP+FN)\n",
      "/Users/karima/GoogleDrive/KarimaWork/PhD_Third_Year/Research/Privacy_Fairness/Theoritical_Work/Experiments/GroupFairnessNotions.py:45: RuntimeWarning: invalid value encountered in true_divide\n",
      "  return TP/float(TP+FN)\n",
      "/Users/karima/GoogleDrive/KarimaWork/PhD_Third_Year/Research/Privacy_Fairness/Theoritical_Work/Experiments/GroupFairnessNotions.py:45: RuntimeWarning: invalid value encountered in true_divide\n",
      "  return TP/float(TP+FN)\n",
      "/Users/karima/GoogleDrive/KarimaWork/PhD_Third_Year/Research/Privacy_Fairness/Theoritical_Work/Experiments/GroupFairnessNotions.py:45: RuntimeWarning: invalid value encountered in true_divide\n",
      "  return TP/float(TP+FN)\n",
      "/Users/karima/GoogleDrive/KarimaWork/PhD_Third_Year/Research/Privacy_Fairness/Theoritical_Work/Experiments/GroupFairnessNotions.py:45: RuntimeWarning: invalid value encountered in true_divide\n",
      "  return TP/float(TP+FN)\n",
      "/Users/karima/GoogleDrive/KarimaWork/PhD_Third_Year/Research/Privacy_Fairness/Theoritical_Work/Experiments/GroupFairnessNotions.py:45: RuntimeWarning: invalid value encountered in true_divide\n",
      "  return TP/float(TP+FN)\n",
      "/Users/karima/GoogleDrive/KarimaWork/PhD_Third_Year/Research/Privacy_Fairness/Theoritical_Work/Experiments/GroupFairnessNotions.py:45: RuntimeWarning: invalid value encountered in true_divide\n",
      "  return TP/float(TP+FN)\n",
      "/Users/karima/GoogleDrive/KarimaWork/PhD_Third_Year/Research/Privacy_Fairness/Theoritical_Work/Experiments/GroupFairnessNotions.py:45: RuntimeWarning: invalid value encountered in true_divide\n",
      "  return TP/float(TP+FN)\n",
      "/Users/karima/GoogleDrive/KarimaWork/PhD_Third_Year/Research/Privacy_Fairness/Theoritical_Work/Experiments/GroupFairnessNotions.py:45: RuntimeWarning: invalid value encountered in true_divide\n",
      "  return TP/float(TP+FN)\n",
      "/Users/karima/GoogleDrive/KarimaWork/PhD_Third_Year/Research/Privacy_Fairness/Theoritical_Work/Experiments/GroupFairnessNotions.py:45: RuntimeWarning: invalid value encountered in true_divide\n",
      "  return TP/float(TP+FN)\n",
      "/Users/karima/GoogleDrive/KarimaWork/PhD_Third_Year/Research/Privacy_Fairness/Theoritical_Work/Experiments/GroupFairnessNotions.py:45: RuntimeWarning: invalid value encountered in true_divide\n",
      "  return TP/float(TP+FN)\n",
      "/Users/karima/GoogleDrive/KarimaWork/PhD_Third_Year/Research/Privacy_Fairness/Theoritical_Work/Experiments/GroupFairnessNotions.py:45: RuntimeWarning: invalid value encountered in true_divide\n",
      "  return TP/float(TP+FN)\n"
     ]
    },
    {
     "name": "stdout",
     "output_type": "stream",
     "text": [
      "0.0\n",
      "1\n"
     ]
    },
    {
     "name": "stderr",
     "output_type": "stream",
     "text": [
      "/Users/karima/GoogleDrive/KarimaWork/PhD_Third_Year/Research/Privacy_Fairness/Theoritical_Work/Experiments/GroupFairnessNotions.py:45: RuntimeWarning: invalid value encountered in true_divide\n",
      "  return TP/float(TP+FN)\n",
      "/Users/karima/GoogleDrive/KarimaWork/PhD_Third_Year/Research/Privacy_Fairness/Theoritical_Work/Experiments/GroupFairnessNotions.py:45: RuntimeWarning: invalid value encountered in true_divide\n",
      "  return TP/float(TP+FN)\n",
      "/Users/karima/GoogleDrive/KarimaWork/PhD_Third_Year/Research/Privacy_Fairness/Theoritical_Work/Experiments/GroupFairnessNotions.py:45: RuntimeWarning: invalid value encountered in true_divide\n",
      "  return TP/float(TP+FN)\n",
      "/Users/karima/GoogleDrive/KarimaWork/PhD_Third_Year/Research/Privacy_Fairness/Theoritical_Work/Experiments/GroupFairnessNotions.py:45: RuntimeWarning: invalid value encountered in true_divide\n",
      "  return TP/float(TP+FN)\n",
      "/Users/karima/GoogleDrive/KarimaWork/PhD_Third_Year/Research/Privacy_Fairness/Theoritical_Work/Experiments/GroupFairnessNotions.py:45: RuntimeWarning: invalid value encountered in true_divide\n",
      "  return TP/float(TP+FN)\n",
      "/Users/karima/GoogleDrive/KarimaWork/PhD_Third_Year/Research/Privacy_Fairness/Theoritical_Work/Experiments/GroupFairnessNotions.py:45: RuntimeWarning: invalid value encountered in true_divide\n",
      "  return TP/float(TP+FN)\n",
      "/Users/karima/GoogleDrive/KarimaWork/PhD_Third_Year/Research/Privacy_Fairness/Theoritical_Work/Experiments/GroupFairnessNotions.py:45: RuntimeWarning: invalid value encountered in true_divide\n",
      "  return TP/float(TP+FN)\n",
      "/Users/karima/GoogleDrive/KarimaWork/PhD_Third_Year/Research/Privacy_Fairness/Theoritical_Work/Experiments/GroupFairnessNotions.py:45: RuntimeWarning: invalid value encountered in true_divide\n",
      "  return TP/float(TP+FN)\n",
      "/Users/karima/GoogleDrive/KarimaWork/PhD_Third_Year/Research/Privacy_Fairness/Theoritical_Work/Experiments/GroupFairnessNotions.py:45: RuntimeWarning: invalid value encountered in true_divide\n",
      "  return TP/float(TP+FN)\n",
      "/Users/karima/GoogleDrive/KarimaWork/PhD_Third_Year/Research/Privacy_Fairness/Theoritical_Work/Experiments/GroupFairnessNotions.py:45: RuntimeWarning: invalid value encountered in true_divide\n",
      "  return TP/float(TP+FN)\n",
      "/Users/karima/GoogleDrive/KarimaWork/PhD_Third_Year/Research/Privacy_Fairness/Theoritical_Work/Experiments/GroupFairnessNotions.py:45: RuntimeWarning: invalid value encountered in true_divide\n",
      "  return TP/float(TP+FN)\n",
      "/Users/karima/GoogleDrive/KarimaWork/PhD_Third_Year/Research/Privacy_Fairness/Theoritical_Work/Experiments/GroupFairnessNotions.py:45: RuntimeWarning: invalid value encountered in true_divide\n",
      "  return TP/float(TP+FN)\n",
      "/Users/karima/GoogleDrive/KarimaWork/PhD_Third_Year/Research/Privacy_Fairness/Theoritical_Work/Experiments/GroupFairnessNotions.py:45: RuntimeWarning: invalid value encountered in true_divide\n",
      "  return TP/float(TP+FN)\n",
      "/Users/karima/GoogleDrive/KarimaWork/PhD_Third_Year/Research/Privacy_Fairness/Theoritical_Work/Experiments/GroupFairnessNotions.py:45: RuntimeWarning: invalid value encountered in true_divide\n",
      "  return TP/float(TP+FN)\n",
      "/Users/karima/GoogleDrive/KarimaWork/PhD_Third_Year/Research/Privacy_Fairness/Theoritical_Work/Experiments/GroupFairnessNotions.py:45: RuntimeWarning: invalid value encountered in true_divide\n",
      "  return TP/float(TP+FN)\n",
      "/Users/karima/GoogleDrive/KarimaWork/PhD_Third_Year/Research/Privacy_Fairness/Theoritical_Work/Experiments/GroupFairnessNotions.py:45: RuntimeWarning: invalid value encountered in true_divide\n",
      "  return TP/float(TP+FN)\n",
      "/Users/karima/GoogleDrive/KarimaWork/PhD_Third_Year/Research/Privacy_Fairness/Theoritical_Work/Experiments/GroupFairnessNotions.py:45: RuntimeWarning: invalid value encountered in true_divide\n",
      "  return TP/float(TP+FN)\n",
      "/Users/karima/GoogleDrive/KarimaWork/PhD_Third_Year/Research/Privacy_Fairness/Theoritical_Work/Experiments/GroupFairnessNotions.py:45: RuntimeWarning: invalid value encountered in true_divide\n",
      "  return TP/float(TP+FN)\n",
      "/Users/karima/GoogleDrive/KarimaWork/PhD_Third_Year/Research/Privacy_Fairness/Theoritical_Work/Experiments/GroupFairnessNotions.py:45: RuntimeWarning: invalid value encountered in true_divide\n",
      "  return TP/float(TP+FN)\n",
      "/Users/karima/GoogleDrive/KarimaWork/PhD_Third_Year/Research/Privacy_Fairness/Theoritical_Work/Experiments/GroupFairnessNotions.py:45: RuntimeWarning: invalid value encountered in true_divide\n",
      "  return TP/float(TP+FN)\n"
     ]
    },
    {
     "name": "stdout",
     "output_type": "stream",
     "text": [
      "0.0\n",
      "0.85\n"
     ]
    },
    {
     "name": "stderr",
     "output_type": "stream",
     "text": [
      "/Users/karima/GoogleDrive/KarimaWork/PhD_Third_Year/Research/Privacy_Fairness/Theoritical_Work/Experiments/GroupFairnessNotions.py:45: RuntimeWarning: invalid value encountered in true_divide\n",
      "  return TP/float(TP+FN)\n",
      "/Users/karima/GoogleDrive/KarimaWork/PhD_Third_Year/Research/Privacy_Fairness/Theoritical_Work/Experiments/GroupFairnessNotions.py:45: RuntimeWarning: invalid value encountered in true_divide\n",
      "  return TP/float(TP+FN)\n",
      "/Users/karima/GoogleDrive/KarimaWork/PhD_Third_Year/Research/Privacy_Fairness/Theoritical_Work/Experiments/GroupFairnessNotions.py:45: RuntimeWarning: invalid value encountered in true_divide\n",
      "  return TP/float(TP+FN)\n",
      "/Users/karima/GoogleDrive/KarimaWork/PhD_Third_Year/Research/Privacy_Fairness/Theoritical_Work/Experiments/GroupFairnessNotions.py:45: RuntimeWarning: invalid value encountered in true_divide\n",
      "  return TP/float(TP+FN)\n",
      "/Users/karima/GoogleDrive/KarimaWork/PhD_Third_Year/Research/Privacy_Fairness/Theoritical_Work/Experiments/GroupFairnessNotions.py:45: RuntimeWarning: invalid value encountered in true_divide\n",
      "  return TP/float(TP+FN)\n",
      "/Users/karima/GoogleDrive/KarimaWork/PhD_Third_Year/Research/Privacy_Fairness/Theoritical_Work/Experiments/GroupFairnessNotions.py:45: RuntimeWarning: invalid value encountered in true_divide\n",
      "  return TP/float(TP+FN)\n",
      "/Users/karima/GoogleDrive/KarimaWork/PhD_Third_Year/Research/Privacy_Fairness/Theoritical_Work/Experiments/GroupFairnessNotions.py:45: RuntimeWarning: invalid value encountered in true_divide\n",
      "  return TP/float(TP+FN)\n",
      "/Users/karima/GoogleDrive/KarimaWork/PhD_Third_Year/Research/Privacy_Fairness/Theoritical_Work/Experiments/GroupFairnessNotions.py:45: RuntimeWarning: invalid value encountered in true_divide\n",
      "  return TP/float(TP+FN)\n",
      "/Users/karima/GoogleDrive/KarimaWork/PhD_Third_Year/Research/Privacy_Fairness/Theoritical_Work/Experiments/GroupFairnessNotions.py:45: RuntimeWarning: invalid value encountered in true_divide\n",
      "  return TP/float(TP+FN)\n",
      "/Users/karima/GoogleDrive/KarimaWork/PhD_Third_Year/Research/Privacy_Fairness/Theoritical_Work/Experiments/GroupFairnessNotions.py:45: RuntimeWarning: invalid value encountered in true_divide\n",
      "  return TP/float(TP+FN)\n",
      "/Users/karima/GoogleDrive/KarimaWork/PhD_Third_Year/Research/Privacy_Fairness/Theoritical_Work/Experiments/GroupFairnessNotions.py:45: RuntimeWarning: invalid value encountered in true_divide\n",
      "  return TP/float(TP+FN)\n",
      "/Users/karima/GoogleDrive/KarimaWork/PhD_Third_Year/Research/Privacy_Fairness/Theoritical_Work/Experiments/GroupFairnessNotions.py:45: RuntimeWarning: invalid value encountered in true_divide\n",
      "  return TP/float(TP+FN)\n",
      "/Users/karima/GoogleDrive/KarimaWork/PhD_Third_Year/Research/Privacy_Fairness/Theoritical_Work/Experiments/GroupFairnessNotions.py:45: RuntimeWarning: invalid value encountered in true_divide\n",
      "  return TP/float(TP+FN)\n",
      "/Users/karima/GoogleDrive/KarimaWork/PhD_Third_Year/Research/Privacy_Fairness/Theoritical_Work/Experiments/GroupFairnessNotions.py:45: RuntimeWarning: invalid value encountered in true_divide\n",
      "  return TP/float(TP+FN)\n",
      "/Users/karima/GoogleDrive/KarimaWork/PhD_Third_Year/Research/Privacy_Fairness/Theoritical_Work/Experiments/GroupFairnessNotions.py:45: RuntimeWarning: invalid value encountered in true_divide\n",
      "  return TP/float(TP+FN)\n",
      "/Users/karima/GoogleDrive/KarimaWork/PhD_Third_Year/Research/Privacy_Fairness/Theoritical_Work/Experiments/GroupFairnessNotions.py:45: RuntimeWarning: invalid value encountered in true_divide\n",
      "  return TP/float(TP+FN)\n",
      "/Users/karima/GoogleDrive/KarimaWork/PhD_Third_Year/Research/Privacy_Fairness/Theoritical_Work/Experiments/GroupFairnessNotions.py:45: RuntimeWarning: invalid value encountered in true_divide\n",
      "  return TP/float(TP+FN)\n",
      "/Users/karima/GoogleDrive/KarimaWork/PhD_Third_Year/Research/Privacy_Fairness/Theoritical_Work/Experiments/GroupFairnessNotions.py:45: RuntimeWarning: invalid value encountered in true_divide\n",
      "  return TP/float(TP+FN)\n",
      "/Users/karima/GoogleDrive/KarimaWork/PhD_Third_Year/Research/Privacy_Fairness/Theoritical_Work/Experiments/GroupFairnessNotions.py:45: RuntimeWarning: invalid value encountered in true_divide\n",
      "  return TP/float(TP+FN)\n",
      "/Users/karima/GoogleDrive/KarimaWork/PhD_Third_Year/Research/Privacy_Fairness/Theoritical_Work/Experiments/GroupFairnessNotions.py:45: RuntimeWarning: invalid value encountered in true_divide\n",
      "  return TP/float(TP+FN)\n"
     ]
    },
    {
     "name": "stdout",
     "output_type": "stream",
     "text": [
      "0.22743987405937957\n",
      "0.5\n"
     ]
    },
    {
     "name": "stderr",
     "output_type": "stream",
     "text": [
      "/Users/karima/GoogleDrive/KarimaWork/PhD_Third_Year/Research/Privacy_Fairness/Theoritical_Work/Experiments/GroupFairnessNotions.py:45: RuntimeWarning: invalid value encountered in true_divide\n",
      "  return TP/float(TP+FN)\n",
      "/Users/karima/GoogleDrive/KarimaWork/PhD_Third_Year/Research/Privacy_Fairness/Theoritical_Work/Experiments/GroupFairnessNotions.py:45: RuntimeWarning: invalid value encountered in true_divide\n",
      "  return TP/float(TP+FN)\n",
      "/Users/karima/GoogleDrive/KarimaWork/PhD_Third_Year/Research/Privacy_Fairness/Theoritical_Work/Experiments/GroupFairnessNotions.py:45: RuntimeWarning: invalid value encountered in true_divide\n",
      "  return TP/float(TP+FN)\n",
      "/Users/karima/GoogleDrive/KarimaWork/PhD_Third_Year/Research/Privacy_Fairness/Theoritical_Work/Experiments/GroupFairnessNotions.py:45: RuntimeWarning: invalid value encountered in true_divide\n",
      "  return TP/float(TP+FN)\n",
      "/Users/karima/GoogleDrive/KarimaWork/PhD_Third_Year/Research/Privacy_Fairness/Theoritical_Work/Experiments/GroupFairnessNotions.py:45: RuntimeWarning: invalid value encountered in true_divide\n",
      "  return TP/float(TP+FN)\n",
      "/Users/karima/GoogleDrive/KarimaWork/PhD_Third_Year/Research/Privacy_Fairness/Theoritical_Work/Experiments/GroupFairnessNotions.py:45: RuntimeWarning: invalid value encountered in true_divide\n",
      "  return TP/float(TP+FN)\n",
      "/Users/karima/GoogleDrive/KarimaWork/PhD_Third_Year/Research/Privacy_Fairness/Theoritical_Work/Experiments/GroupFairnessNotions.py:45: RuntimeWarning: invalid value encountered in true_divide\n",
      "  return TP/float(TP+FN)\n",
      "/Users/karima/GoogleDrive/KarimaWork/PhD_Third_Year/Research/Privacy_Fairness/Theoritical_Work/Experiments/GroupFairnessNotions.py:45: RuntimeWarning: invalid value encountered in true_divide\n",
      "  return TP/float(TP+FN)\n",
      "/Users/karima/GoogleDrive/KarimaWork/PhD_Third_Year/Research/Privacy_Fairness/Theoritical_Work/Experiments/GroupFairnessNotions.py:45: RuntimeWarning: invalid value encountered in true_divide\n",
      "  return TP/float(TP+FN)\n",
      "/Users/karima/GoogleDrive/KarimaWork/PhD_Third_Year/Research/Privacy_Fairness/Theoritical_Work/Experiments/GroupFairnessNotions.py:45: RuntimeWarning: invalid value encountered in true_divide\n",
      "  return TP/float(TP+FN)\n",
      "/Users/karima/GoogleDrive/KarimaWork/PhD_Third_Year/Research/Privacy_Fairness/Theoritical_Work/Experiments/GroupFairnessNotions.py:45: RuntimeWarning: invalid value encountered in true_divide\n",
      "  return TP/float(TP+FN)\n",
      "/Users/karima/GoogleDrive/KarimaWork/PhD_Third_Year/Research/Privacy_Fairness/Theoritical_Work/Experiments/GroupFairnessNotions.py:45: RuntimeWarning: invalid value encountered in true_divide\n",
      "  return TP/float(TP+FN)\n",
      "/Users/karima/GoogleDrive/KarimaWork/PhD_Third_Year/Research/Privacy_Fairness/Theoritical_Work/Experiments/GroupFairnessNotions.py:45: RuntimeWarning: invalid value encountered in true_divide\n",
      "  return TP/float(TP+FN)\n",
      "/Users/karima/GoogleDrive/KarimaWork/PhD_Third_Year/Research/Privacy_Fairness/Theoritical_Work/Experiments/GroupFairnessNotions.py:45: RuntimeWarning: invalid value encountered in true_divide\n",
      "  return TP/float(TP+FN)\n",
      "/Users/karima/GoogleDrive/KarimaWork/PhD_Third_Year/Research/Privacy_Fairness/Theoritical_Work/Experiments/GroupFairnessNotions.py:45: RuntimeWarning: invalid value encountered in true_divide\n",
      "  return TP/float(TP+FN)\n",
      "/Users/karima/GoogleDrive/KarimaWork/PhD_Third_Year/Research/Privacy_Fairness/Theoritical_Work/Experiments/GroupFairnessNotions.py:45: RuntimeWarning: invalid value encountered in true_divide\n",
      "  return TP/float(TP+FN)\n",
      "/Users/karima/GoogleDrive/KarimaWork/PhD_Third_Year/Research/Privacy_Fairness/Theoritical_Work/Experiments/GroupFairnessNotions.py:45: RuntimeWarning: invalid value encountered in true_divide\n",
      "  return TP/float(TP+FN)\n",
      "/Users/karima/GoogleDrive/KarimaWork/PhD_Third_Year/Research/Privacy_Fairness/Theoritical_Work/Experiments/GroupFairnessNotions.py:45: RuntimeWarning: invalid value encountered in true_divide\n",
      "  return TP/float(TP+FN)\n",
      "/Users/karima/GoogleDrive/KarimaWork/PhD_Third_Year/Research/Privacy_Fairness/Theoritical_Work/Experiments/GroupFairnessNotions.py:45: RuntimeWarning: invalid value encountered in true_divide\n",
      "  return TP/float(TP+FN)\n",
      "/Users/karima/GoogleDrive/KarimaWork/PhD_Third_Year/Research/Privacy_Fairness/Theoritical_Work/Experiments/GroupFairnessNotions.py:45: RuntimeWarning: invalid value encountered in true_divide\n",
      "  return TP/float(TP+FN)\n"
     ]
    },
    {
     "name": "stdout",
     "output_type": "stream",
     "text": [
      "0.502138002684527\n",
      "0.4\n"
     ]
    },
    {
     "name": "stderr",
     "output_type": "stream",
     "text": [
      "/Users/karima/GoogleDrive/KarimaWork/PhD_Third_Year/Research/Privacy_Fairness/Theoritical_Work/Experiments/GroupFairnessNotions.py:45: RuntimeWarning: invalid value encountered in true_divide\n",
      "  return TP/float(TP+FN)\n",
      "/Users/karima/GoogleDrive/KarimaWork/PhD_Third_Year/Research/Privacy_Fairness/Theoritical_Work/Experiments/GroupFairnessNotions.py:45: RuntimeWarning: invalid value encountered in true_divide\n",
      "  return TP/float(TP+FN)\n",
      "/Users/karima/GoogleDrive/KarimaWork/PhD_Third_Year/Research/Privacy_Fairness/Theoritical_Work/Experiments/GroupFairnessNotions.py:45: RuntimeWarning: invalid value encountered in true_divide\n",
      "  return TP/float(TP+FN)\n",
      "/Users/karima/GoogleDrive/KarimaWork/PhD_Third_Year/Research/Privacy_Fairness/Theoritical_Work/Experiments/GroupFairnessNotions.py:45: RuntimeWarning: invalid value encountered in true_divide\n",
      "  return TP/float(TP+FN)\n",
      "/Users/karima/GoogleDrive/KarimaWork/PhD_Third_Year/Research/Privacy_Fairness/Theoritical_Work/Experiments/GroupFairnessNotions.py:45: RuntimeWarning: invalid value encountered in true_divide\n",
      "  return TP/float(TP+FN)\n",
      "/Users/karima/GoogleDrive/KarimaWork/PhD_Third_Year/Research/Privacy_Fairness/Theoritical_Work/Experiments/GroupFairnessNotions.py:45: RuntimeWarning: invalid value encountered in true_divide\n",
      "  return TP/float(TP+FN)\n",
      "/Users/karima/GoogleDrive/KarimaWork/PhD_Third_Year/Research/Privacy_Fairness/Theoritical_Work/Experiments/GroupFairnessNotions.py:45: RuntimeWarning: invalid value encountered in true_divide\n",
      "  return TP/float(TP+FN)\n",
      "/Users/karima/GoogleDrive/KarimaWork/PhD_Third_Year/Research/Privacy_Fairness/Theoritical_Work/Experiments/GroupFairnessNotions.py:45: RuntimeWarning: invalid value encountered in true_divide\n",
      "  return TP/float(TP+FN)\n",
      "/Users/karima/GoogleDrive/KarimaWork/PhD_Third_Year/Research/Privacy_Fairness/Theoritical_Work/Experiments/GroupFairnessNotions.py:45: RuntimeWarning: invalid value encountered in true_divide\n",
      "  return TP/float(TP+FN)\n",
      "/Users/karima/GoogleDrive/KarimaWork/PhD_Third_Year/Research/Privacy_Fairness/Theoritical_Work/Experiments/GroupFairnessNotions.py:45: RuntimeWarning: invalid value encountered in true_divide\n",
      "  return TP/float(TP+FN)\n",
      "/Users/karima/GoogleDrive/KarimaWork/PhD_Third_Year/Research/Privacy_Fairness/Theoritical_Work/Experiments/GroupFairnessNotions.py:45: RuntimeWarning: invalid value encountered in true_divide\n",
      "  return TP/float(TP+FN)\n",
      "/Users/karima/GoogleDrive/KarimaWork/PhD_Third_Year/Research/Privacy_Fairness/Theoritical_Work/Experiments/GroupFairnessNotions.py:45: RuntimeWarning: invalid value encountered in true_divide\n",
      "  return TP/float(TP+FN)\n",
      "/Users/karima/GoogleDrive/KarimaWork/PhD_Third_Year/Research/Privacy_Fairness/Theoritical_Work/Experiments/GroupFairnessNotions.py:45: RuntimeWarning: invalid value encountered in true_divide\n",
      "  return TP/float(TP+FN)\n",
      "/Users/karima/GoogleDrive/KarimaWork/PhD_Third_Year/Research/Privacy_Fairness/Theoritical_Work/Experiments/GroupFairnessNotions.py:45: RuntimeWarning: invalid value encountered in true_divide\n",
      "  return TP/float(TP+FN)\n",
      "/Users/karima/GoogleDrive/KarimaWork/PhD_Third_Year/Research/Privacy_Fairness/Theoritical_Work/Experiments/GroupFairnessNotions.py:45: RuntimeWarning: invalid value encountered in true_divide\n",
      "  return TP/float(TP+FN)\n",
      "/Users/karima/GoogleDrive/KarimaWork/PhD_Third_Year/Research/Privacy_Fairness/Theoritical_Work/Experiments/GroupFairnessNotions.py:45: RuntimeWarning: invalid value encountered in true_divide\n",
      "  return TP/float(TP+FN)\n",
      "/Users/karima/GoogleDrive/KarimaWork/PhD_Third_Year/Research/Privacy_Fairness/Theoritical_Work/Experiments/GroupFairnessNotions.py:45: RuntimeWarning: invalid value encountered in true_divide\n",
      "  return TP/float(TP+FN)\n",
      "/Users/karima/GoogleDrive/KarimaWork/PhD_Third_Year/Research/Privacy_Fairness/Theoritical_Work/Experiments/GroupFairnessNotions.py:45: RuntimeWarning: invalid value encountered in true_divide\n",
      "  return TP/float(TP+FN)\n",
      "/Users/karima/GoogleDrive/KarimaWork/PhD_Third_Year/Research/Privacy_Fairness/Theoritical_Work/Experiments/GroupFairnessNotions.py:45: RuntimeWarning: invalid value encountered in true_divide\n",
      "  return TP/float(TP+FN)\n",
      "/Users/karima/GoogleDrive/KarimaWork/PhD_Third_Year/Research/Privacy_Fairness/Theoritical_Work/Experiments/GroupFairnessNotions.py:45: RuntimeWarning: invalid value encountered in true_divide\n",
      "  return TP/float(TP+FN)\n"
     ]
    },
    {
     "name": "stdout",
     "output_type": "stream",
     "text": [
      "0.502138002684527\n",
      "0.27\n"
     ]
    },
    {
     "name": "stderr",
     "output_type": "stream",
     "text": [
      "/Users/karima/GoogleDrive/KarimaWork/PhD_Third_Year/Research/Privacy_Fairness/Theoritical_Work/Experiments/GroupFairnessNotions.py:45: RuntimeWarning: invalid value encountered in true_divide\n",
      "  return TP/float(TP+FN)\n",
      "/Users/karima/GoogleDrive/KarimaWork/PhD_Third_Year/Research/Privacy_Fairness/Theoritical_Work/Experiments/GroupFairnessNotions.py:45: RuntimeWarning: invalid value encountered in true_divide\n",
      "  return TP/float(TP+FN)\n",
      "/Users/karima/GoogleDrive/KarimaWork/PhD_Third_Year/Research/Privacy_Fairness/Theoritical_Work/Experiments/GroupFairnessNotions.py:45: RuntimeWarning: invalid value encountered in true_divide\n",
      "  return TP/float(TP+FN)\n",
      "/Users/karima/GoogleDrive/KarimaWork/PhD_Third_Year/Research/Privacy_Fairness/Theoritical_Work/Experiments/GroupFairnessNotions.py:45: RuntimeWarning: invalid value encountered in true_divide\n",
      "  return TP/float(TP+FN)\n",
      "/Users/karima/GoogleDrive/KarimaWork/PhD_Third_Year/Research/Privacy_Fairness/Theoritical_Work/Experiments/GroupFairnessNotions.py:45: RuntimeWarning: invalid value encountered in true_divide\n",
      "  return TP/float(TP+FN)\n",
      "/Users/karima/GoogleDrive/KarimaWork/PhD_Third_Year/Research/Privacy_Fairness/Theoritical_Work/Experiments/GroupFairnessNotions.py:45: RuntimeWarning: invalid value encountered in true_divide\n",
      "  return TP/float(TP+FN)\n",
      "/Users/karima/GoogleDrive/KarimaWork/PhD_Third_Year/Research/Privacy_Fairness/Theoritical_Work/Experiments/GroupFairnessNotions.py:45: RuntimeWarning: invalid value encountered in true_divide\n",
      "  return TP/float(TP+FN)\n",
      "/Users/karima/GoogleDrive/KarimaWork/PhD_Third_Year/Research/Privacy_Fairness/Theoritical_Work/Experiments/GroupFairnessNotions.py:45: RuntimeWarning: invalid value encountered in true_divide\n",
      "  return TP/float(TP+FN)\n",
      "/Users/karima/GoogleDrive/KarimaWork/PhD_Third_Year/Research/Privacy_Fairness/Theoritical_Work/Experiments/GroupFairnessNotions.py:45: RuntimeWarning: invalid value encountered in true_divide\n",
      "  return TP/float(TP+FN)\n",
      "/Users/karima/GoogleDrive/KarimaWork/PhD_Third_Year/Research/Privacy_Fairness/Theoritical_Work/Experiments/GroupFairnessNotions.py:45: RuntimeWarning: invalid value encountered in true_divide\n",
      "  return TP/float(TP+FN)\n",
      "/Users/karima/GoogleDrive/KarimaWork/PhD_Third_Year/Research/Privacy_Fairness/Theoritical_Work/Experiments/GroupFairnessNotions.py:45: RuntimeWarning: invalid value encountered in true_divide\n",
      "  return TP/float(TP+FN)\n",
      "/Users/karima/GoogleDrive/KarimaWork/PhD_Third_Year/Research/Privacy_Fairness/Theoritical_Work/Experiments/GroupFairnessNotions.py:45: RuntimeWarning: invalid value encountered in true_divide\n",
      "  return TP/float(TP+FN)\n",
      "/Users/karima/GoogleDrive/KarimaWork/PhD_Third_Year/Research/Privacy_Fairness/Theoritical_Work/Experiments/GroupFairnessNotions.py:45: RuntimeWarning: invalid value encountered in true_divide\n",
      "  return TP/float(TP+FN)\n",
      "/Users/karima/GoogleDrive/KarimaWork/PhD_Third_Year/Research/Privacy_Fairness/Theoritical_Work/Experiments/GroupFairnessNotions.py:45: RuntimeWarning: invalid value encountered in true_divide\n",
      "  return TP/float(TP+FN)\n",
      "/Users/karima/GoogleDrive/KarimaWork/PhD_Third_Year/Research/Privacy_Fairness/Theoritical_Work/Experiments/GroupFairnessNotions.py:45: RuntimeWarning: invalid value encountered in true_divide\n",
      "  return TP/float(TP+FN)\n",
      "/Users/karima/GoogleDrive/KarimaWork/PhD_Third_Year/Research/Privacy_Fairness/Theoritical_Work/Experiments/GroupFairnessNotions.py:45: RuntimeWarning: invalid value encountered in true_divide\n",
      "  return TP/float(TP+FN)\n",
      "/Users/karima/GoogleDrive/KarimaWork/PhD_Third_Year/Research/Privacy_Fairness/Theoritical_Work/Experiments/GroupFairnessNotions.py:45: RuntimeWarning: invalid value encountered in true_divide\n",
      "  return TP/float(TP+FN)\n",
      "/Users/karima/GoogleDrive/KarimaWork/PhD_Third_Year/Research/Privacy_Fairness/Theoritical_Work/Experiments/GroupFairnessNotions.py:45: RuntimeWarning: invalid value encountered in true_divide\n",
      "  return TP/float(TP+FN)\n",
      "/Users/karima/GoogleDrive/KarimaWork/PhD_Third_Year/Research/Privacy_Fairness/Theoritical_Work/Experiments/GroupFairnessNotions.py:45: RuntimeWarning: invalid value encountered in true_divide\n",
      "  return TP/float(TP+FN)\n",
      "/Users/karima/GoogleDrive/KarimaWork/PhD_Third_Year/Research/Privacy_Fairness/Theoritical_Work/Experiments/GroupFairnessNotions.py:45: RuntimeWarning: invalid value encountered in true_divide\n",
      "  return TP/float(TP+FN)\n"
     ]
    },
    {
     "name": "stdout",
     "output_type": "stream",
     "text": [
      "0.502138002684527\n",
      "0.23\n"
     ]
    },
    {
     "name": "stderr",
     "output_type": "stream",
     "text": [
      "/Users/karima/GoogleDrive/KarimaWork/PhD_Third_Year/Research/Privacy_Fairness/Theoritical_Work/Experiments/GroupFairnessNotions.py:45: RuntimeWarning: invalid value encountered in true_divide\n",
      "  return TP/float(TP+FN)\n",
      "/Users/karima/GoogleDrive/KarimaWork/PhD_Third_Year/Research/Privacy_Fairness/Theoritical_Work/Experiments/GroupFairnessNotions.py:45: RuntimeWarning: invalid value encountered in true_divide\n",
      "  return TP/float(TP+FN)\n",
      "/Users/karima/GoogleDrive/KarimaWork/PhD_Third_Year/Research/Privacy_Fairness/Theoritical_Work/Experiments/GroupFairnessNotions.py:45: RuntimeWarning: invalid value encountered in true_divide\n",
      "  return TP/float(TP+FN)\n",
      "/Users/karima/GoogleDrive/KarimaWork/PhD_Third_Year/Research/Privacy_Fairness/Theoritical_Work/Experiments/GroupFairnessNotions.py:45: RuntimeWarning: invalid value encountered in true_divide\n",
      "  return TP/float(TP+FN)\n",
      "/Users/karima/GoogleDrive/KarimaWork/PhD_Third_Year/Research/Privacy_Fairness/Theoritical_Work/Experiments/GroupFairnessNotions.py:45: RuntimeWarning: invalid value encountered in true_divide\n",
      "  return TP/float(TP+FN)\n",
      "/Users/karima/GoogleDrive/KarimaWork/PhD_Third_Year/Research/Privacy_Fairness/Theoritical_Work/Experiments/GroupFairnessNotions.py:45: RuntimeWarning: invalid value encountered in true_divide\n",
      "  return TP/float(TP+FN)\n",
      "/Users/karima/GoogleDrive/KarimaWork/PhD_Third_Year/Research/Privacy_Fairness/Theoritical_Work/Experiments/GroupFairnessNotions.py:45: RuntimeWarning: invalid value encountered in true_divide\n",
      "  return TP/float(TP+FN)\n",
      "/Users/karima/GoogleDrive/KarimaWork/PhD_Third_Year/Research/Privacy_Fairness/Theoritical_Work/Experiments/GroupFairnessNotions.py:45: RuntimeWarning: invalid value encountered in true_divide\n",
      "  return TP/float(TP+FN)\n",
      "/Users/karima/GoogleDrive/KarimaWork/PhD_Third_Year/Research/Privacy_Fairness/Theoritical_Work/Experiments/GroupFairnessNotions.py:45: RuntimeWarning: invalid value encountered in true_divide\n",
      "  return TP/float(TP+FN)\n",
      "/Users/karima/GoogleDrive/KarimaWork/PhD_Third_Year/Research/Privacy_Fairness/Theoritical_Work/Experiments/GroupFairnessNotions.py:45: RuntimeWarning: invalid value encountered in true_divide\n",
      "  return TP/float(TP+FN)\n",
      "/Users/karima/GoogleDrive/KarimaWork/PhD_Third_Year/Research/Privacy_Fairness/Theoritical_Work/Experiments/GroupFairnessNotions.py:45: RuntimeWarning: invalid value encountered in true_divide\n",
      "  return TP/float(TP+FN)\n",
      "/Users/karima/GoogleDrive/KarimaWork/PhD_Third_Year/Research/Privacy_Fairness/Theoritical_Work/Experiments/GroupFairnessNotions.py:45: RuntimeWarning: invalid value encountered in true_divide\n",
      "  return TP/float(TP+FN)\n",
      "/Users/karima/GoogleDrive/KarimaWork/PhD_Third_Year/Research/Privacy_Fairness/Theoritical_Work/Experiments/GroupFairnessNotions.py:45: RuntimeWarning: invalid value encountered in true_divide\n",
      "  return TP/float(TP+FN)\n",
      "/Users/karima/GoogleDrive/KarimaWork/PhD_Third_Year/Research/Privacy_Fairness/Theoritical_Work/Experiments/GroupFairnessNotions.py:45: RuntimeWarning: invalid value encountered in true_divide\n",
      "  return TP/float(TP+FN)\n",
      "/Users/karima/GoogleDrive/KarimaWork/PhD_Third_Year/Research/Privacy_Fairness/Theoritical_Work/Experiments/GroupFairnessNotions.py:45: RuntimeWarning: invalid value encountered in true_divide\n",
      "  return TP/float(TP+FN)\n",
      "/Users/karima/GoogleDrive/KarimaWork/PhD_Third_Year/Research/Privacy_Fairness/Theoritical_Work/Experiments/GroupFairnessNotions.py:45: RuntimeWarning: invalid value encountered in true_divide\n",
      "  return TP/float(TP+FN)\n"
     ]
    }
   ],
   "source": [
    "starttime = time.time()\n",
    "print(\"\\n========= Setting 1: Local DP: only the sensitive feature is obfuscated =========\\n\")\n",
    "\n",
    "df_cp = copy.deepcopy(df)\n",
    "\n",
    "sldp_sp_min1, sldp_sp_maj1, sldp_sd, sd_std  = [], [], [], []\n",
    "sldp_csp_minX0, sldp_csp_majX0, sldp_csd_X0, csd_X0_std, sldp_csp_minX1, sldp_csp_majX1, sldp_csd_X1, csd_X1_std = [], [] , [], [], [],[], [], []\n",
    "sldp_oa_min1, sldp_oa_maj1, sldp_oad, oad_std = [], [], [], []\n",
    "sldp_eo_min1, sldp_eo_maj1, sldp_eod, eod_std = [], [], [], []\n",
    "sldp_pe_min1, sldp_pe_maj1, sldp_ped, ped_std = [], [], [], []\n",
    "sldp_acc1 = []\n",
    "\n",
    "\n",
    "\n",
    "for epsilon in lst_eps:\n",
    "    print(epsilon)\n",
    "    \n",
    "    ldp_sp_min, ldp_sp_maj, ldp_sd = [], [], []\n",
    "    ldp_csp_minX0, ldp_csp_majX0, ldp_csd_X0, ldp_csp_minX1, ldp_csp_majX1,ldp_csd_X1 = [], [],[], [], [], []\n",
    "    ldp_acc = []\n",
    "    ldp_oa_min, ldp_oa_maj, ldp_oad  = [], [], []\n",
    "    ldp_eo_min, ldp_eo_maj, ldp_eod  = [], [], []\n",
    "    ldp_pe_min, ldp_pe_maj, ldp_ped = [], [], []\n",
    "    \n",
    "    for seed in range(nb_seed):\n",
    "        #np.random.seed(seed)\n",
    "\n",
    "\n",
    "        # Preparing X and y using pandas\n",
    "        X = copy.deepcopy(df_cp.drop(target, axis=1))\n",
    "        y = copy.deepcopy(df_cp[target])\n",
    "\n",
    "        # Train test splitting\n",
    "        X_train, X_test, y_train, y_test = train_test_split(X, y, test_size=test_size, shuffle=True, stratify=y, random_state=seed)\n",
    "\n",
    "        # Attribute's domain size\n",
    "        k = len(set(X[protected_att]))\n",
    "\n",
    "        # Applying GRR to the protected attribute of the training set\n",
    "        X_train[protected_att] = X_train[protected_att].apply(lambda x: GRR_Client(x, k, epsilon))\n",
    "        \n",
    "        # instantiate and train model\n",
    "        model = RandomForestClassifier(n_jobs=-1)\n",
    "        model.fit(X_train, y_train)\n",
    "\n",
    "        y_pred = model.predict(X_test) # prediction of the actual samples\n",
    "        \n",
    "        acc = accuracy_score(y_test, y_pred)\n",
    "\n",
    "        # retrieving minority, majority from the test set\n",
    "        X_test_min, X_test_maj = X_test[X_test[protected_att] == 0], X_test[X_test[protected_att] == 1]\n",
    "\n",
    "        # predicted outcomes for minority, majority\n",
    "        y_pred_min, y_pred_maj = model.predict(X_test_min), model.predict(X_test_maj)\n",
    "\n",
    "        indices_min, indices_maj = X_test_min.index, X_test_maj.index\n",
    "        y_test_min, y_test_maj = y_test.get(key = indices_min), y_test.get(key = indices_maj)\n",
    "        \n",
    "        \n",
    "        # Needed for the computation of Cond.Stat.Disp\n",
    "            \n",
    "        # retrieving four groups: A=0_X=0, A0_X=1, A1_X=0, A1_X=1 from the test set\n",
    "            \n",
    "        X_test_min_X0, X_test_min_X1, X_test_maj_X0, X_test_maj_X1 = X_test[(X_test[protected_att] == 0) & (X_test['X'] == 0)], X_test[(X_test[protected_att] == 0) & (X_test['X'] == 1)],X_test[(X_test[protected_att] == 1) & (X_test['X'] == 0)], X_test[(X_test[protected_att] == 1) & (X_test['X'] == 1)]\n",
    "        \n",
    "        # confusion matrix for minority, majority\n",
    "        conf_matrix_min, conf_matrix_maj = confusion_matrix_scorer(y_test_min,y_pred_min), confusion_matrix_scorer(y_test_maj,y_pred_maj)\n",
    "\n",
    "        \n",
    "        # predicted outcomes for the four groups\n",
    "        y_pred_min_X0, y_pred_min_X1, y_pred_maj_X0, y_pred_maj_X1 = model.predict(X_test_min_X0), model.predict(X_test_min_X1), model.predict(X_test_maj_X0), model.predict(X_test_maj_X1)  \n",
    "\n",
    "        # computing fairness metrics with obfuscated A\n",
    "        ldp_sp_min.append(Statistical_parity(y_pred_min))\n",
    "        ldp_sp_maj.append(Statistical_parity(y_pred_maj))\n",
    "        ldp_sd.append(Metric_disparity(Statistical_parity(y_pred_maj), Statistical_parity(y_pred_min)))\n",
    "        \n",
    "        ldp_eo_min.append(Equal_opportunity(conf_matrix_min))   \n",
    "        ldp_eo_maj.append(Equal_opportunity(conf_matrix_maj))\n",
    "        ldp_eod.append(Metric_disparity(Equal_opportunity(conf_matrix_maj), Equal_opportunity(conf_matrix_min)))\n",
    "        \n",
    "        ldp_pe_min.append(Predictive_equality(conf_matrix_min))\n",
    "        ldp_pe_maj.append(Predictive_equality(conf_matrix_maj))\n",
    "        ldp_ped.append(Metric_disparity(Predictive_equality(conf_matrix_maj), Predictive_equality(conf_matrix_min)))\n",
    "        \n",
    "        ldp_csp_minX0.append(Statistical_parity(y_pred_min_X0))\n",
    "        ldp_csp_majX0.append(Statistical_parity(y_pred_maj_X0))\n",
    "        ldp_csd_X0.append(Metric_disparity(Statistical_parity(y_pred_maj_X0), Statistical_parity(y_pred_min_X0)))\n",
    "        \n",
    "        ldp_csp_minX1.append(Statistical_parity(y_pred_min_X1))\n",
    "        ldp_csp_majX1.append(Statistical_parity(y_pred_maj_X1))\n",
    "        ldp_csd_X1.append(Metric_disparity(Statistical_parity(y_pred_maj_X1), Statistical_parity(y_pred_min_X1)))\n",
    "        \n",
    "        ldp_oa_min.append(Overall_accuracy(y_test_min, y_pred_min))\n",
    "        ldp_oad.append(Metric_disparity(Overall_accuracy(y_test_maj, y_pred_maj), Overall_accuracy(y_test_min, y_pred_min)))\n",
    "        \n",
    "        ldp_oa_maj.append(Overall_accuracy(y_test_maj, y_pred_maj))        \n",
    "        ldp_acc.append(acc)\n",
    "\n",
    "    print(np.mean(ldp_sp_min))  \n",
    "    sldp_sp_min1.append(np.mean(ldp_sp_min))\n",
    "    sldp_sp_maj1.append(np.mean(ldp_sp_maj))\n",
    "    sldp_sd.append(np.mean(ldp_sd))\n",
    "    sd_std.append(np.std(sldp_sd))\n",
    "    sldp_csp_minX0.append(np.mean(ldp_csp_minX0))\n",
    "    sldp_csp_majX0.append(np.mean(ldp_csp_majX0))\n",
    "    sldp_csd_X0.append(np.mean(ldp_csd_X0))\n",
    "    csd_X0_std.append(np.std(sldp_csd_X0))\n",
    "    sldp_csp_minX1.append(np.mean(ldp_csp_minX1))\n",
    "    sldp_csp_majX1.append(np.mean(ldp_csp_majX1))\n",
    "    sldp_csd_X1.append(np.mean(ldp_csd_X1))\n",
    "    csd_X1_std.append(np.std(sldp_csd_X1))\n",
    "    sldp_oa_min1.append(np.mean(ldp_oa_min))\n",
    "    sldp_oa_maj1.append(np.mean(ldp_oa_maj))\n",
    "    sldp_oad.append(np.mean(ldp_oad))\n",
    "    oad_std.append(np.std(sldp_oad))\n",
    "    sldp_eo_min1.append(np.mean(ldp_eo_min))\n",
    "    sldp_eo_maj1.append(np.mean(ldp_eo_maj))\n",
    "    sldp_eod.append(np.mean(ldp_eod))\n",
    "    eod_std.append(np.std(sldp_eod))\n",
    "    sldp_pe_min1.append(np.mean(ldp_pe_min))\n",
    "    sldp_pe_maj1.append(np.mean(ldp_pe_maj))\n",
    "    sldp_ped.append(np.mean(ldp_ped))\n",
    "    ped_std.append(np.std(sldp_ped))\n",
    "    sldp_acc1.append(np.mean(ldp_acc))\n",
    "    \n",
    "#print(sldp_sp_min1)\n",
    "    \n",
    "print('That took {} seconds'.format(time.time() - starttime)) \n"
   ]
  },
  {
   "cell_type": "code",
   "execution_count": 24,
   "metadata": {},
   "outputs": [
    {
     "name": "stdout",
     "output_type": "stream",
     "text": [
      "SP for Majority, no LDP 1.0\t, sLDP [1.0, 1.0, 1.0, 1.0, 1.0, 1.0, 1.0, 1.0, 1.0, 1.0]\n",
      " SP for Minority, no LDP 0.5006582337603659\t, sLDP [0.5006582337603659, 0.5006582337603659, 0.5006582337603659, 0.5006582337603659, 0.6496918518666396, 1.0, 1.0, 1.0, 1.0, 1.0]\n",
      "CSP for Majority_X0, no LDP 1.0\t, sLDP [1.0, 1.0, 1.0, 1.0, 1.0, 1.0, 1.0, 1.0, 1.0, 1.0]\n",
      " CSP for Minority_X0, no LDP 0.0\t, sLDP [0.0, 0.0, 0.0, 0.0, 0.3, 1.0, 1.0, 1.0, 1.0, 1.0]\n",
      "CSP for Majority/X1, no LDP 1.0\t, sLDP [1.0, 1.0, 1.0, 1.0, 1.0, 1.0, 1.0, 1.0, 1.0, 1.0]\n",
      " CSP for Minority/X1, no LDP 1.0\t, sLDP [1.0, 1.0, 1.0, 1.0, 1.0, 1.0, 1.0, 1.0, 1.0, 1.0]\n",
      "Accuracy for Majority, no LDP 1.0\t, sLDP [1.0, 1.0, 1.0, 1.0, 1.0, 1.0, 1.0, 1.0, 1.0, 1.0]\n",
      " Accuracy for Minority, no LDP 1.0\t, sLDP [1.0, 1.0, 1.0, 1.0, 0.8509663818937263, 0.5006582337603659, 0.5006582337603659, 0.5006582337603659, 0.5006582337603659, 0.5006582337603659]\n",
      "EO for Majority, no LDP 1.0\t, sLDP [1.0, 1.0, 1.0, 1.0, 1.0, 1.0, 1.0, 1.0, 1.0, 1.0]\n",
      " EO for Minority, no LDP 1.0\t, sLDP [1.0, 1.0, 1.0, 1.0, 1.0, 1.0, 1.0, 1.0, 1.0, 1.0]\n",
      "PE for Majority, no LDP nan\t, sLDP [nan, nan, nan, nan, nan, nan, nan, nan, nan, nan]\n",
      " PE for Minority, no LDP 0.0\t, sLDP [0.0, 0.0, 0.0, 0.0, 0.3, 1.0, 1.0, 1.0, 1.0, 1.0]\n"
     ]
    }
   ],
   "source": [
    "print(f'SP for Majority, no LDP {np.mean(np_sp_maj1)}\\t, sLDP {sldp_sp_maj1}\\n SP for Minority, no LDP {np.mean(np_sp_min1)}\\t, sLDP {sldp_sp_min1}')\n",
    "\n",
    "print(f'CSP for Majority_X0, no LDP {np.mean(ndp_csp_majX0)}\\t, sLDP {sldp_csp_majX0}\\n CSP for Minority_X0, no LDP {np.mean(ndp_csp_minX0)}\\t, sLDP {sldp_csp_minX0}')\n",
    "\n",
    "print(f'CSP for Majority/X1, no LDP {np.mean(ndp_csp_majX1)}\\t, sLDP {sldp_csp_majX1}\\n CSP for Minority/X1, no LDP {np.mean(ndp_csp_minX1)}\\t, sLDP {sldp_csp_minX1}')                                    \n",
    "\n",
    "print(f'Accuracy for Majority, no LDP {np.mean(np_oa_maj1)}\\t, sLDP {sldp_oa_maj1}\\n Accuracy for Minority, no LDP {np.mean(np_oa_min1)}\\t, sLDP {sldp_oa_min1}')\n",
    "\n",
    "print(f'EO for Majority, no LDP {np.mean(np_eo_maj1)}\\t, sLDP {sldp_eo_maj1}\\n EO for Minority, no LDP {np.mean(np_eo_min1)}\\t, sLDP {sldp_eo_min1}')\n",
    "\n",
    "print(f'PE for Majority, no LDP {np.mean(np_pe_maj1)}\\t, sLDP {sldp_pe_maj1}\\n PE for Minority, no LDP {np.mean(np_pe_min1)}\\t, sLDP {sldp_pe_min1}')\n",
    "\n"
   ]
  },
  {
   "cell_type": "markdown",
   "metadata": {},
   "source": [
    "## Visualization"
   ]
  },
  {
   "cell_type": "code",
   "execution_count": 28,
   "metadata": {},
   "outputs": [],
   "source": [
    "def Make_subplots_2(lst_eps,dataset_name):    \n",
    "    fig2, ax2 = plt.subplots(1, 2, figsize=(10, 5),sharex='col', sharey=True)\n",
    "    plt.subplots_adjust(wspace=0.1, hspace=0.1)\n",
    "    plt.yticks(fontsize=9)\n",
    "    \n",
    "    #ax2[0].axhline(y=np.mean(np_sp_maj1)-np.mean(np_sp_min1), color='black', label = 'noLDP')\n",
    "    #ax2[0].errorbar(x,sldp_sd,sd_std,color='forestgreen', ecolor='forestgreen',label='SD',fmt='o',markersize=3)\n",
    "    #ax2[0].errorbar(x,ldp_ind_spd2,std_values_indldp2['SPD'],ecolor='magenta',color='magenta',label='kRR-Ind',fmt='-o',markersize=3,alpha=0.6)            \n",
    "    ax2[0].plot(sldp_sd,color='forestgreen', label='SD',marker='o', fillstyle='none')\n",
    "    plt.annotate(\"Baseline\", (lst_eps[0], np.mean(np_sp_maj1)-np.mean(np_sp_min1)))\n",
    "    \n",
    "    #ax2[1].axhline(y=np.mean(ndp_csp_majX0)-np.mean(ndp_csp_minX0), color='black', label = 'noLDP')\n",
    "    #ax2[0].errorbar(x,sldp_csd_X0,csd_X0_std,color='red', ecolor='red',label='CSD_x0',fmt='D',markersize=3)\n",
    "    ax2[0].plot(sldp_csd_X0,color='red',label='CSD_x0',marker='D', fillstyle='none')\n",
    "    \n",
    "    #ax2[0].axhline(y=np.mean(ndp_csp_majX1)-np.mean(ndp_csp_minX1), color='black', label = 'noLDP')\n",
    "    #ax2[0].errorbar(x,sldp_csd_X1,csd_X1_std,color='orange', ecolor='orange',label='CSD_x1',fmt='-o',markersize=3)\n",
    "    ax2[0].plot(sldp_csd_X1,color='orange', label='CSD_x1',marker='X', fillstyle='none')\n",
    "    \n",
    "    #ax2[0].axhline(y=np.mean(np_eo_maj1)-np.mean(np_eo_min1), color='black', label = 'noLDP')\n",
    "    #ax2[0].errorbar(x,sldp_eod,eod_std,color='blue', ecolor='blue',label='EOD',fmt='-o',markersize=3, alpha=0.4)\n",
    "    ax2[0].plot(sldp_eod,color='blue', label='EOD',marker='v', alpha=0.4, fillstyle='none')\n",
    "    \n",
    "    #ax2[0].axhline(y=np.mean(np_sp_maj1)-np.mean(np_sp_min1), color='black', label = 'noLDP')\n",
    "    #ax2[0].errorbar(x,sldp_sd,sd_std,color='forestgreen', ecolor='forestgreen',label='SD',fmt='o',markersize=3)\n",
    "    #ax2[0].errorbar(x,ldp_ind_spd2,std_values_indldp2['SPD'],ecolor='magenta',color='magenta',label='kRR-Ind',fmt='-o',markersize=3,alpha=0.6)            \n",
    "    ax2[1].plot(sldp_sd,color='forestgreen', label='SD',marker='o',markersize=3, fillstyle='none')\n",
    "    \n",
    "    \n",
    "    #ax2[1].axhline(y=np.mean(ndp_csp_majX0)-np.mean(ndp_csp_minX0), color='black', label = 'noLDP')\n",
    "    #ax2[0].errorbar(x,sldp_csd_X0,csd_X0_std,color='red', ecolor='red',label='CSD_x0',fmt='D',markersize=3)\n",
    "    ax2[1].plot(sldp_csd_X0,color='red',label='CSD_x0',marker='D',markersize=3)\n",
    "    \n",
    "    #ax2[0].axhline(y=np.mean(ndp_csp_majX1)-np.mean(ndp_csp_minX1), color='black', label = 'noLDP')\n",
    "    #ax2[0].errorbar(x,sldp_csd_X1,csd_X1_std,color='orange', ecolor='orange',label='CSD_x1',fmt='-o',markersize=3)\n",
    "    ax2[1].plot(sldp_csd_X1,color='orange', label='CSD_x1',marker='X',markersize=3)\n",
    "    \n",
    "    #ax2[0].axhline(y=np.mean(np_eo_maj1)-np.mean(np_eo_min1), color='black', label = 'noLDP')\n",
    "    #ax2[0].errorbar(x,sldp_eod,eod_std,color='blue', ecolor='blue',label='EOD',fmt='-o',markersize=3, alpha=0.4)\n",
    "    ax2[1].plot(sldp_eod,color='blue', label='EOD',marker='v',markersize=3, alpha=0.4)\n",
    "    \n",
    "     \n",
    "        \n",
    "#     ax2[4].axhline(y=np.mean(np_pe_maj1)-np.mean(np_pe_min1), color='black', label = 'noLDP')\n",
    "#     ax2[4].errorbar(x,sldp_ped,ped_std,color='forestgreen', ecolor='forestgreen',label='kRR-Comb',fmt='-o',markersize=3)\n",
    "#     #ax2[2].errorbar(x,ldp_ind_ped2,std_values_indldp2['PED'],ecolor='magenta',color='magenta',label='kRR-Ind',fmt='-o',markersize=3,alpha=0.6)       \n",
    "    \n",
    "#     ax2[5].axhline(y=np.mean(np_oa_maj1)-np.mean(np_oa_min1), color='black', label = 'noLDP')\n",
    "#     ax2[5].errorbar(x,sldp_oad,oad_std,color='forestgreen', ecolor='forestgreen',label='kRR-Comb',fmt='-o',markersize=3)\n",
    "#     #ax2[3].errorbar(x,ldp_ind_oad2,std_values_indldp2['OAD'],ecolor='magenta',color='magenta',label='kRR-Ind',fmt='-o',markersize=3,alpha=0.6)       \n",
    "    \n",
    "#     ax2[4].axhline(y=PRP_maj_mean2-PRP_min_mean2, color='black', label = 'noLDP')\n",
    "#     ax2[4].errorbar(x,allsldp_prpd2,std_values_comldp2['PRPD'],color='forestgreen', ecolor='forestgreen',label='kRR-Comb',fmt='-o',markersize=3)\n",
    "#     ax2[4].errorbar(x,ldp_ind_prpd2,std_values_indldp2['PRPD'],ecolor='magenta',color='magenta',label='kRR-Ind',fmt='-o',markersize=3,alpha=0.6)       \n",
    " \n",
    "    #ax2[0].set_title('Synthetic 1 \\n $ X \\perp A$',fontsize=12)\n",
    "    ax2[1].set_title('Synthetic 2 \\n ',fontsize=12)\n",
    "#     ax2[2].set_title('CSD_x1',fontsize=12)\n",
    "#     ax2[3].set_title('EOD',fontsize=12)\n",
    "#     ax2[4].set_title('PED',fontsize=12)\n",
    "#     ax2[5].set_title('OAD',fontsize=12)\n",
    "#     ax2[4].set_title('PRD',fontsize=12)\n",
    "\n",
    "\n",
    "    for j in range(2):\n",
    "        ax2[j].set_xticks(range(len(lst_eps)))        \n",
    "        ax2[j].set_xticklabels(lst_eps,fontsize=9)\n",
    "        ax2[j].set_xlabel('$\\epsilon$', fontsize=12)   \n",
    "        ax2[j].grid(axis='y')\n",
    "        ax2[j].legend(fontsize='8')\n",
    "    # saving the plot as a pdf file\n",
    "    fig2.savefig(path_results + dataset + '.pdf',dpi=100,bbox_inches='tight')\n",
    "    \n",
    "    return fig2.show()"
   ]
  },
  {
   "cell_type": "code",
   "execution_count": 29,
   "metadata": {},
   "outputs": [],
   "source": [
    "x = range(len(lst_eps))"
   ]
  },
  {
   "cell_type": "code",
   "execution_count": 30,
   "metadata": {},
   "outputs": [
    {
     "name": "stderr",
     "output_type": "stream",
     "text": [
      "/usr/local/lib/python3.7/site-packages/ipykernel_launcher.py:74: UserWarning: Matplotlib is currently using module://ipykernel.pylab.backend_inline, which is a non-GUI backend, so cannot show the figure.\n"
     ]
    },
    {
     "data": {
      "image/png": "[encoded data removed]",
      "text/plain": [
       "<Figure size 720x360 with 2 Axes>"
      ]
     },
     "metadata": {
      "needs_background": "light"
     },
     "output_type": "display_data"
    }
   ],
   "source": [
    "Make_subplots_2(lst_eps,'Synthetic1')"
   ]
  },
  {
   "cell_type": "code",
   "execution_count": 124,
   "metadata": {},
   "outputs": [
    {
     "data": {
      "text/plain": [
       "[0.0,\n",
       " 0.0,\n",
       " 0.0,\n",
       " 0.0,\n",
       " 0.2,\n",
       " 0.3818813079129867,\n",
       " 0.4403152859263555,\n",
       " 0.46351240544347894,\n",
       " 0.4714045207910317,\n",
       " 0.47169905660283024]"
      ]
     },
     "execution_count": 124,
     "metadata": {},
     "output_type": "execute_result"
    }
   ],
   "source": [
    "csd_X0_std"
   ]
  },
  {
   "cell_type": "code",
   "execution_count": 60,
   "metadata": {},
   "outputs": [
    {
     "data": {
      "text/plain": [
       "[0.003759694105249853,\n",
       " 0.003759694105249853,\n",
       " 0.003759694105249853,\n",
       " 0.003759694105249853,\n",
       " 0.22862801266543287,\n",
       " 0.0,\n",
       " 0.0,\n",
       " 0.0,\n",
       " 0.0,\n",
       " 0.0]"
      ]
     },
     "execution_count": 60,
     "metadata": {},
     "output_type": "execute_result"
    }
   ],
   "source": [
    "sldp_sd"
   ]
  },
  {
   "cell_type": "code",
   "execution_count": null,
   "metadata": {},
   "outputs": [],
   "source": []
  },
  {
   "cell_type": "markdown",
   "metadata": {},
   "source": [
    "## Case 2:  P(A=1) = 0.7, P(X=0.5), X = 1 and A = 1 --> Y=1\n",
    "\n",
    "\n",
    "A = 1 is majority , P(Y=1, A=1) = P(Y=0, A=1), P(Y=1, A=0) < P(Y=0,A=0)"
   ]
  },
  {
   "cell_type": "markdown",
   "metadata": {},
   "source": [
    "P(A=1) = 0.7, P(Y=1 | A=1) = 0.7, P(Y=1 | A=0) = 0.3 (far from each other)\n",
    "\n",
    "1- Obfuscating A only: \n",
    "    \n",
    "* P(Y^hat = 1 | A=0 ) increased from 0 to [0.0, 0.0, 0.0, 0.37700604343338356, 0.502138002684527, 0.502138002684527, 0.502138002684527, 0.502138002684527]\n",
    "                 \n",
    "* P(Y^hat = 1 | A=1 ) stayed unchanged: 0.4993481673823865\n",
    "\n",
    "2- Obfuscation of A and X independetly:\n",
    "\n",
    "* P(Y^hat = 1 | A=0 ) stayed unchanged: 0\n",
    "\n",
    "* P(Y^hat = 1 | A=1 ) decreased from 0.4993481673823865 to  [0.4993481673823865, 0.4993481673823865, 0.0, 0.0, 0.0, 0.0, 0.0, 0.0]\n",
    "\n",
    "3- Obfuscation of A and X combined:\n",
    "\n",
    "* P(Y^hat = 1 | A=0 ) stayed unchanged: 0\n",
    "\n",
    "* P(Y^hat = 1 | A=1 ) decreased from 0.4993481673823865 [0.4993481673823865, 0.4993481673823865, 0.4993481673823865, 0.4993481673823865, 0.0, 0.0, 0.0, 0.0]\n",
    "                 "
   ]
  },
  {
   "cell_type": "markdown",
   "metadata": {},
   "source": [
    "# 1- P(A=1) = 0.7, P(X=0.5), X = 1 and A = 1 --> Y=1"
   ]
  },
  {
   "cell_type": "code",
   "execution_count": 18,
   "metadata": {},
   "outputs": [
    {
     "name": "stdout",
     "output_type": "stream",
     "text": [
      "15000 15000 35000 35000\n",
      "100000\n"
     ]
    }
   ],
   "source": [
    "x0, x1 = 0.5, 0.5\n",
    "a0, a1 = 0.3, 0.7 \n",
    "\n",
    "\n",
    "p_a0_x0 = np.rint(a0 * x0 * nb_samples).astype(int)\n",
    "p_a0_x1 = np.rint(a0 * x1 * nb_samples).astype(int)\n",
    "p_a1_x0 = np.rint(a1 * x0 * nb_samples).astype(int)\n",
    "p_a1_x1 = np.rint(a1 * x1 * nb_samples).astype(int)\n",
    "\n",
    "\n",
    "print(p_a0_x0, p_a0_x1, p_a1_x0, p_a1_x1)\n",
    "orig_nb_samples = [p_a0_x0, p_a0_x1, p_a1_x0, p_a1_x1]\n",
    "print (sum(orig_nb_samples))\n"
   ]
  },
  {
   "cell_type": "code",
   "execution_count": 19,
   "metadata": {},
   "outputs": [
    {
     "data": {
      "text/html": [
       "<div>\n",
       "<style scoped>\n",
       "    .dataframe tbody tr th:only-of-type {\n",
       "        vertical-align: middle;\n",
       "    }\n",
       "\n",
       "    .dataframe tbody tr th {\n",
       "        vertical-align: top;\n",
       "    }\n",
       "\n",
       "    .dataframe thead th {\n",
       "        text-align: right;\n",
       "    }\n",
       "</style>\n",
       "<table border=\"1\" class=\"dataframe\">\n",
       "  <thead>\n",
       "    <tr style=\"text-align: right;\">\n",
       "      <th></th>\n",
       "      <th>A</th>\n",
       "      <th>X</th>\n",
       "    </tr>\n",
       "  </thead>\n",
       "  <tbody>\n",
       "    <tr>\n",
       "      <th>0</th>\n",
       "      <td>0</td>\n",
       "      <td>0</td>\n",
       "    </tr>\n",
       "    <tr>\n",
       "      <th>1</th>\n",
       "      <td>0</td>\n",
       "      <td>1</td>\n",
       "    </tr>\n",
       "    <tr>\n",
       "      <th>2</th>\n",
       "      <td>1</td>\n",
       "      <td>0</td>\n",
       "    </tr>\n",
       "    <tr>\n",
       "      <th>3</th>\n",
       "      <td>1</td>\n",
       "      <td>1</td>\n",
       "    </tr>\n",
       "  </tbody>\n",
       "</table>\n",
       "</div>"
      ],
      "text/plain": [
       "   A  X\n",
       "0  0  0\n",
       "1  0  1\n",
       "2  1  0\n",
       "3  1  1"
      ]
     },
     "metadata": {},
     "output_type": "display_data"
    }
   ],
   "source": [
    "# creating a list of column names\n",
    "column_values = ['A','X']\n",
    "\n",
    "# creating the patterns of features\n",
    "pattern_features = [x for x in itertools.product([0, 1], repeat=len(column_values))]\n",
    "\n",
    "# creating the dataframe\n",
    "df = pd.DataFrame(data = pattern_features, \n",
    "                  columns = column_values)\n",
    "  \n",
    "# displaying the dataframe\n",
    "display(df)"
   ]
  },
  {
   "cell_type": "code",
   "execution_count": 20,
   "metadata": {
    "scrolled": true
   },
   "outputs": [
    {
     "data": {
      "text/html": [
       "<div>\n",
       "<style scoped>\n",
       "    .dataframe tbody tr th:only-of-type {\n",
       "        vertical-align: middle;\n",
       "    }\n",
       "\n",
       "    .dataframe tbody tr th {\n",
       "        vertical-align: top;\n",
       "    }\n",
       "\n",
       "    .dataframe thead th {\n",
       "        text-align: right;\n",
       "    }\n",
       "</style>\n",
       "<table border=\"1\" class=\"dataframe\">\n",
       "  <thead>\n",
       "    <tr style=\"text-align: right;\">\n",
       "      <th></th>\n",
       "      <th>A</th>\n",
       "      <th>X</th>\n",
       "    </tr>\n",
       "  </thead>\n",
       "  <tbody>\n",
       "    <tr>\n",
       "      <th>0</th>\n",
       "      <td>0</td>\n",
       "      <td>0</td>\n",
       "    </tr>\n",
       "    <tr>\n",
       "      <th>1</th>\n",
       "      <td>0</td>\n",
       "      <td>0</td>\n",
       "    </tr>\n",
       "    <tr>\n",
       "      <th>2</th>\n",
       "      <td>0</td>\n",
       "      <td>0</td>\n",
       "    </tr>\n",
       "    <tr>\n",
       "      <th>3</th>\n",
       "      <td>0</td>\n",
       "      <td>0</td>\n",
       "    </tr>\n",
       "    <tr>\n",
       "      <th>4</th>\n",
       "      <td>0</td>\n",
       "      <td>0</td>\n",
       "    </tr>\n",
       "    <tr>\n",
       "      <th>...</th>\n",
       "      <td>...</td>\n",
       "      <td>...</td>\n",
       "    </tr>\n",
       "    <tr>\n",
       "      <th>99995</th>\n",
       "      <td>1</td>\n",
       "      <td>1</td>\n",
       "    </tr>\n",
       "    <tr>\n",
       "      <th>99996</th>\n",
       "      <td>1</td>\n",
       "      <td>1</td>\n",
       "    </tr>\n",
       "    <tr>\n",
       "      <th>99997</th>\n",
       "      <td>1</td>\n",
       "      <td>1</td>\n",
       "    </tr>\n",
       "    <tr>\n",
       "      <th>99998</th>\n",
       "      <td>1</td>\n",
       "      <td>1</td>\n",
       "    </tr>\n",
       "    <tr>\n",
       "      <th>99999</th>\n",
       "      <td>1</td>\n",
       "      <td>1</td>\n",
       "    </tr>\n",
       "  </tbody>\n",
       "</table>\n",
       "<p>100000 rows × 2 columns</p>\n",
       "</div>"
      ],
      "text/plain": [
       "       A  X\n",
       "0      0  0\n",
       "1      0  0\n",
       "2      0  0\n",
       "3      0  0\n",
       "4      0  0\n",
       "...   .. ..\n",
       "99995  1  1\n",
       "99996  1  1\n",
       "99997  1  1\n",
       "99998  1  1\n",
       "99999  1  1\n",
       "\n",
       "[100000 rows x 2 columns]"
      ]
     },
     "metadata": {},
     "output_type": "display_data"
    }
   ],
   "source": [
    "df['n'] = orig_nb_samples\n",
    "df = df.loc[df.index.repeat(df.n)].reset_index(drop=True)\n",
    "del df['n']\n",
    "display(df)"
   ]
  },
  {
   "cell_type": "code",
   "execution_count": 21,
   "metadata": {},
   "outputs": [],
   "source": [
    "df['Y'] = df.apply(lambda row: int(row.A == 1 and row.X == 1), axis = 1)"
   ]
  },
  {
   "cell_type": "code",
   "execution_count": 22,
   "metadata": {},
   "outputs": [],
   "source": [
    "df.Y.value_counts()\n",
    "A0 = len(df[(df['A'] == 0)])/len(df)\n",
    "A1 = len(df[(df['A'] == 1)])/len(df)\n",
    "X1 = len(df[(df['X'] == 1)])/len(df)\n",
    "X0 = len(df[(df['X'] == 0)])/len(df)"
   ]
  },
  {
   "cell_type": "markdown",
   "metadata": {},
   "source": [
    "## Data Distribution"
   ]
  },
  {
   "cell_type": "code",
   "execution_count": 23,
   "metadata": {},
   "outputs": [
    {
     "name": "stdout",
     "output_type": "stream",
     "text": [
      "0    65000\n",
      "1    35000\n",
      "Name: Y, dtype: int64\n",
      "A0_Y0: 30000\n",
      " A0_Y1: 0\n",
      " A1_Y0: 35000\n",
      " A1_Y1: 35000\n"
     ]
    }
   ],
   "source": [
    "print(df.Y.value_counts())\n",
    "A0_Y0 = len(df[(df['A'] == 0) & (df['Y'] == 0)])\n",
    "A0_Y1 = len(df[(df['A'] == 0) & (df['Y'] == 1)])\n",
    "A1_Y0 = len(df[(df['A'] == 1) & (df['Y'] == 0)])\n",
    "A1_Y1 = len(df[(df['A'] == 1) & (df['Y'] == 1)])\n",
    "print(f'A0_Y0: {A0_Y0}\\n A0_Y1: {A0_Y1}\\n A1_Y0: {A1_Y0}\\n A1_Y1: {A1_Y1}')"
   ]
  },
  {
   "cell_type": "code",
   "execution_count": 24,
   "metadata": {},
   "outputs": [
    {
     "name": "stdout",
     "output_type": "stream",
     "text": [
      "0    50000\n",
      "1    50000\n",
      "Name: X, dtype: int64\n",
      "A0_X0_Y0: 15000\n",
      " A0_X1_Y0: 15000\n",
      " A1_X0_Y0: 35000\n",
      " A1_X1_Y0: 0\n",
      " A0_X0_Y1: 0\n",
      " A0_X1_Y1: 0\n",
      " A1_X0_Y1: 0\n",
      " A1_X1_Y1: 35000\n",
      "\n"
     ]
    }
   ],
   "source": [
    "print(df.X.value_counts())\n",
    "A0_X0_Y0 = len(df[(df['A'] == 0) & (df['X'] == 0) & (df['Y'] == 0)])\n",
    "A0_X1_Y0 = len(df[(df['A'] == 0) & (df['X'] == 1) & (df['Y'] == 0)])\n",
    "A1_X0_Y0 = len(df[(df['A'] == 1) & (df['X'] == 0) & (df['Y'] == 0)])\n",
    "A1_X1_Y0 = len(df[(df['A'] == 1) & (df['X'] == 1) & (df['Y'] == 0)])\n",
    "A0_X0_Y1 = len(df[(df['A'] == 0) & (df['X'] == 0) & (df['Y'] == 1)])\n",
    "A0_X1_Y1 = len(df[(df['A'] == 0) & (df['X'] == 1) & (df['Y'] == 1)])\n",
    "A1_X0_Y1 = len(df[(df['A'] == 1) & (df['X'] == 0) & (df['Y'] == 1)])\n",
    "A1_X1_Y1 = len(df[(df['A'] == 1) & (df['X'] == 1) & (df['Y'] == 1)])\n",
    "\n",
    "print(f'A0_X0_Y0: {A0_X0_Y0}\\n A0_X1_Y0: {A0_X1_Y0}\\n A1_X0_Y0: {A1_X0_Y0}\\n A1_X1_Y0: {A1_X1_Y0}\\n A0_X0_Y1: {A0_X0_Y1}\\n A0_X1_Y1: {A0_X1_Y1}\\n A1_X0_Y1: {A1_X0_Y1}\\n A1_X1_Y1: {A1_X1_Y1}\\n')\n",
    "\n",
    "\n",
    "\n"
   ]
  },
  {
   "cell_type": "code",
   "execution_count": 25,
   "metadata": {},
   "outputs": [],
   "source": [
    "alpha = A0/(A1*X1)\n",
    "upper = -1 +(math. sqrt(1+4*alpha))\n",
    "lower = 2*alpha + 1 - math. sqrt(1+4*alpha)\n",
    "epsilon_AX_obf = np.log(upper/lower)"
   ]
  },
  {
   "cell_type": "code",
   "execution_count": 26,
   "metadata": {},
   "outputs": [
    {
     "data": {
      "text/plain": [
       "0.5938294750457875"
      ]
     },
     "execution_count": 26,
     "metadata": {},
     "output_type": "execute_result"
    }
   ],
   "source": [
    "epsilon_AX_obf"
   ]
  },
  {
   "cell_type": "markdown",
   "metadata": {},
   "source": [
    "# Non-private Random Forest (using train/test splitting)"
   ]
  },
  {
   "cell_type": "code",
   "execution_count": 27,
   "metadata": {},
   "outputs": [
    {
     "name": "stdout",
     "output_type": "stream",
     "text": [
      "0\n"
     ]
    },
    {
     "name": "stderr",
     "output_type": "stream",
     "text": [
      "/Users/karima/GoogleDrive/KarimaWork/2021_2022/PhD_Second_year/Research/Work_with_Heber/Privacy_Fairness/2023/GroupFairnessNotions.py:45: RuntimeWarning: invalid value encountered in true_divide\n",
      "  return TP/float(TP+FN)\n"
     ]
    },
    {
     "name": "stdout",
     "output_type": "stream",
     "text": [
      "1\n"
     ]
    },
    {
     "name": "stderr",
     "output_type": "stream",
     "text": [
      "/Users/karima/GoogleDrive/KarimaWork/2021_2022/PhD_Second_year/Research/Work_with_Heber/Privacy_Fairness/2023/GroupFairnessNotions.py:45: RuntimeWarning: invalid value encountered in true_divide\n",
      "  return TP/float(TP+FN)\n"
     ]
    }
   ],
   "source": [
    "np_sp_min2, np_sp_maj2 = [], []\n",
    "np_acc2 = []\n",
    "np_oa_min2, np_oa_maj2 = [], []\n",
    "ndp_csp2_minX0, ndp_csp2_majX0, ndp_csp2_minX1, ndp_csp2_majX1 = [], [] , [], []\n",
    "np_eo_min2, np_eo_maj2 = [], []\n",
    "np_pe_min2, np_pe_maj2 = [], []\n",
    "\n",
    "\n",
    "for seed in range(nb_seed):\n",
    "    print(seed)\n",
    "    np.random.seed(seed) # for reproducibility\n",
    "    \n",
    "    # Use original datasets\n",
    "    X = copy.deepcopy(df.drop(target, axis=1))\n",
    "    y = copy.deepcopy(df[target])\n",
    "\n",
    "    # Train test splitting\n",
    "    X_train, X_test, y_train, y_test = train_test_split(X, y, test_size=test_size, shuffle=True, stratify=y, random_state=seed)\n",
    "    \n",
    "    # instantiate and train model\n",
    "    model = RandomForestClassifier(n_jobs=-1)\n",
    "    model.fit(X_train, y_train)\n",
    "    y_pred = model.predict(X_test)\n",
    "    acc = accuracy_score(y_test, y_pred)\n",
    "\n",
    "    # retrieving minority, majority from the test set\n",
    "    X_test_min, X_test_maj = X_test[X_test[protected_att] == 0], X_test[X_test[protected_att] == 1]\n",
    "\n",
    "    # predicted outcomes for minority, majority\n",
    "    y_pred_min, y_pred_maj = model.predict(X_test_min), model.predict(X_test_maj)\n",
    "\n",
    "    indices_min, indices_maj = X_test_min.index, X_test_maj.index\n",
    "    y_test_min, y_test_maj = y_test.get(key = indices_min), y_test.get(key = indices_maj)\n",
    "    \n",
    "    # Needed for the computation of Cond.Stat.Disp\n",
    "            \n",
    "    # retrieving four groups: A=0_X=0, A0_X=1, A1_X=0, A1_X=1 from the test set\n",
    "\n",
    "    X_test_min_X0, X_test_min_X1, X_test_maj_X0, X_test_maj_X1 = X_test[(X_test[protected_att] == 0) & (X_test['X'] == 0)], X_test[(X_test[protected_att] == 0) & (X_test['X'] == 1)],X_test[(X_test[protected_att] == 1) & (X_test['X'] == 0)], X_test[(X_test[protected_att] == 1) & (X_test['X'] == 1)]\n",
    "    \n",
    "    \n",
    "    # confusion matrix for minority, majority\n",
    "    conf_matrix_min, conf_matrix_maj = confusion_matrix_scorer(y_test_min,y_pred_min), confusion_matrix_scorer(y_test_maj,y_pred_maj)\n",
    "    \n",
    "    # predicted outcomes for the four groups\n",
    "    y_pred_min_X0, y_pred_min_X1, y_pred_maj_X0, y_pred_maj_X1 = model.predict(X_test_min_X0), model.predict(X_test_min_X1), model.predict(X_test_maj_X0), model.predict(X_test_maj_X1)  \n",
    "#     pred_A0_X0.append(y_pred_min_X0)\n",
    "#     pred_A0_X1.append(y_pred_min_X1)\n",
    "#     pred_A1_X0.append(y_pred_min_X0)\n",
    "#     pred_A1_X1.append(y_pred_maj_X1)\n",
    "    \n",
    "    # computing fairness metrics\n",
    "    np_sp_min2.append(Statistical_parity(y_pred_min))\n",
    "    np_sp_maj2.append(Statistical_parity(y_pred_maj))\n",
    "    np_eo_min2.append(Equal_opportunity(conf_matrix_min))\n",
    "    np_eo_maj2.append(Equal_opportunity(conf_matrix_maj))\n",
    "    np_pe_min2.append(Predictive_equality(conf_matrix_min))\n",
    "    np_pe_maj2.append(Predictive_equality(conf_matrix_maj))\n",
    "    ndp_csp2_minX0.append(Statistical_parity(y_pred_min_X0))\n",
    "    ndp_csp2_majX0.append(Statistical_parity(y_pred_maj_X0))\n",
    "    ndp_csp2_minX1.append(Statistical_parity(y_pred_min_X1))\n",
    "    ndp_csp2_majX1.append(Statistical_parity(y_pred_maj_X1))   \n",
    "    np_oa_min2.append(Overall_accuracy(y_test_min, y_pred_min))\n",
    "    np_oa_maj2.append(Overall_accuracy(y_test_maj, y_pred_maj))\n",
    "    np_acc2.append(acc)"
   ]
  },
  {
   "cell_type": "code",
   "execution_count": 28,
   "metadata": {},
   "outputs": [
    {
     "name": "stdout",
     "output_type": "stream",
     "text": [
      "\n",
      "=======================================No DP=======================================\n",
      "\n",
      "Non-Private fairness notions considering the protected attribute A:\n",
      "The predicted acceptance rate (statistical parity) for A=0 is: 0.0\n",
      "The predicted acceptance rate (statistical parity) for A=1 is: 0.49944757535137874\n",
      "The true positive rate (Equal Opporunity) for A=0 is: nan\n",
      "The true positive rate (Equal Opporunity) for A=1 is: 1.0\n",
      "The false positive rate (Predictive Equality) for A=0 is: 0.0\n",
      "The false positive rate (Predictive Equality) for A=1 is: 0.0\n",
      "The conditional acceptance rate (statistical parity) for A=0/X=0 is: 0.0\n",
      "The conditional acceptance rate for A=1/X=0 is: 0.0\n",
      "The conditional acceptance rate for A=0/X=1 is: 0.0\n",
      "The conditional acceptance rate for A=1/X=1 is: 1.0\n",
      "The conditional acceptance rate for A=1 is: 0.49944757535137874\n",
      "The overall accuracy for A=0 is: 1.0\n",
      "The overall accuracy for A=1 is: 1.0\n",
      "The overall accuracy is: 1.0\n"
     ]
    }
   ],
   "source": [
    "print(\"\\n=======================================No DP=======================================\\n\")\n",
    "\n",
    "print('Non-Private fairness notions considering the protected attribute '+str(protected_att)+':')\n",
    "print(\"The predicted acceptance rate (statistical parity) for A=0 is:\", np.mean(np_sp_min2))\n",
    "print(\"The predicted acceptance rate (statistical parity) for A=1 is:\", np.mean(np_sp_maj2))\n",
    "print(\"The true positive rate (Equal Opporunity) for A=0 is:\", np.mean(np_eo_min2))\n",
    "print(\"The true positive rate (Equal Opporunity) for A=1 is:\", np.mean(np_eo_maj2))\n",
    "print(\"The false positive rate (Predictive Equality) for A=0 is:\", np.mean(np_pe_min2))\n",
    "print(\"The false positive rate (Predictive Equality) for A=1 is:\", np.mean(np_pe_maj2))\n",
    "print(\"The conditional acceptance rate (statistical parity) for A=0/X=0 is:\", np.mean(ndp_csp2_minX0))\n",
    "print(\"The conditional acceptance rate for A=1/X=0 is:\", np.mean(ndp_csp2_majX0)) \n",
    "print(\"The conditional acceptance rate for A=0/X=1 is:\", np.mean(ndp_csp2_minX1))\n",
    "print(\"The conditional acceptance rate for A=1/X=1 is:\", np.mean(ndp_csp2_majX1))\n",
    "print(\"The conditional acceptance rate for A=1 is:\", np.mean(np_sp_maj2))\n",
    "print(\"The overall accuracy for A=0 is:\", np.mean(np_oa_min2))\n",
    "print(\"The overall accuracy for A=1 is:\", np.mean(np_oa_maj2))\n",
    "print(\"The overall accuracy is:\", np.mean(np_acc2))"
   ]
  },
  {
   "cell_type": "markdown",
   "metadata": {},
   "source": [
    "# Starting with Local Differential Privacy"
   ]
  },
  {
   "cell_type": "code",
   "execution_count": 29,
   "metadata": {
    "scrolled": true
   },
   "outputs": [
    {
     "name": "stdout",
     "output_type": "stream",
     "text": [
      "\n",
      "========= Setting 1: Local DP: only the sensitive feature is obfuscated =========\n",
      "\n",
      "8\n"
     ]
    },
    {
     "name": "stderr",
     "output_type": "stream",
     "text": [
      "/Users/karima/GoogleDrive/KarimaWork/2021_2022/PhD_Second_year/Research/Work_with_Heber/Privacy_Fairness/2023/GroupFairnessNotions.py:45: RuntimeWarning: invalid value encountered in true_divide\n",
      "  return TP/float(TP+FN)\n",
      "/Users/karima/GoogleDrive/KarimaWork/2021_2022/PhD_Second_year/Research/Work_with_Heber/Privacy_Fairness/2023/GroupFairnessNotions.py:45: RuntimeWarning: invalid value encountered in true_divide\n",
      "  return TP/float(TP+FN)\n"
     ]
    },
    {
     "name": "stdout",
     "output_type": "stream",
     "text": [
      "0.0\n",
      "2\n"
     ]
    },
    {
     "name": "stderr",
     "output_type": "stream",
     "text": [
      "/Users/karima/GoogleDrive/KarimaWork/2021_2022/PhD_Second_year/Research/Work_with_Heber/Privacy_Fairness/2023/GroupFairnessNotions.py:45: RuntimeWarning: invalid value encountered in true_divide\n",
      "  return TP/float(TP+FN)\n",
      "/Users/karima/GoogleDrive/KarimaWork/2021_2022/PhD_Second_year/Research/Work_with_Heber/Privacy_Fairness/2023/GroupFairnessNotions.py:45: RuntimeWarning: invalid value encountered in true_divide\n",
      "  return TP/float(TP+FN)\n"
     ]
    },
    {
     "name": "stdout",
     "output_type": "stream",
     "text": [
      "0.0\n",
      "1\n"
     ]
    },
    {
     "name": "stderr",
     "output_type": "stream",
     "text": [
      "/Users/karima/GoogleDrive/KarimaWork/2021_2022/PhD_Second_year/Research/Work_with_Heber/Privacy_Fairness/2023/GroupFairnessNotions.py:45: RuntimeWarning: invalid value encountered in true_divide\n",
      "  return TP/float(TP+FN)\n",
      "/Users/karima/GoogleDrive/KarimaWork/2021_2022/PhD_Second_year/Research/Work_with_Heber/Privacy_Fairness/2023/GroupFairnessNotions.py:45: RuntimeWarning: invalid value encountered in true_divide\n",
      "  return TP/float(TP+FN)\n"
     ]
    },
    {
     "name": "stdout",
     "output_type": "stream",
     "text": [
      "0.0\n",
      "0.8472978603872039\n"
     ]
    },
    {
     "name": "stderr",
     "output_type": "stream",
     "text": [
      "/Users/karima/GoogleDrive/KarimaWork/2021_2022/PhD_Second_year/Research/Work_with_Heber/Privacy_Fairness/2023/GroupFairnessNotions.py:45: RuntimeWarning: invalid value encountered in true_divide\n",
      "  return TP/float(TP+FN)\n",
      "/Users/karima/GoogleDrive/KarimaWork/2021_2022/PhD_Second_year/Research/Work_with_Heber/Privacy_Fairness/2023/GroupFairnessNotions.py:45: RuntimeWarning: invalid value encountered in true_divide\n",
      "  return TP/float(TP+FN)\n"
     ]
    },
    {
     "name": "stdout",
     "output_type": "stream",
     "text": [
      "0.25142378559463985\n",
      "0.5\n"
     ]
    },
    {
     "name": "stderr",
     "output_type": "stream",
     "text": [
      "/Users/karima/GoogleDrive/KarimaWork/2021_2022/PhD_Second_year/Research/Work_with_Heber/Privacy_Fairness/2023/GroupFairnessNotions.py:45: RuntimeWarning: invalid value encountered in true_divide\n",
      "  return TP/float(TP+FN)\n",
      "/Users/karima/GoogleDrive/KarimaWork/2021_2022/PhD_Second_year/Research/Work_with_Heber/Privacy_Fairness/2023/GroupFairnessNotions.py:45: RuntimeWarning: invalid value encountered in true_divide\n",
      "  return TP/float(TP+FN)\n"
     ]
    },
    {
     "name": "stdout",
     "output_type": "stream",
     "text": [
      "0.4995484730425478\n",
      "0.4\n"
     ]
    },
    {
     "name": "stderr",
     "output_type": "stream",
     "text": [
      "/Users/karima/GoogleDrive/KarimaWork/2021_2022/PhD_Second_year/Research/Work_with_Heber/Privacy_Fairness/2023/GroupFairnessNotions.py:45: RuntimeWarning: invalid value encountered in true_divide\n",
      "  return TP/float(TP+FN)\n",
      "/Users/karima/GoogleDrive/KarimaWork/2021_2022/PhD_Second_year/Research/Work_with_Heber/Privacy_Fairness/2023/GroupFairnessNotions.py:45: RuntimeWarning: invalid value encountered in true_divide\n",
      "  return TP/float(TP+FN)\n"
     ]
    },
    {
     "name": "stdout",
     "output_type": "stream",
     "text": [
      "0.4995484730425478\n",
      "0.27\n"
     ]
    },
    {
     "name": "stderr",
     "output_type": "stream",
     "text": [
      "/Users/karima/GoogleDrive/KarimaWork/2021_2022/PhD_Second_year/Research/Work_with_Heber/Privacy_Fairness/2023/GroupFairnessNotions.py:45: RuntimeWarning: invalid value encountered in true_divide\n",
      "  return TP/float(TP+FN)\n",
      "/Users/karima/GoogleDrive/KarimaWork/2021_2022/PhD_Second_year/Research/Work_with_Heber/Privacy_Fairness/2023/GroupFairnessNotions.py:45: RuntimeWarning: invalid value encountered in true_divide\n",
      "  return TP/float(TP+FN)\n"
     ]
    },
    {
     "name": "stdout",
     "output_type": "stream",
     "text": [
      "0.4995484730425478\n",
      "0.22866257931121317\n"
     ]
    },
    {
     "name": "stderr",
     "output_type": "stream",
     "text": [
      "/Users/karima/GoogleDrive/KarimaWork/2021_2022/PhD_Second_year/Research/Work_with_Heber/Privacy_Fairness/2023/GroupFairnessNotions.py:45: RuntimeWarning: invalid value encountered in true_divide\n",
      "  return TP/float(TP+FN)\n",
      "/Users/karima/GoogleDrive/KarimaWork/2021_2022/PhD_Second_year/Research/Work_with_Heber/Privacy_Fairness/2023/GroupFairnessNotions.py:45: RuntimeWarning: invalid value encountered in true_divide\n",
      "  return TP/float(TP+FN)\n"
     ]
    },
    {
     "name": "stdout",
     "output_type": "stream",
     "text": [
      "0.4995484730425478\n",
      "0.1\n"
     ]
    },
    {
     "name": "stderr",
     "output_type": "stream",
     "text": [
      "/Users/karima/GoogleDrive/KarimaWork/2021_2022/PhD_Second_year/Research/Work_with_Heber/Privacy_Fairness/2023/GroupFairnessNotions.py:45: RuntimeWarning: invalid value encountered in true_divide\n",
      "  return TP/float(TP+FN)\n"
     ]
    },
    {
     "name": "stdout",
     "output_type": "stream",
     "text": [
      "0.4995484730425478\n",
      "That took 35.887434005737305 seconds\n"
     ]
    },
    {
     "name": "stderr",
     "output_type": "stream",
     "text": [
      "/Users/karima/GoogleDrive/KarimaWork/2021_2022/PhD_Second_year/Research/Work_with_Heber/Privacy_Fairness/2023/GroupFairnessNotions.py:45: RuntimeWarning: invalid value encountered in true_divide\n",
      "  return TP/float(TP+FN)\n"
     ]
    }
   ],
   "source": [
    "starttime = time.time()\n",
    "print(\"\\n========= Setting 1: Local DP: only the sensitive feature is obfuscated =========\\n\")\n",
    "\n",
    "df_cp = copy.deepcopy(df)\n",
    "\n",
    "sldp_sp_min2, sldp_sp_maj2 = [], []\n",
    "sldp_csp2_minX0, sldp_csp2_majX0, sldp_csp2_minX1, sldp_csp2_majX1 = [], [] , [], []\n",
    "sldp_oa_min2, sldp_oa_maj2 = [], []\n",
    "sldp_eo_min2, sldp_eo_maj2 = [], []\n",
    "sldp_pe_min2, sldp_pe_maj2 = [], []\n",
    "\n",
    "\n",
    "for epsilon in lst_eps:\n",
    "    print(epsilon)\n",
    "    \n",
    "    ldp_sp_min, ldp_sp_maj = [], []\n",
    "    ldp_csp_minX0, ldp_csp_majX0,ldp_csp_minX1, ldp_csp_majX1  = [], [],[], []\n",
    "    sldp_acc = []\n",
    "    ldp_oa_min, ldp_oa_maj = [], [] \n",
    "    ldp_eo_min, ldp_eo_maj = [], []\n",
    "    ldp_pe_min, ldp_pe_maj = [], []\n",
    "\n",
    "    for seed in range(nb_seed):\n",
    "        #np.random.seed(seed)\n",
    "\n",
    "\n",
    "        # Preparing X and y using pandas\n",
    "        X = copy.deepcopy(df_cp.drop(target, axis=1))\n",
    "        y = copy.deepcopy(df_cp[target])\n",
    "\n",
    "        # Train test splitting\n",
    "        X_train, X_test, y_train, y_test = train_test_split(X, y, test_size=test_size, shuffle=True, stratify=y, random_state=seed)\n",
    "\n",
    "        # Attribute's domain size\n",
    "        k = len(set(X[protected_att]))\n",
    "\n",
    "        # Applying GRR to the protected attribute of the training set\n",
    "        X_train[protected_att] = X_train[protected_att].apply(lambda x: GRR_Client(x, k, epsilon))\n",
    "        \n",
    "        # instantiate and train model\n",
    "        model = RandomForestClassifier(n_jobs=-1)\n",
    "        model.fit(X_train, y_train)\n",
    "\n",
    "        y_pred = model.predict(X_test) # prediction of the actual samples\n",
    "\n",
    "        # retrieving minority, majority from the test set\n",
    "        X_test_min, X_test_maj = X_test[X_test[protected_att] == 0], X_test[X_test[protected_att] == 1]\n",
    "\n",
    "        # predicted outcomes for minority, majority\n",
    "        y_pred_min, y_pred_maj = model.predict(X_test_min), model.predict(X_test_maj)\n",
    "\n",
    "        indices_min, indices_maj = X_test_min.index, X_test_maj.index\n",
    "        y_test_min, y_test_maj = y_test.get(key = indices_min), y_test.get(key = indices_maj)\n",
    "        \n",
    "        \n",
    "        # Needed for the computation of Cond.Stat.Disp\n",
    "            \n",
    "        # retrieving four groups: A=0_X=0, A0_X=1, A1_X=0, A1_X=1 from the test set\n",
    "            \n",
    "        X_test_min_X0, X_test_min_X1, X_test_maj_X0, X_test_maj_X1 = X_test[(X_test[protected_att] == 0) & (X_test['X'] == 0)], X_test[(X_test[protected_att] == 0) & (X_test['X'] == 1)],X_test[(X_test[protected_att] == 1) & (X_test['X'] == 0)], X_test[(X_test[protected_att] == 1) & (X_test['X'] == 1)]\n",
    "        \n",
    "        # confusion matrix for minority, majority\n",
    "        conf_matrix_min, conf_matrix_maj = confusion_matrix_scorer(y_test_min,y_pred_min), confusion_matrix_scorer(y_test_maj,y_pred_maj)\n",
    "\n",
    "        \n",
    "        # predicted outcomes for the four groups\n",
    "        y_pred_min_X0, y_pred_min_X1, y_pred_maj_X0, y_pred_maj_X1 = model.predict(X_test_min_X0), model.predict(X_test_min_X1), model.predict(X_test_maj_X0), model.predict(X_test_maj_X1)  \n",
    "#         pred_A0_X0.append(y_pred_min_X0)\n",
    "#         pred_A0_X1.append(y_pred_min_X1)\n",
    "#         pred_A1_X0.append(y_pred_min_X0)\n",
    "#         pred_A1_X1.append(y_pred_maj_X1)\n",
    "        # computing fairness metrics with obfuscated A\n",
    "        ldp_sp_min.append(Statistical_parity(y_pred_min))\n",
    "        ldp_sp_maj.append(Statistical_parity(y_pred_maj))\n",
    "        ldp_eo_min.append(Equal_opportunity(conf_matrix_min))   \n",
    "        ldp_eo_maj.append(Equal_opportunity(conf_matrix_maj))\n",
    "        ldp_pe_min.append(Predictive_equality(conf_matrix_min))\n",
    "        ldp_pe_maj.append(Predictive_equality(conf_matrix_maj))\n",
    "        ldp_csp_minX0.append(Statistical_parity(y_pred_min_X0))\n",
    "        ldp_csp_majX0.append(Statistical_parity(y_pred_maj_X0))\n",
    "        ldp_csp_minX1.append(Statistical_parity(y_pred_min_X1))\n",
    "        ldp_csp_majX1.append(Statistical_parity(y_pred_maj_X1))\n",
    "        ldp_oa_min.append(Overall_accuracy(y_test_min, y_pred_min))\n",
    "        ldp_oa_maj.append(Overall_accuracy(y_test_maj, y_pred_maj))\n",
    "        sldp_acc.append(acc)\n",
    "\n",
    "    print(np.mean(ldp_sp_min))  \n",
    "    sldp_sp_min2.append(np.mean(ldp_sp_min))\n",
    "    sldp_sp_maj2.append(np.mean(ldp_sp_maj))\n",
    "    sldp_csp2_minX0.append(np.mean(ldp_csp_minX0))\n",
    "    sldp_csp2_majX0.append(np.mean(ldp_csp_majX0))\n",
    "    sldp_csp2_minX1.append(np.mean(ldp_csp_minX1))\n",
    "    sldp_csp2_majX1.append(np.mean(ldp_csp_majX1))\n",
    "    sldp_oa_min2.append(np.mean(ldp_oa_min))\n",
    "    sldp_oa_maj2.append(np.mean(ldp_oa_maj))\n",
    "    sldp_eo_min2.append(np.mean(ldp_eo_min))\n",
    "    sldp_eo_maj2.append(np.mean(ldp_eo_maj))\n",
    "    sldp_pe_min2.append(np.mean(ldp_pe_min))\n",
    "    sldp_pe_maj2.append(np.mean(ldp_pe_maj))\n",
    "    \n",
    "#print(sldp_sp_min1)\n",
    "    \n",
    "print('That took {} seconds'.format(time.time() - starttime)) \n"
   ]
  },
  {
   "cell_type": "code",
   "execution_count": 30,
   "metadata": {},
   "outputs": [
    {
     "name": "stdout",
     "output_type": "stream",
     "text": [
      "SP for Majority, no LDP 0.49944757535137874\t, sLDP [0.49944757535137874, 0.49944757535137874, 0.49944757535137874, 0.49944757535137874, 0.49944757535137874, 0.49944757535137874, 0.49944757535137874, 0.49944757535137874, 0.49944757535137874]\n",
      " SP for Minority, no LDP 0.0\t, sLDP [0.0, 0.0, 0.0, 0.25142378559463985, 0.4995484730425478, 0.4995484730425478, 0.4995484730425478, 0.4995484730425478, 0.4995484730425478]\n",
      "CSP for Majority_X0, no LDP 0.0\t, sLDP [0.0, 0.0, 0.0, 0.0, 0.0, 0.0, 0.0, 0.0, 0.0]\n",
      " CSP for Minority_X0, no LDP 0.0\t, sLDP [0.0, 0.0, 0.0, 0.0, 0.0, 0.0, 0.0, 0.0, 0.0]\n",
      "CSP for Majority/X1, no LDP 1.0\t, sLDP [1.0, 1.0, 1.0, 1.0, 1.0, 1.0, 1.0, 1.0, 1.0]\n",
      " CSP for Minority/X1, no LDP 0.0\t, sLDP [0.0, 0.0, 0.0, 0.5, 1.0, 1.0, 1.0, 1.0, 1.0]\n",
      "Accuracy for Majority, no LDP 1.0\t, sLDP [1.0, 1.0, 1.0, 1.0, 1.0, 1.0, 1.0, 1.0, 1.0]\n",
      " Accuracy for Minority, no LDP 1.0\t, sLDP [1.0, 1.0, 1.0, 0.7485762144053602, 0.5004515269574521, 0.5004515269574521, 0.5004515269574521, 0.5004515269574521, 0.5004515269574521]\n",
      "EO for Majority, no LDP 1.0\t, sLDP [1.0, 1.0, 1.0, 1.0, 1.0, 1.0, 1.0, 1.0, 1.0]\n",
      " EO for Minority, no LDP nan\t, sLDP [nan, nan, nan, nan, nan, nan, nan, nan, nan]\n",
      "PE for Majority, no LDP 0.0\t, sLDP [0.0, 0.0, 0.0, 0.0, 0.0, 0.0, 0.0, 0.0, 0.0]\n",
      " PE for Minority, no LDP 0.0\t, sLDP [0.0, 0.0, 0.0, 0.25142378559463985, 0.4995484730425478, 0.4995484730425478, 0.4995484730425478, 0.4995484730425478, 0.4995484730425478]\n"
     ]
    }
   ],
   "source": [
    "print(f'SP for Majority, no LDP {np.mean(np_sp_maj2)}\\t, sLDP {sldp_sp_maj2}\\n SP for Minority, no LDP {np.mean(np_sp_min2)}\\t, sLDP {sldp_sp_min2}')\n",
    "\n",
    "print(f'CSP for Majority_X0, no LDP {np.mean(ndp_csp2_majX0)}\\t, sLDP {sldp_csp2_majX0}\\n CSP for Minority_X0, no LDP {np.mean(ndp_csp2_minX0)}\\t, sLDP {sldp_csp2_minX0}')\n",
    "\n",
    "print(f'CSP for Majority/X1, no LDP {np.mean(ndp_csp2_majX1)}\\t, sLDP {sldp_csp2_majX1}\\n CSP for Minority/X1, no LDP {np.mean(ndp_csp2_minX1)}\\t, sLDP {sldp_csp2_minX1}')                                    \n",
    "\n",
    "print(f'Accuracy for Majority, no LDP {np.mean(np_oa_maj2)}\\t, sLDP {sldp_oa_maj2}\\n Accuracy for Minority, no LDP {np.mean(np_oa_min2)}\\t, sLDP {sldp_oa_min2}')\n",
    "\n",
    "print(f'EO for Majority, no LDP {np.mean(np_eo_maj2)}\\t, sLDP {sldp_eo_maj2}\\n EO for Minority, no LDP {np.mean(np_eo_min2)}\\t, sLDP {sldp_eo_min2}')\n",
    "\n",
    "print(f'PE for Majority, no LDP {np.mean(np_pe_maj2)}\\t, sLDP {sldp_pe_maj2}\\n PE for Minority, no LDP {np.mean(np_pe_min2)}\\t, sLDP {sldp_pe_min2}')\n",
    "\n"
   ]
  },
  {
   "cell_type": "code",
   "execution_count": 57,
   "metadata": {
    "scrolled": true
   },
   "outputs": [
    {
     "name": "stdout",
     "output_type": "stream",
     "text": [
      "\n",
      "========= Setting 2: Local DP: the sensitive feature and X are obfuscated independently =========\n",
      "\n",
      "8\n",
      " ********************* \n",
      "\n",
      "X distribution: 1    40050\n",
      "0    39950\n",
      "Name: X, dtype: int64\n",
      " \n",
      "A0_X0: 12254\n",
      " A0_X1: 12292\n",
      " A1_X0: 27696\n",
      " A1_X1: 27758\n",
      "\n",
      " ********************* \n",
      " ********************* \n",
      "\n",
      "X distribution: 1    40012\n",
      "0    39988\n",
      "Name: X, dtype: int64\n",
      " \n",
      "A0_X0: 12330\n",
      " A0_X1: 12338\n",
      " A1_X0: 27658\n",
      " A1_X1: 27674\n",
      "\n",
      " ********************* \n",
      "0.0\n",
      "2\n",
      " ********************* \n",
      "\n",
      "X distribution: 1    40000\n",
      "0    40000\n",
      "Name: X, dtype: int64\n",
      " \n",
      "A0_X0: 16279\n",
      " A0_X1: 16295\n",
      " A1_X0: 23721\n",
      " A1_X1: 23705\n",
      "\n",
      " ********************* \n",
      " ********************* \n",
      "\n",
      "X distribution: 1    40062\n",
      "0    39938\n",
      "Name: X, dtype: int64\n",
      " \n",
      "A0_X0: 16288\n",
      " A0_X1: 16458\n",
      " A1_X0: 23650\n",
      " A1_X1: 23604\n",
      "\n",
      " ********************* \n",
      "0.0\n",
      "1\n",
      " ********************* \n",
      "\n",
      "X distribution: 0    40167\n",
      "1    39833\n",
      "Name: X, dtype: int64\n",
      " \n",
      "A0_X0: 18092\n",
      " A0_X1: 18046\n",
      " A1_X0: 22075\n",
      " A1_X1: 21787\n",
      "\n",
      " ********************* \n",
      " ********************* \n",
      "\n",
      "X distribution: 1    40024\n",
      "0    39976\n",
      "Name: X, dtype: int64\n",
      " \n",
      "A0_X0: 17913\n",
      " A0_X1: 18160\n",
      " A1_X0: 22063\n",
      " A1_X1: 21864\n",
      "\n",
      " ********************* \n",
      "0.0\n",
      "0.8472978603872039\n",
      " ********************* \n",
      "\n",
      "X distribution: 1    40103\n",
      "0    39897\n",
      "Name: X, dtype: int64\n",
      " \n",
      "A0_X0: 18270\n",
      " A0_X1: 18460\n",
      " A1_X0: 21627\n",
      " A1_X1: 21643\n",
      "\n",
      " ********************* \n",
      " ********************* \n",
      "\n",
      "X distribution: 1    40243\n",
      "0    39757\n",
      "Name: X, dtype: int64\n",
      " \n",
      "A0_X0: 18218\n",
      " A0_X1: 18425\n",
      " A1_X0: 21539\n",
      " A1_X1: 21818\n",
      "\n",
      " ********************* \n",
      "0.0\n",
      "0.5\n",
      " ********************* \n",
      "\n",
      "X distribution: 0    40404\n",
      "1    39596\n",
      "Name: X, dtype: int64\n",
      " \n",
      "A0_X0: 19234\n",
      " A0_X1: 18910\n",
      " A1_X0: 21170\n",
      " A1_X1: 20686\n",
      "\n",
      " ********************* \n",
      " ********************* \n",
      "\n",
      "X distribution: 1    40069\n",
      "0    39931\n",
      "Name: X, dtype: int64\n",
      " \n",
      "A0_X0: 18941\n",
      " A0_X1: 19040\n",
      " A1_X0: 20990\n",
      " A1_X1: 21029\n",
      "\n",
      " ********************* \n",
      "0.0\n",
      "0.4\n",
      " ********************* \n",
      "\n",
      "X distribution: 1    40227\n",
      "0    39773\n",
      "Name: X, dtype: int64\n",
      " \n",
      "A0_X0: 19144\n",
      " A0_X1: 19442\n",
      " A1_X0: 20629\n",
      " A1_X1: 20785\n",
      "\n",
      " ********************* \n",
      " ********************* \n",
      "\n",
      "X distribution: 1    40220\n",
      "0    39780\n",
      "Name: X, dtype: int64\n",
      " \n",
      "A0_X0: 18874\n",
      " A0_X1: 19154\n",
      " A1_X0: 20906\n",
      " A1_X1: 21066\n",
      "\n",
      " ********************* \n",
      "0.0\n",
      "0.27\n",
      " ********************* \n",
      "\n",
      "X distribution: 1    40260\n",
      "0    39740\n",
      "Name: X, dtype: int64\n",
      " \n",
      "A0_X0: 19300\n",
      " A0_X1: 19555\n",
      " A1_X0: 20440\n",
      " A1_X1: 20705\n",
      "\n",
      " ********************* \n",
      " ********************* \n",
      "\n",
      "X distribution: 1    40145\n",
      "0    39855\n",
      "Name: X, dtype: int64\n",
      " \n",
      "A0_X0: 19445\n",
      " A0_X1: 19417\n",
      " A1_X0: 20410\n",
      " A1_X1: 20728\n",
      "\n",
      " ********************* \n",
      "0.0\n",
      "0.22866257931121317\n",
      " ********************* \n",
      "\n",
      "X distribution: 0    40074\n",
      "1    39926\n",
      "Name: X, dtype: int64\n",
      " \n",
      "A0_X0: 19708\n",
      " A0_X1: 19432\n",
      " A1_X0: 20366\n",
      " A1_X1: 20494\n",
      "\n",
      " ********************* \n",
      " ********************* \n",
      "\n",
      "X distribution: 0    40118\n",
      "1    39882\n",
      "Name: X, dtype: int64\n",
      " \n",
      "A0_X0: 19529\n",
      " A0_X1: 19428\n",
      " A1_X0: 20589\n",
      " A1_X1: 20454\n",
      "\n",
      " ********************* \n",
      "0.0\n",
      "0.1\n",
      " ********************* \n",
      "\n",
      "X distribution: 0    40082\n",
      "1    39918\n",
      "Name: X, dtype: int64\n",
      " \n",
      "A0_X0: 19833\n",
      " A0_X1: 19735\n",
      " A1_X0: 20249\n",
      " A1_X1: 20183\n",
      "\n",
      " ********************* \n",
      " ********************* \n",
      "\n",
      "X distribution: 1    40081\n",
      "0    39919\n",
      "Name: X, dtype: int64\n",
      " \n",
      "A0_X0: 19726\n",
      " A0_X1: 19696\n",
      " A1_X0: 20193\n",
      " A1_X1: 20385\n",
      "\n",
      " ********************* \n",
      "0.0\n",
      "[0.0, 0.0, 0.0, 0.0, 0.0, 0.0, 0.0, 0.0, 0.0]\n",
      "That took 47.054603815078735 seconds\n"
     ]
    }
   ],
   "source": [
    "starttime = time.time()\n",
    "print(\"\\n========= Setting 2: Local DP: the sensitive feature and X are obfuscated independently =========\\n\")\n",
    "\n",
    "df_cp = copy.deepcopy(df)\n",
    "\n",
    "allsldp_sp_min2, allsldp_sp_maj2 = [], []\n",
    "allsldp_oa_min2, allsldp_oa_maj2 = [], []\n",
    "\n",
    "for epsilon in lst_eps:\n",
    "    print(epsilon)\n",
    "    \n",
    "    ldp_sp_min, ldp_sp_maj = [], []\n",
    "    sldp_acc = []\n",
    "    ldp_oa_min, ldp_oa_maj = [], []\n",
    "\n",
    "    for seed in range(nb_seed):\n",
    "        #np.random.seed(seed)\n",
    "\n",
    "\n",
    "        # Preparing X and y using pandas\n",
    "        X = copy.deepcopy(df_cp.drop(target, axis=1))\n",
    "        y = copy.deepcopy(df_cp[target])\n",
    "        \n",
    "        d = len(lst_sensitive)  # number of attributes\n",
    "        eps_spl = epsilon / d\n",
    "\n",
    "        # Train test splitting\n",
    "        X_train, X_test, y_train, y_test = train_test_split(X, y, test_size=test_size, shuffle=True, stratify=y, random_state=seed)\n",
    "\n",
    "        # Applying GRR to a list of sensitive attributes in the training set\n",
    "        for att in lst_sensitive:\n",
    "            k = len(set(X[att]))\n",
    "            X_train[att] = X_train[att].apply(lambda x: GRR_Client(x, k, eps_spl))\n",
    "            \n",
    "        print (f' ********************* \\n')\n",
    "        print(f'X distribution: {X_train.X.value_counts()}\\n ')\n",
    "        A0_X0 = len(X_train[(X_train['A'] == 0) & (X_train['X'] == 0)])\n",
    "        A0_X1 = len(X_train[(X_train['A'] == 0) & (X_train['X'] == 1)])\n",
    "        A1_X0 = len(X_train[(X_train['A'] == 1) & (X_train['X'] == 0)])\n",
    "        A1_X1 = len(X_train[(X_train['A'] == 1) & (X_train['X'] == 1)])\n",
    "\n",
    "        print(f'A0_X0: {A0_X0}\\n A0_X1: {A0_X1}\\n A1_X0: {A1_X0}\\n A1_X1: {A1_X1}\\n')\n",
    "        \n",
    "        print (' ********************* ')\n",
    "        \n",
    "        # instantiate and train model\n",
    "        model = RandomForestClassifier(n_jobs=-1)\n",
    "        model.fit(X_train, y_train)\n",
    "\n",
    "        y_pred = model.predict(X_test) # prediction of the actual samples\n",
    "\n",
    "        # retrieving minority, majority from the test set\n",
    "        X_test_min, X_test_maj = X_test[X_test[protected_att] == 0], X_test[X_test[protected_att] == 1]\n",
    "\n",
    "        # predicted outcomes for minority, majority\n",
    "        y_pred_min, y_pred_maj = model.predict(X_test_min), model.predict(X_test_maj)\n",
    "\n",
    "        indices_min, indices_maj = X_test_min.index, X_test_maj.index\n",
    "        y_test_min, y_test_maj = y_test.get(key = indices_min), y_test.get(key = indices_maj)\n",
    "\n",
    "        # computing fairness metrics with obfuscated A\n",
    "        ldp_sp_min.append(Statistical_parity(y_pred_min))\n",
    "        ldp_sp_maj.append(Statistical_parity(y_pred_maj))\n",
    "        ldp_oa_min.append(Overall_accuracy(y_test_min, y_pred_min))\n",
    "        ldp_oa_maj.append(Overall_accuracy(y_test_maj, y_pred_maj))\n",
    "        sldp_acc.append(acc)\n",
    "\n",
    "    print(np.mean(ldp_sp_min))  \n",
    "    allsldp_sp_min2.append(np.mean(ldp_sp_min))\n",
    "    allsldp_sp_maj2.append(np.mean(ldp_sp_maj))\n",
    "    allsldp_oa_min2.append(np.mean(ldp_oa_min))\n",
    "    allsldp_oa_maj2.append(np.mean(ldp_oa_maj))\n",
    "print(allsldp_sp_min2)\n",
    "    \n",
    "print('That took {} seconds'.format(time.time() - starttime)) \n"
   ]
  },
  {
   "cell_type": "code",
   "execution_count": 58,
   "metadata": {},
   "outputs": [
    {
     "name": "stdout",
     "output_type": "stream",
     "text": [
      "SP for Majority, no LDP 0.49944757535137874\t, allsLDP [0.49944757535137874, 0.49944757535137874, 0.0, 0.0, 0.0, 0.0, 0.0, 0.0, 0.0]\n",
      " SP for Minority, no LDP 0.0\t, allsLDP [0.0, 0.0, 0.0, 0.0, 0.0, 0.0, 0.0, 0.0, 0.0]\n",
      "Accuracy for Majority, no LDP 1.0\t, allsLDP [1.0, 1.0, 0.5005524246486213, 0.5005524246486213, 0.5005524246486213, 0.5005524246486213, 0.5005524246486213, 0.5005524246486213, 0.5005524246486213]\n",
      " Accuracy for Minority, no LDP 1.0\t, allsLDP [1.0, 1.0, 1.0, 1.0, 1.0, 1.0, 1.0, 1.0, 1.0]\n"
     ]
    }
   ],
   "source": [
    "print(f'SP for Majority, no LDP {np.mean(np_sp_maj2)}\\t, allsLDP {allsldp_sp_maj2}\\n SP for Minority, no LDP {np.mean(np_sp_min2)}\\t, allsLDP {allsldp_sp_min2}')\n",
    "\n",
    "\n",
    "print(f'Accuracy for Majority, no LDP {np.mean(np_oa_maj2)}\\t, allsLDP {allsldp_oa_maj2}\\n Accuracy for Minority, no LDP {np.mean(np_oa_min2)}\\t, allsLDP {allsldp_oa_min2}')\n"
   ]
  },
  {
   "cell_type": "code",
   "execution_count": 59,
   "metadata": {
    "scrolled": true
   },
   "outputs": [
    {
     "name": "stdout",
     "output_type": "stream",
     "text": [
      "\n",
      "========= Setting 3: Local DP: the sensitive feature and X are obfuscated combined =========\n",
      "\n",
      "8\n",
      "0.0\n",
      "2\n",
      "0.0\n",
      "1\n",
      "0.0\n",
      "0.8472978603872039\n",
      "0.0\n",
      "0.5\n",
      "0.0\n",
      "0.4\n",
      "0.0\n",
      "0.27\n",
      "0.0\n",
      "0.22866257931121317\n",
      "0.0\n",
      "0.1\n",
      "0.0\n",
      "[0.0, 0.0, 0.0, 0.0, 0.0, 0.0, 0.0, 0.0, 0.0]\n",
      "That took 41.005033016204834 seconds\n"
     ]
    }
   ],
   "source": [
    "starttime = time.time()\n",
    "print(\"\\n========= Setting 3: Local DP: the sensitive feature and X are obfuscated combined =========\\n\")\n",
    "\n",
    "df_cp = copy.deepcopy(df)\n",
    "\n",
    "cldp_sp_min2, cldp_sp_maj2 = [], []\n",
    "cldp_oa_min2, cldp_oa_maj2 = [], []\n",
    "\n",
    "# New sensitive attribute (marginal of all in lst_sensitive)\n",
    "new_sensitive_att = '_'.join(lst_sensitive)\n",
    "\n",
    "# to compute all possible permutations\n",
    "all_list = [list(df_cp[att].unique()) for att in lst_sensitive]\n",
    "all_perm = list(itertools.product(*all_list))\n",
    "k = len(all_perm)  # new domain size\n",
    "\n",
    "df_cp[new_sensitive_att] = df_cp[lst_sensitive].astype(str).T.agg(', '.join)\n",
    "\n",
    "for epsilon in lst_eps:\n",
    "    print(epsilon)\n",
    "    \n",
    "    ldp_sp_min, ldp_sp_maj = [], []\n",
    "    sldp_acc = []\n",
    "    ldp_oa_min, ldp_oa_maj = [], []\n",
    "\n",
    "    for seed in range(nb_seed):\n",
    "        #np.random.seed(seed)\n",
    "\n",
    "\n",
    "        # Preparing X and y using pandas\n",
    "        X = copy.deepcopy(df_cp.drop(target, axis=1))\n",
    "        y = copy.deepcopy(df_cp[target])\n",
    "        \n",
    "        LE = LabelEncoder()\n",
    "        LE.fit([str(val).replace('(', '').replace(')', '') for val in all_perm])\n",
    "\n",
    "\n",
    "        # Train test splitting\n",
    "        X_train, X_test, y_train, y_test = train_test_split(X, y, test_size=test_size, shuffle=True, stratify=y, random_state=seed)\n",
    "\n",
    "        # Applying GRR to a list of sensitive attributes (combined setting) in the training set\n",
    "        X_train[new_sensitive_att] = LE.transform(X_train[new_sensitive_att].astype(str))\n",
    "        X_train[new_sensitive_att] = X_train[new_sensitive_att].apply(lambda x: GRR_Client(x, k, epsilon))  # Applying GRR\n",
    "        X_train[new_sensitive_att] = LE.inverse_transform(X_train[new_sensitive_att])\n",
    "\n",
    "        for idx in range(len(lst_sensitive)):\n",
    "            X_train[lst_sensitive[idx]] = X_train[new_sensitive_att].apply(lambda x: x.split(',')[idx]).astype(int)\n",
    "\n",
    "        del X_train[new_sensitive_att]  # deleting marginal\n",
    "        del X_test[new_sensitive_att]  # deleting marginal\n",
    "        \n",
    "        # instantiate and train model\n",
    "        model = RandomForestClassifier(n_jobs=-1)\n",
    "        model.fit(X_train, y_train)\n",
    "\n",
    "        y_pred = model.predict(X_test) # prediction of the actual samples\n",
    "\n",
    "        # retrieving minority, majority from the test set\n",
    "        X_test_min, X_test_maj = X_test[X_test[protected_att] == 0], X_test[X_test[protected_att] == 1]\n",
    "\n",
    "        # predicted outcomes for minority, majority\n",
    "        y_pred_min, y_pred_maj = model.predict(X_test_min), model.predict(X_test_maj)\n",
    "\n",
    "        indices_min, indices_maj = X_test_min.index, X_test_maj.index\n",
    "        y_test_min, y_test_maj = y_test.get(key = indices_min), y_test.get(key = indices_maj)\n",
    "\n",
    "        # computing fairness metrics with obfuscated A\n",
    "        ldp_sp_min.append(Statistical_parity(y_pred_min))\n",
    "        ldp_sp_maj.append(Statistical_parity(y_pred_maj))\n",
    "        ldp_oa_min.append(Overall_accuracy(y_test_min, y_pred_min))\n",
    "        ldp_oa_maj.append(Overall_accuracy(y_test_maj, y_pred_maj))\n",
    "        sldp_acc.append(acc)\n",
    "\n",
    "    print(np.mean(ldp_sp_min))  \n",
    "    cldp_sp_min2.append(np.mean(ldp_sp_min))\n",
    "    cldp_sp_maj2.append(np.mean(ldp_sp_maj))\n",
    "    cldp_oa_min2.append(np.mean(ldp_oa_min))\n",
    "    cldp_oa_maj2.append(np.mean(ldp_oa_maj))\n",
    "print(cldp_sp_min2)\n",
    "    \n",
    "print('That took {} seconds'.format(time.time() - starttime)) \n"
   ]
  },
  {
   "cell_type": "code",
   "execution_count": 60,
   "metadata": {},
   "outputs": [
    {
     "name": "stdout",
     "output_type": "stream",
     "text": [
      "SP for Majority, no LDP 0.49944757535137874\t, sLDP [0.49944757535137874, 0.49944757535137874, 0.49944757535137874, 0.49944757535137874, 0.0, 0.0, 0.0, 0.0, 0.0]\n",
      " SP for Minority, no LDP 0.0\t, sLDP [0.0, 0.0, 0.0, 0.0, 0.0, 0.0, 0.0, 0.0, 0.0]\n",
      "Accuracy for Majority, no LDP 1.0\t, sLDP [1.0, 1.0, 1.0, 1.0, 0.5005524246486213, 0.5005524246486213, 0.5005524246486213, 0.5005524246486213, 0.5005524246486213]\n",
      " Accuracy for Minority, no LDP 1.0\t, sLDP [1.0, 1.0, 1.0, 1.0, 1.0, 1.0, 1.0, 1.0, 1.0]\n"
     ]
    }
   ],
   "source": [
    "print(f'SP for Majority, no LDP {np.mean(np_sp_maj2)}\\t, sLDP {cldp_sp_maj2}\\n SP for Minority, no LDP {np.mean(np_sp_min2)}\\t, sLDP {cldp_sp_min2}')\n",
    "\n",
    "\n",
    "print(f'Accuracy for Majority, no LDP {np.mean(np_oa_maj2)}\\t, sLDP {cldp_oa_maj2}\\n Accuracy for Minority, no LDP {np.mean(np_oa_min2)}\\t, sLDP {cldp_oa_min2}')\n"
   ]
  },
  {
   "cell_type": "code",
   "execution_count": 61,
   "metadata": {},
   "outputs": [],
   "source": [
    "def Make_subplots(lst_eps,dataset_name):\n",
    "    \n",
    "    fig2, ax2 = plt.subplots(2, 2, figsize=(10, 10), sharey='none')\n",
    "    plt.subplots_adjust(wspace=0.25, hspace=0.25)\n",
    "    \n",
    "    #Fairness metric 1: Statistical Parity\n",
    "    # Case1:\n",
    "    ax2[0,0].plot(sldp_sp_maj1, label = 'Privileged: sLDP', color='dodgerblue',linestyle='solid', marker='d',markersize=5)\n",
    "    ax2[0,0].plot(sldp_sp_min1, label = 'Unprivileged: sLDP', color='dodgerblue',linestyle='dashed', marker='.')\n",
    "    ax2[0,0].plot(allsldp_sp_maj1, label = 'Privileged: indLDP', color='orange',linestyle='solid', marker='d',markersize=5)\n",
    "    ax2[0,0].plot(allsldp_sp_min1, label = 'Unprivileged: indLDP', color='orange',linestyle='dashed', marker='.')\n",
    "    ax2[0,0].plot(cldp_sp_maj1, label = 'Privileged: comLDP', color='green',linestyle='solid', marker='d',markersize=5)\n",
    "    ax2[0,0].plot(cldp_sp_min1, label = 'Unprivileged: comLDP', color='green',linestyle='dashed', marker='.')\n",
    "    ax2[0,0].set_ylabel('P(Y^=1|A=a)',fontsize=15)\n",
    "    # Case2:\n",
    "    ax2[0,1].plot(sldp_sp_maj2, color='dodgerblue',linestyle='solid', marker='d',markersize=5)\n",
    "    ax2[0,1].plot(sldp_sp_min2, color='dodgerblue',linestyle='dashed', marker='.')\n",
    "    ax2[0,1].plot(allsldp_sp_maj2, color='orange',linestyle='solid', marker='d',markersize=5)\n",
    "    ax2[0,1].plot(allsldp_sp_min2, color='orange',linestyle='dashed', marker='.')\n",
    "    ax2[0,1].plot(cldp_sp_maj2, color='green',linestyle='solid', marker='d',markersize=5)\n",
    "    ax2[0,1].plot(cldp_sp_min2, color='green',linestyle='dashed', marker='.')\n",
    "    \n",
    "    #Fairness metric 2: Accuracy per group\n",
    "    # Case1:\n",
    "    ax2[1,0].plot(sldp_oa_maj1, label = 'Privileged: sLDP', color='dodgerblue',linestyle='solid', marker='d',markersize=5)\n",
    "    ax2[1,0].plot(sldp_oa_min1, label = 'Unprivileged: sLDP', color='dodgerblue',linestyle='dashed', marker='.')\n",
    "    ax2[1,0].plot(allsldp_oa_maj1, label = 'Privileged: indLDP', color='orange',linestyle='solid', marker='d',markersize=5)\n",
    "    ax2[1,0].plot(allsldp_oa_min1, label = 'Unprivileged: indLDP', color='orange',linestyle='dashed', marker='.')\n",
    "    ax2[1,0].plot(cldp_oa_maj1, label = 'Privileged: comLDP', color='green',linestyle='solid', marker='d',markersize=5)\n",
    "    ax2[1,0].plot(cldp_oa_min1, label = 'Unprivileged: comLDP', color='green',linestyle='dashed', marker='.')\n",
    "    ax2[1,0].set_ylabel('P(Y^=Y|A=a)',fontsize=15)\n",
    "    # Case2:\n",
    "    ax2[1,1].plot(sldp_oa_maj2, color='dodgerblue',linestyle='solid', marker='d',markersize=5)\n",
    "    ax2[1,1].plot(sldp_oa_min2, color='dodgerblue',linestyle='dashed', marker='.')\n",
    "    ax2[1,1].plot(allsldp_oa_maj2, color='orange',linestyle='solid', marker='d',markersize=5)\n",
    "    ax2[1,1].plot(allsldp_oa_min2, color='orange',linestyle='dashed', marker='.')\n",
    "    ax2[1,1].plot(cldp_oa_maj2, color='green',linestyle='solid', marker='d',markersize=5)\n",
    "    ax2[1,1].plot(cldp_oa_min2, color='green',linestyle='dashed', marker='.')\n",
    "    \n",
    "    ax2[0,0].set_title('A or X --> Y',fontsize=14)\n",
    "    ax2[0,1].set_title('A and X --> Y',fontsize=14)\n",
    "    \n",
    "    for i in range(2):\n",
    "        for j in range(2):\n",
    "            ax2[i,j].set_xticks(range(len(lst_eps)))        \n",
    "            ax2[i,j].set_xticklabels(lst_eps,fontsize=12)\n",
    "            ax2[1,j].set_xlabel('$\\epsilon$', fontsize=15)\n",
    "    \n",
    "    ax2[0,0].legend(loc = 'upper right',bbox_to_anchor = (2.1,1.3) ,ncol=3,fontsize='11')        \n",
    "    # save the plot as a file\n",
    "    #fig2.savefig('Plots/Compas/Compas1'+''.join(dataset_name)+'.pdf',dpi=100,bbox_inches='tight')\n",
    "    fig2.savefig('Plots/AXY/independent_X_uniform.pdf',dpi=100,bbox_inches='tight')\n",
    "    \n",
    "    return fig2.show()"
   ]
  },
  {
   "cell_type": "code",
   "execution_count": 63,
   "metadata": {
    "scrolled": true
   },
   "outputs": [
    {
     "name": "stderr",
     "output_type": "stream",
     "text": [
      "/usr/local/lib/python3.7/site-packages/ipykernel_launcher.py:54: UserWarning: Matplotlib is currently using module://ipykernel.pylab.backend_inline, which is a non-GUI backend, so cannot show the figure.\n"
     ]
    },
    {
     "data": {
      "image/png": "[encoded data removed]",
      "text/plain": [
       "<Figure size 720x720 with 4 Axes>"
      ]
     },
     "metadata": {
      "needs_background": "light"
     },
     "output_type": "display_data"
    }
   ],
   "source": [
    "#lst_eps = [8,2,1,0.84,0.5,0.40,0.27,0.1]\n",
    "lst_eps = [8,2,1,0.8,0.5,0.40,0.27,0.2,0.1]\n",
    "Make_subplots(lst_eps,'Results')"
   ]
  },
  {
   "cell_type": "code",
   "execution_count": null,
   "metadata": {},
   "outputs": [],
   "source": [
    "def Make_subplots(lst_eps,dataset_name):\n",
    "   \n",
    "    \n",
    "    fig2, ax2 = plt.subplots(2, 3, figsize=(15, 8), sharey='none')\n",
    "    plt.subplots_adjust(wspace=0.25, hspace=0.25)\n",
    "    \n",
    "    #Fairness metric 1: conditional Statistical Parity\n",
    "    # Case1-Dist1:\n",
    "    ax2[0,0].axhline(y=np_sp_maj, color='dodgerblue', label = 'Privileged: No LDP')\n",
    "    ax2[0,0].axhline(y=np_sp_min, color='orange', linestyle='dashed',label = 'Unprivileged: No LDP')\n",
    "    ax2[0,0].plot(sldp_sp_maj, label = 'Privileged: sLDP', color='dodgerblue',linestyle='solid', marker='d',markersize=5)\n",
    "    ax2[0,0].plot(sldp_sp_min, label = 'Unprivileged: sLDP', color='orange',linestyle='dashed', marker='.')\n",
    "    ax2[0,0].set_ylabel('P(Y^=1|A=a)',fontsize=15)\n",
    "    # Case1-Dist5:\n",
    "    ax2[0,1].axhline(y=np_sp_maj5, color='dodgerblue')\n",
    "    ax2[0,1].axhline(y=np_sp_min5, color='orange', linestyle='dashed')\n",
    "    ax2[0,1].plot(sldp_sp_maj5, color='dodgerblue',linestyle='solid', marker='d',markersize=5)\n",
    "    ax2[0,1].plot(sldp_sp_min5, color='orange',linestyle='dashed', marker='.')\n",
    "    #ax2[0,1].set_ylabel('P(Y^=1|A=a)',fontsize=15)\n",
    "    # Case2:\n",
    "    ax2[0,2].axhline(y=np_sp_maj2, color='dodgerblue')\n",
    "    ax2[0,2].axhline(y=np_sp_min2, color='orange', linestyle='dashed')\n",
    "    ax2[0,2].plot(sldp_sp_maj2, color='dodgerblue',linestyle='solid', marker='d',markersize=5)\n",
    "    ax2[0,2].plot(sldp_sp_min2, color='orange',linestyle='dashed', marker='.')\n",
    "    #ax2[0,2].set_ylabel('P(Y^=1|A=a)',fontsize=15)\n",
    "    \n",
    "\n",
    "\n",
    "    for i in range(2):\n",
    "            for j in range(3):\n",
    "                ax2[i, j].set_xticks(range(len(lst_eps)))        \n",
    "                ax2[i, j].set_xticklabels(lst_eps,fontsize=12)\n",
    "                ax2[0, j].set_xlabel('$\\epsilon$', fontsize=15)\n",
    "    \n",
    "    ax2[0, 0].legend(loc = 'upper right',bbox_to_anchor = (2.3,1.5) ,ncol=2,fontsize='12')        \n",
    "    # save the plot as a file\n",
    "\n",
    "    fig2.savefig('Plots/IPoP/'+ dataset_name +'.pdf',dpi=100,bbox_inches='tight')\n",
    "    \n",
    "    return fig2.show()"
   ]
  }
 ],
 "metadata": {
  "kernelspec": {
   "display_name": "Python 3",
   "language": "python",
   "name": "python3"
  },
  "language_info": {
   "codemirror_mode": {
    "name": "ipython",
    "version": 3
   },
   "file_extension": ".py",
   "mimetype": "text/x-python",
   "name": "python",
   "nbconvert_exporter": "python",
   "pygments_lexer": "ipython3",
   "version": "3.7.3"
  }
 },
 "nbformat": 4,
 "nbformat_minor": 2
}
