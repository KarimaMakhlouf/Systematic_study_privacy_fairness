{
 "cells": [
  {
   "cell_type": "code",
   "execution_count": 66,
   "metadata": {},
   "outputs": [],
   "source": [
    "import math "
   ]
  },
  {
   "cell_type": "code",
   "execution_count": 67,
   "metadata": {},
   "outputs": [],
   "source": [
    "import numpy as np\n",
    "import matplotlib.pyplot as plt\n",
    "import pandas as pd\n",
    "import time\n",
    "import copy\n",
    "import itertools\n",
    "\n",
    "# Sklearn imports\n",
    "from sklearn.model_selection import StratifiedKFold\n",
    "from sklearn.ensemble import RandomForestClassifier\n",
    "from sklearn.preprocessing import LabelEncoder\n",
    "from sklearn.model_selection import train_test_split\n",
    "from multi_freq_ldpy.pure_frequency_oracles.GRR import GRR_Client\n",
    "from sklearn.metrics import confusion_matrix, accuracy_score, precision_score, recall_score\n",
    "# LDP import\n",
    "from GRR import GRR_Client\n",
    "from GroupFairnessNotions import confusion_matrix_scorer, Statistical_parity, Metric_disparity, Equal_opportunity, Predictive_equality, Treatment_equality, Overall_accuracy, Predictive_rate_parity, CSD"
   ]
  },
  {
   "cell_type": "code",
   "execution_count": 68,
   "metadata": {},
   "outputs": [],
   "source": [
    "# Evaluating nb_seed times due to randomness\n",
    "nb_seed = 20\n",
    "\n",
    "dataset = 'Synthetic3'\n",
    "path_results = 'Results/'\n",
    "\n",
    "# list of epsilon\n",
    "#[8,2,1,0.8,0.5,0.40,0.27,0.2,0.1]\n",
    "lst_eps = [16,8,2,1,0.85,0.5,0.40,0.27,0.23,0.1]\n",
    "\n",
    "# Target attribute\n",
    "target = 'Y' \n",
    "\n",
    "# Protected attribute \n",
    "protected_att = 'A'\n",
    "\n",
    "test_size = 0.2\n",
    "\n",
    "nb_samples = 1e5\n",
    "\n",
    "lst_sensitive = [protected_att,'X']"
   ]
  },
  {
   "cell_type": "code",
   "execution_count": 69,
   "metadata": {},
   "outputs": [
    {
     "name": "stdout",
     "output_type": "stream",
     "text": [
      "10000 0 20000 16667 0 3333 23333 3333 3333 16667 0 3333\n"
     ]
    }
   ],
   "source": [
    "nb_samples = 100000\n",
    "\n",
    "a0_x0_y0, a0_x0_y1, a0_x1_y0, a0_x1_y1, a0_x2_y0, a0_x2_y1 = 3/30, 0/30, 6/30, 5/30,0/30,1/30\n",
    "a1_x0_y0, a1_x0_y1, a1_x1_y0, a1_x1_y1, a1_x2_y0, a1_x2_y1 = 7/30, 1/30, 1/30, 5/30,0/30,1/30\n",
    "\n",
    "\n",
    "p_a0_x0_y0 = np.rint(a0_x0_y0 * nb_samples).astype(int)\n",
    "p_a0_x0_y1 = np.rint(a0_x0_y1 * nb_samples).astype(int)\n",
    "p_a0_x1_y0 = np.rint(a0_x1_y0 * nb_samples).astype(int)\n",
    "p_a0_x1_y1 = np.rint(a0_x1_y1 * nb_samples).astype(int)\n",
    "p_a0_x2_y0 = np.rint(a0_x2_y0 * nb_samples).astype(int)\n",
    "p_a0_x2_y1 = np.rint(a0_x2_y1 * nb_samples).astype(int)\n",
    "\n",
    "p_a1_x0_y0 = np.rint(a1_x0_y0 * nb_samples).astype(int)\n",
    "p_a1_x0_y1 = np.rint(a1_x0_y1 * nb_samples).astype(int)\n",
    "p_a1_x1_y0 = np.rint(a1_x1_y0 * nb_samples).astype(int)\n",
    "p_a1_x1_y1 = np.rint(a1_x1_y1 * nb_samples).astype(int)\n",
    "p_a1_x2_y0 = np.rint(a1_x2_y0 * nb_samples).astype(int)\n",
    "p_a1_x2_y1 = np.rint(a1_x2_y1 * nb_samples).astype(int)\n",
    "\n",
    "\n",
    "print(p_a0_x0_y0, p_a0_x0_y1, p_a0_x1_y0, p_a0_x1_y1, p_a0_x2_y0, p_a0_x2_y1, p_a1_x0_y0, p_a1_x0_y1, p_a1_x1_y0, p_a1_x1_y1, p_a1_x2_y0, p_a1_x2_y1)\n",
    "orig_nb_samples = [p_a0_x0_y0, p_a0_x0_y1, p_a0_x1_y0, p_a0_x1_y1, p_a0_x2_y0, p_a0_x2_y1, p_a1_x0_y0, p_a1_x0_y1, p_a1_x1_y0, p_a1_x1_y1, p_a1_x2_y0, p_a1_x2_y1]"
   ]
  },
  {
   "cell_type": "code",
   "execution_count": 70,
   "metadata": {},
   "outputs": [
    {
     "data": {
      "text/plain": [
       "99999"
      ]
     },
     "execution_count": 70,
     "metadata": {},
     "output_type": "execute_result"
    }
   ],
   "source": [
    "sum(orig_nb_samples) #the problem is in 1/30"
   ]
  },
  {
   "cell_type": "code",
   "execution_count": 71,
   "metadata": {
    "scrolled": true
   },
   "outputs": [
    {
     "data": {
      "text/html": [
       "<div>\n",
       "<style scoped>\n",
       "    .dataframe tbody tr th:only-of-type {\n",
       "        vertical-align: middle;\n",
       "    }\n",
       "\n",
       "    .dataframe tbody tr th {\n",
       "        vertical-align: top;\n",
       "    }\n",
       "\n",
       "    .dataframe thead th {\n",
       "        text-align: right;\n",
       "    }\n",
       "</style>\n",
       "<table border=\"1\" class=\"dataframe\">\n",
       "  <thead>\n",
       "    <tr style=\"text-align: right;\">\n",
       "      <th></th>\n",
       "      <th>A</th>\n",
       "      <th>X</th>\n",
       "      <th>Y</th>\n",
       "    </tr>\n",
       "  </thead>\n",
       "  <tbody>\n",
       "    <tr>\n",
       "      <th>0</th>\n",
       "      <td>0</td>\n",
       "      <td>0</td>\n",
       "      <td>0</td>\n",
       "    </tr>\n",
       "    <tr>\n",
       "      <th>1</th>\n",
       "      <td>0</td>\n",
       "      <td>0</td>\n",
       "      <td>1</td>\n",
       "    </tr>\n",
       "    <tr>\n",
       "      <th>2</th>\n",
       "      <td>0</td>\n",
       "      <td>1</td>\n",
       "      <td>0</td>\n",
       "    </tr>\n",
       "    <tr>\n",
       "      <th>3</th>\n",
       "      <td>0</td>\n",
       "      <td>1</td>\n",
       "      <td>1</td>\n",
       "    </tr>\n",
       "    <tr>\n",
       "      <th>4</th>\n",
       "      <td>0</td>\n",
       "      <td>2</td>\n",
       "      <td>0</td>\n",
       "    </tr>\n",
       "    <tr>\n",
       "      <th>5</th>\n",
       "      <td>0</td>\n",
       "      <td>2</td>\n",
       "      <td>1</td>\n",
       "    </tr>\n",
       "    <tr>\n",
       "      <th>6</th>\n",
       "      <td>1</td>\n",
       "      <td>0</td>\n",
       "      <td>0</td>\n",
       "    </tr>\n",
       "    <tr>\n",
       "      <th>7</th>\n",
       "      <td>1</td>\n",
       "      <td>0</td>\n",
       "      <td>1</td>\n",
       "    </tr>\n",
       "    <tr>\n",
       "      <th>8</th>\n",
       "      <td>1</td>\n",
       "      <td>1</td>\n",
       "      <td>0</td>\n",
       "    </tr>\n",
       "    <tr>\n",
       "      <th>9</th>\n",
       "      <td>1</td>\n",
       "      <td>1</td>\n",
       "      <td>1</td>\n",
       "    </tr>\n",
       "    <tr>\n",
       "      <th>10</th>\n",
       "      <td>1</td>\n",
       "      <td>2</td>\n",
       "      <td>0</td>\n",
       "    </tr>\n",
       "    <tr>\n",
       "      <th>11</th>\n",
       "      <td>1</td>\n",
       "      <td>2</td>\n",
       "      <td>1</td>\n",
       "    </tr>\n",
       "  </tbody>\n",
       "</table>\n",
       "</div>"
      ],
      "text/plain": [
       "    A  X  Y\n",
       "0   0  0  0\n",
       "1   0  0  1\n",
       "2   0  1  0\n",
       "3   0  1  1\n",
       "4   0  2  0\n",
       "5   0  2  1\n",
       "6   1  0  0\n",
       "7   1  0  1\n",
       "8   1  1  0\n",
       "9   1  1  1\n",
       "10  1  2  0\n",
       "11  1  2  1"
      ]
     },
     "metadata": {},
     "output_type": "display_data"
    }
   ],
   "source": [
    "# creating a list of column names\n",
    "column_values = ['A', 'X', 'Y']\n",
    "\n",
    "lists = [[0,1],[0,1,2], [0,1]]\n",
    "# creating the patterns of features\n",
    "#pattern_features = [x for x in itertools.product([0, 1], repeat=len(column_values))]\n",
    "\n",
    "pattern_features = [x for x in itertools.product(*lists)]\n",
    "\n",
    "# # creating the dataframe\n",
    "df = pd.DataFrame(data = pattern_features, \n",
    "                   columns = column_values)\n",
    "  \n",
    "# # displaying the dataframe\n",
    "display(df)"
   ]
  },
  {
   "cell_type": "code",
   "execution_count": 72,
   "metadata": {},
   "outputs": [],
   "source": [
    "df['n'] = orig_nb_samples\n",
    "df = df.loc[df.index.repeat(df.n)].reset_index(drop=True)\n",
    "del df['n']"
   ]
  },
  {
   "cell_type": "code",
   "execution_count": 73,
   "metadata": {},
   "outputs": [
    {
     "data": {
      "text/html": [
       "<div>\n",
       "<style scoped>\n",
       "    .dataframe tbody tr th:only-of-type {\n",
       "        vertical-align: middle;\n",
       "    }\n",
       "\n",
       "    .dataframe tbody tr th {\n",
       "        vertical-align: top;\n",
       "    }\n",
       "\n",
       "    .dataframe thead th {\n",
       "        text-align: right;\n",
       "    }\n",
       "</style>\n",
       "<table border=\"1\" class=\"dataframe\">\n",
       "  <thead>\n",
       "    <tr style=\"text-align: right;\">\n",
       "      <th></th>\n",
       "      <th>A</th>\n",
       "      <th>X</th>\n",
       "      <th>Y</th>\n",
       "    </tr>\n",
       "  </thead>\n",
       "  <tbody>\n",
       "    <tr>\n",
       "      <th>0</th>\n",
       "      <td>0</td>\n",
       "      <td>0</td>\n",
       "      <td>0</td>\n",
       "    </tr>\n",
       "    <tr>\n",
       "      <th>1</th>\n",
       "      <td>0</td>\n",
       "      <td>0</td>\n",
       "      <td>0</td>\n",
       "    </tr>\n",
       "    <tr>\n",
       "      <th>2</th>\n",
       "      <td>0</td>\n",
       "      <td>0</td>\n",
       "      <td>0</td>\n",
       "    </tr>\n",
       "    <tr>\n",
       "      <th>3</th>\n",
       "      <td>0</td>\n",
       "      <td>0</td>\n",
       "      <td>0</td>\n",
       "    </tr>\n",
       "    <tr>\n",
       "      <th>4</th>\n",
       "      <td>0</td>\n",
       "      <td>0</td>\n",
       "      <td>0</td>\n",
       "    </tr>\n",
       "    <tr>\n",
       "      <th>...</th>\n",
       "      <td>...</td>\n",
       "      <td>...</td>\n",
       "      <td>...</td>\n",
       "    </tr>\n",
       "    <tr>\n",
       "      <th>99994</th>\n",
       "      <td>1</td>\n",
       "      <td>2</td>\n",
       "      <td>1</td>\n",
       "    </tr>\n",
       "    <tr>\n",
       "      <th>99995</th>\n",
       "      <td>1</td>\n",
       "      <td>2</td>\n",
       "      <td>1</td>\n",
       "    </tr>\n",
       "    <tr>\n",
       "      <th>99996</th>\n",
       "      <td>1</td>\n",
       "      <td>2</td>\n",
       "      <td>1</td>\n",
       "    </tr>\n",
       "    <tr>\n",
       "      <th>99997</th>\n",
       "      <td>1</td>\n",
       "      <td>2</td>\n",
       "      <td>1</td>\n",
       "    </tr>\n",
       "    <tr>\n",
       "      <th>99998</th>\n",
       "      <td>1</td>\n",
       "      <td>2</td>\n",
       "      <td>1</td>\n",
       "    </tr>\n",
       "  </tbody>\n",
       "</table>\n",
       "<p>99999 rows × 3 columns</p>\n",
       "</div>"
      ],
      "text/plain": [
       "       A  X  Y\n",
       "0      0  0  0\n",
       "1      0  0  0\n",
       "2      0  0  0\n",
       "3      0  0  0\n",
       "4      0  0  0\n",
       "...   .. .. ..\n",
       "99994  1  2  1\n",
       "99995  1  2  1\n",
       "99996  1  2  1\n",
       "99997  1  2  1\n",
       "99998  1  2  1\n",
       "\n",
       "[99999 rows x 3 columns]"
      ]
     },
     "execution_count": 73,
     "metadata": {},
     "output_type": "execute_result"
    }
   ],
   "source": [
    "df"
   ]
  },
  {
   "cell_type": "code",
   "execution_count": 74,
   "metadata": {},
   "outputs": [
    {
     "data": {
      "text/plain": [
       "1    56667\n",
       "0    36666\n",
       "2     6666\n",
       "Name: X, dtype: int64"
      ]
     },
     "execution_count": 74,
     "metadata": {},
     "output_type": "execute_result"
    }
   ],
   "source": [
    "df.X.value_counts()"
   ]
  },
  {
   "cell_type": "markdown",
   "metadata": {},
   "source": [
    "## Data Distribution"
   ]
  },
  {
   "cell_type": "code",
   "execution_count": 75,
   "metadata": {
    "scrolled": true
   },
   "outputs": [
    {
     "name": "stdout",
     "output_type": "stream",
     "text": [
      "0    56666\n",
      "1    43333\n",
      "Name: Y, dtype: int64\n",
      "A0_Y0: 30000\n",
      " A0_Y1: 20000\n",
      " A1_Y0: 26666\n",
      " A1_Y1: 23333\n"
     ]
    }
   ],
   "source": [
    "print(df.Y.value_counts())\n",
    "A0_Y0 = len(df[(df['A'] == 0) & (df['Y'] == 0)])\n",
    "A0_Y1 = len(df[(df['A'] == 0) & (df['Y'] == 1)])\n",
    "A1_Y0 = len(df[(df['A'] == 1) & (df['Y'] == 0)])\n",
    "A1_Y1 = len(df[(df['A'] == 1) & (df['Y'] == 1)])\n",
    "print(f'A0_Y0: {A0_Y0}\\n A0_Y1: {A0_Y1}\\n A1_Y0: {A1_Y0}\\n A1_Y1: {A1_Y1}')"
   ]
  },
  {
   "cell_type": "code",
   "execution_count": 76,
   "metadata": {},
   "outputs": [
    {
     "name": "stdout",
     "output_type": "stream",
     "text": [
      "1    56667\n",
      "0    36666\n",
      "2     6666\n",
      "Name: X, dtype: int64\n",
      "A0_X0_Y0: 10000\n",
      " A0_X1_Y0: 20000\n",
      " A0_X2_Y0: 0\n",
      " A0_X0_Y1: 0\n",
      " A0_X1_Y1: 16667\n",
      " A0_X2_Y1: 3333\n",
      " A1_X0_Y0: 23333\n",
      " A1_X1_Y0: 3333\n",
      " A1_X2_Y0: 0\n",
      " A1_X0_Y1: 3333\n",
      " A1_X1_Y1: 16667\n",
      " A1_X2_Y1: 3333\n",
      "\n"
     ]
    }
   ],
   "source": [
    "print(df.X.value_counts())\n",
    "A0_X0_Y0 = len(df[(df['A'] == 0) & (df['X'] == 0) & (df['Y'] == 0)])\n",
    "A0_X1_Y0 = len(df[(df['A'] == 0) & (df['X'] == 1) & (df['Y'] == 0)])\n",
    "A0_X2_Y0 = len(df[(df['A'] == 0) & (df['X'] == 2) & (df['Y'] == 0)])\n",
    "A0_X0_Y1 = len(df[(df['A'] == 0) & (df['X'] == 0) & (df['Y'] == 1)])\n",
    "A0_X1_Y1 = len(df[(df['A'] == 0) & (df['X'] == 1) & (df['Y'] == 1)])\n",
    "A0_X2_Y1 = len(df[(df['A'] == 0) & (df['X'] == 2) & (df['Y'] == 1)])\n",
    "\n",
    "A1_X0_Y0 = len(df[(df['A'] == 1) & (df['X'] == 0) & (df['Y'] == 0)])\n",
    "A1_X1_Y0 = len(df[(df['A'] == 1) & (df['X'] == 1) & (df['Y'] == 0)])\n",
    "A1_X2_Y0 = len(df[(df['A'] == 1) & (df['X'] == 2) & (df['Y'] == 0)])\n",
    "A1_X0_Y1 = len(df[(df['A'] == 1) & (df['X'] == 0) & (df['Y'] == 1)])\n",
    "A1_X1_Y1 = len(df[(df['A'] == 1) & (df['X'] == 1) & (df['Y'] == 1)])\n",
    "A1_X2_Y1 = len(df[(df['A'] == 1) & (df['X'] == 2) & (df['Y'] == 1)])\n",
    "\n",
    "print(f'A0_X0_Y0: {A0_X0_Y0}\\n A0_X1_Y0: {A0_X1_Y0}\\n A0_X2_Y0: {A0_X2_Y0}\\n A0_X0_Y1: {A0_X0_Y1}\\n A0_X1_Y1: {A0_X1_Y1}\\n A0_X2_Y1: {A0_X2_Y1}\\n A1_X0_Y0: {A1_X0_Y0}\\n A1_X1_Y0: {A1_X1_Y0}\\n A1_X2_Y0: {A1_X2_Y0}\\n A1_X0_Y1: {A1_X0_Y1}\\n A1_X1_Y1: {A1_X1_Y1}\\n A1_X2_Y1: {A1_X2_Y1}\\n') \n"
   ]
  },
  {
   "cell_type": "markdown",
   "metadata": {},
   "source": [
    "## Computation of the epsilon where the change starts (theoritically)"
   ]
  },
  {
   "cell_type": "code",
   "execution_count": 77,
   "metadata": {
    "scrolled": true
   },
   "outputs": [
    {
     "name": "stderr",
     "output_type": "stream",
     "text": [
      "/usr/local/lib/python3.7/site-packages/ipykernel_launcher.py:3: RuntimeWarning: invalid value encountered in log\n",
      "  This is separate from the ipykernel package so we can avoid doing imports until\n"
     ]
    }
   ],
   "source": [
    "delta1_X0 = A1_X0_Y1 - A1_X0_Y0\n",
    "delta0_X0 = A0_X0_Y1 - A0_X0_Y0\n",
    "epsilon_CSD_X0 = np.log(-(delta1_X0/delta0_X0))"
   ]
  },
  {
   "cell_type": "code",
   "execution_count": 78,
   "metadata": {},
   "outputs": [],
   "source": [
    "delta1_X1 = A1_X1_Y1 - A1_X1_Y0\n",
    "delta0_X1 = A0_X1_Y1 - A0_X1_Y0\n",
    "epsilon_CSD_X1 = np.log(-(delta1_X1/delta0_X1))"
   ]
  },
  {
   "cell_type": "code",
   "execution_count": 79,
   "metadata": {},
   "outputs": [
    {
     "data": {
      "text/plain": [
       "1.3864443648702656"
      ]
     },
     "execution_count": 79,
     "metadata": {},
     "output_type": "execute_result"
    }
   ],
   "source": [
    "epsilon_CSD_X1"
   ]
  },
  {
   "cell_type": "code",
   "execution_count": 80,
   "metadata": {},
   "outputs": [
    {
     "name": "stderr",
     "output_type": "stream",
     "text": [
      "/usr/local/lib/python3.7/site-packages/ipykernel_launcher.py:3: RuntimeWarning: invalid value encountered in log\n",
      "  This is separate from the ipykernel package so we can avoid doing imports until\n"
     ]
    }
   ],
   "source": [
    "delta1_X2 = A1_X2_Y1 - A1_X2_Y0\n",
    "delta0_X2 = A0_X2_Y1 - A0_X2_Y0\n",
    "epsilon_CSD_X2 = np.log(-(delta1_X2/delta0_X2))"
   ]
  },
  {
   "cell_type": "markdown",
   "metadata": {},
   "source": [
    "# Non-private Random Forest (using train/test splitting)"
   ]
  },
  {
   "cell_type": "code",
   "execution_count": 81,
   "metadata": {},
   "outputs": [
    {
     "name": "stdout",
     "output_type": "stream",
     "text": [
      "0\n",
      "1\n",
      "2\n",
      "3\n",
      "4\n",
      "5\n",
      "6\n",
      "7\n",
      "8\n",
      "9\n",
      "10\n",
      "11\n",
      "12\n",
      "13\n",
      "14\n",
      "15\n",
      "16\n",
      "17\n",
      "18\n",
      "19\n"
     ]
    }
   ],
   "source": [
    "np_sp_min1, np_sp_maj1, np_sd = [], [], []\n",
    "np_acc1 = []\n",
    "np_oa_min1, np_oa_maj1, np_oad = [], [], []\n",
    "ndp_csp_minX0, ndp_csp_majX0, np_csd_X0, ndp_csp_minX1, ndp_csp_majX1, np_csd_X1, ndp_csp_minX2, ndp_csp_majX2, np_csd_X2 = [], [] ,[] , [],[], [], [],[], []\n",
    "np_eo_min1, np_eo_maj1, np_eod = [], [], []\n",
    "np_pe_min1, np_pe_maj1, np_ped = [], [], []\n",
    "\n",
    "\n",
    "for seed in range(nb_seed):\n",
    "    print(seed)\n",
    "    np.random.seed(seed) # for reproducibility\n",
    "    \n",
    "    # Use original datasets\n",
    "    X = copy.deepcopy(df.drop(target, axis=1))\n",
    "    y = copy.deepcopy(df[target])\n",
    "\n",
    "    # Train test splitting\n",
    "    X_train, X_test, y_train, y_test = train_test_split(X, y, test_size=test_size, shuffle=True, stratify=y, random_state=seed)\n",
    "    \n",
    "    # instantiate and train model\n",
    "    model = RandomForestClassifier(n_jobs=-1)\n",
    "    model.fit(X_train, y_train)\n",
    "    y_pred = model.predict(X_test)\n",
    "    acc = accuracy_score(y_test, y_pred)\n",
    "\n",
    "    # retrieving minority, majority from the test set\n",
    "    X_test_min, X_test_maj = X_test[X_test[protected_att] == 0], X_test[X_test[protected_att] == 1]\n",
    "\n",
    "    # predicted outcomes for minority, majority\n",
    "    y_pred_min, y_pred_maj = model.predict(X_test_min), model.predict(X_test_maj)\n",
    "\n",
    "    indices_min, indices_maj = X_test_min.index, X_test_maj.index\n",
    "    y_test_min, y_test_maj = y_test.get(key = indices_min), y_test.get(key = indices_maj)\n",
    "    \n",
    "    # Needed for the computation of Cond.Stat.Disp\n",
    "            \n",
    "    # retrieving four groups: A=0_X=0, A0_X=1, A1_X=0, A1_X=1 from the test set\n",
    "\n",
    "    X_test_min_X0, X_test_min_X1, X_test_min_X2, X_test_maj_X0, X_test_maj_X1, X_test_maj_X2 = X_test[(X_test[protected_att] == 0) & (X_test['X'] == 0)], X_test[(X_test[protected_att] == 0) & (X_test['X'] == 1)], X_test[(X_test[protected_att] == 0) & (X_test['X'] == 2)], X_test[(X_test[protected_att] == 1) & (X_test['X'] == 0)], X_test[(X_test[protected_att] == 1) & (X_test['X'] == 1)], X_test[(X_test[protected_att] == 1) & (X_test['X'] == 2)]\n",
    "      \n",
    "    # confusion matrix for minority, majority\n",
    "    conf_matrix_min, conf_matrix_maj = confusion_matrix_scorer(y_test_min,y_pred_min), confusion_matrix_scorer(y_test_maj,y_pred_maj)\n",
    "    \n",
    "    \n",
    "    \n",
    "    # predicted outcomes for the six groups\n",
    "    y_pred_min_X0, y_pred_min_X1, y_pred_min_X2,y_pred_maj_X0, y_pred_maj_X1, y_pred_maj_X2 = model.predict(X_test_min_X0), model.predict(X_test_min_X1), model.predict(X_test_min_X2),model.predict(X_test_maj_X0), model.predict(X_test_maj_X1), model.predict(X_test_maj_X2)  \n",
    "#     pred_A0_X0.append(y_pred_min_X0)\n",
    "#     pred_A0_X1.append(y_pred_min_X1)\n",
    "#     pred_A1_X0.append(y_pred_min_X0)\n",
    "#     pred_A1_X1.append(y_pred_maj_X1)\n",
    "    \n",
    "    # computing fairness metrics\n",
    "    np_sp_min1.append(Statistical_parity(y_pred_min))\n",
    "    np_sp_maj1.append(Statistical_parity(y_pred_maj))\n",
    "    np_sd.append(Metric_disparity(Statistical_parity(y_pred_maj), Statistical_parity(y_pred_min)))\n",
    "    np_eo_min1.append(Equal_opportunity(conf_matrix_min))\n",
    "    np_eo_maj1.append(Equal_opportunity(conf_matrix_maj))\n",
    "    np_eod.append(Metric_disparity(Equal_opportunity(conf_matrix_maj), Equal_opportunity(conf_matrix_min)))\n",
    "    np_pe_min1.append(Predictive_equality(conf_matrix_min))\n",
    "    np_pe_maj1.append(Predictive_equality(conf_matrix_maj))\n",
    "    np_ped.append(Metric_disparity(Predictive_equality(conf_matrix_maj), Predictive_equality(conf_matrix_min)))    \n",
    "    ndp_csp_minX0.append(Statistical_parity(y_pred_min_X0))\n",
    "    ndp_csp_majX0.append(Statistical_parity(y_pred_maj_X0))\n",
    "    np_csd_X0.append(Metric_disparity(Statistical_parity(y_pred_maj_X0), Statistical_parity(y_pred_min_X0)))\n",
    "    ndp_csp_minX1.append(Statistical_parity(y_pred_min_X1))\n",
    "    ndp_csp_majX1.append(Statistical_parity(y_pred_maj_X1))  \n",
    "    np_csd_X1.append(Metric_disparity(Statistical_parity(y_pred_maj_X1), Statistical_parity(y_pred_min_X1)))\n",
    "    ndp_csp_minX2.append(Statistical_parity(y_pred_min_X2))\n",
    "    ndp_csp_majX2.append(Statistical_parity(y_pred_maj_X2))  \n",
    "    np_csd_X2.append(Metric_disparity(Statistical_parity(y_pred_maj_X2), Statistical_parity(y_pred_min_X2)))\n",
    "    np_oa_min1.append(Overall_accuracy(y_test_min, y_pred_min))\n",
    "    np_oa_maj1.append(Overall_accuracy(y_test_maj, y_pred_maj))\n",
    "    np_oad.append(Metric_disparity(Overall_accuracy(y_test_maj, y_pred_maj), Overall_accuracy(y_test_min, y_pred_min)))\n",
    "    np_acc1.append(acc)\n"
   ]
  },
  {
   "cell_type": "code",
   "execution_count": 82,
   "metadata": {},
   "outputs": [
    {
     "name": "stdout",
     "output_type": "stream",
     "text": [
      "\n",
      "=======================================No DP=======================================\n",
      "\n",
      "Non-Private fairness notions considering the protected attribute A:\n",
      "The predicted acceptance rate (statistical parity) for A=0 is: 0.06690727962889684\n",
      "The predicted acceptance rate (statistical parity) for A=1 is: 0.4667167478244073\n",
      "The true positive rate (Equal Opporunity) for A=0 is: 0.16722454321472563\n",
      "The true positive rate (Equal Opporunity) for A=1 is: 0.8583908830415167\n",
      "The false positive rate (Predictive Equality) for A=0 is: 0.0\n",
      "The false positive rate (Predictive Equality) for A=1 is: 0.12420793810327835\n",
      "The conditional acceptance rate for A=0/X=0 is: 0.0\n",
      "The conditional acceptance rate for A=1/X=0 is: 0.0\n",
      "The conditional acceptance rate for A=0/X=1 is: 0.0\n",
      "The conditional acceptance rate for A=1/X=1 is: 1.0\n",
      "The conditional acceptance rate for A=0/X=2 is: 1.0\n",
      "The conditional acceptance rate for A=1/X=2 is: 1.0\n",
      "The overall accuracy for A=0 is: 0.6667970727952957\n",
      "The overall accuracy for A=1 is: 0.867677438242479\n",
      "The overall accuracy is: 0.7673650000000001\n"
     ]
    }
   ],
   "source": [
    "print(\"\\n=======================================No DP=======================================\\n\")\n",
    "\n",
    "print('Non-Private fairness notions considering the protected attribute '+str(protected_att)+':')\n",
    "print(\"The predicted acceptance rate (statistical parity) for A=0 is:\", np.mean(np_sp_min1))\n",
    "print(\"The predicted acceptance rate (statistical parity) for A=1 is:\", np.mean(np_sp_maj1))\n",
    "print(\"The true positive rate (Equal Opporunity) for A=0 is:\", np.mean(np_eo_min1))\n",
    "print(\"The true positive rate (Equal Opporunity) for A=1 is:\", np.mean(np_eo_maj1))\n",
    "print(\"The false positive rate (Predictive Equality) for A=0 is:\", np.mean(np_pe_min1))\n",
    "print(\"The false positive rate (Predictive Equality) for A=1 is:\", np.mean(np_pe_maj1))\n",
    "print(\"The conditional acceptance rate for A=0/X=0 is:\", np.mean(ndp_csp_minX0))\n",
    "print(\"The conditional acceptance rate for A=1/X=0 is:\", np.mean(ndp_csp_majX0)) \n",
    "print(\"The conditional acceptance rate for A=0/X=1 is:\", np.mean(ndp_csp_minX1))\n",
    "print(\"The conditional acceptance rate for A=1/X=1 is:\", np.mean(ndp_csp_majX1))\n",
    "print(\"The conditional acceptance rate for A=0/X=2 is:\", np.mean(ndp_csp_minX2))\n",
    "print(\"The conditional acceptance rate for A=1/X=2 is:\", np.mean(ndp_csp_majX2))\n",
    "print(\"The overall accuracy for A=0 is:\", np.mean(np_oa_min1))\n",
    "print(\"The overall accuracy for A=1 is:\", np.mean(np_oa_maj1))\n",
    "print(\"The overall accuracy is:\", np.mean(np_acc1))"
   ]
  },
  {
   "cell_type": "markdown",
   "metadata": {},
   "source": [
    "# Starting with Local Differential Privacy"
   ]
  },
  {
   "cell_type": "code",
   "execution_count": 83,
   "metadata": {
    "scrolled": false
   },
   "outputs": [
    {
     "name": "stdout",
     "output_type": "stream",
     "text": [
      "\n",
      "========= Setting 1: Local DP: only the sensitive feature is obfuscated =========\n",
      "\n",
      "16\n",
      "0.06690727962889684\n",
      "8\n",
      "0.06690727962889684\n",
      "2\n",
      "0.06690727962889684\n",
      "1\n",
      "0.8004963853639706\n",
      "0.85\n",
      "0.8004963853639706\n",
      "0.5\n",
      "0.8004963853639706\n",
      "0.4\n",
      "0.8004963853639706\n",
      "0.27\n",
      "0.8004963853639706\n",
      "0.23\n",
      "0.8004963853639706\n",
      "0.1\n",
      "0.8004963853639706\n",
      "That took 441.504784822464 seconds\n"
     ]
    }
   ],
   "source": [
    "starttime = time.time()\n",
    "print(\"\\n========= Setting 1: Local DP: only the sensitive feature is obfuscated =========\\n\")\n",
    "\n",
    "df_cp = copy.deepcopy(df)\n",
    "\n",
    "sldp_sp_min1, sldp_sp_maj1, sldp_sd, sd_std  = [], [], [], []\n",
    "sldp_csp_minX0, sldp_csp_majX0, sldp_csd_X0, csd_X0_std, sldp_csp_minX1, sldp_csp_majX1, sldp_csd_X1, csd_X1_std, sldp_csp_minX2, sldp_csp_majX2, sldp_csd_X2, csd_X2_std = [], [] , [], [], [],[], [], [], [],[], [], []\n",
    "sldp_oa_min1, sldp_oa_maj1, sldp_oad, oad_std = [], [], [], []\n",
    "sldp_eo_min1, sldp_eo_maj1, sldp_eod, eod_std = [], [], [], []\n",
    "sldp_pe_min1, sldp_pe_maj1, sldp_ped, ped_std = [], [], [], []\n",
    "sldp_acc1 = []\n",
    "\n",
    "\n",
    "\n",
    "for epsilon in lst_eps:\n",
    "    print(epsilon)\n",
    "    \n",
    "    ldp_sp_min, ldp_sp_maj, ldp_sd = [], [], []\n",
    "    ldp_csp_minX0, ldp_csp_majX0, ldp_csd_X0, ldp_csp_minX1, ldp_csp_majX1,ldp_csd_X1, ldp_csp_minX2, ldp_csp_majX2,ldp_csd_X2 = [], [],[], [], [], [], [], [], []\n",
    "    ldp_acc = []\n",
    "    ldp_oa_min, ldp_oa_maj, ldp_oad  = [], [], []\n",
    "    ldp_eo_min, ldp_eo_maj, ldp_eod  = [], [], []\n",
    "    ldp_pe_min, ldp_pe_maj, ldp_ped = [], [], []\n",
    "    \n",
    "    for seed in range(nb_seed):\n",
    "        #np.random.seed(seed)\n",
    "\n",
    "\n",
    "        # Preparing X and y using pandas\n",
    "        X = copy.deepcopy(df_cp.drop(target, axis=1))\n",
    "        y = copy.deepcopy(df_cp[target])\n",
    "\n",
    "        # Train test splitting\n",
    "        X_train, X_test, y_train, y_test = train_test_split(X, y, test_size=test_size, shuffle=True, stratify=y, random_state=seed)\n",
    "\n",
    "        # Attribute's domain size\n",
    "        k = len(set(X[protected_att]))\n",
    "\n",
    "        # Applying GRR to the protected attribute of the training set\n",
    "        X_train[protected_att] = X_train[protected_att].apply(lambda x: GRR_Client(x, k, epsilon))\n",
    "        \n",
    "        # instantiate and train model\n",
    "        model = RandomForestClassifier(n_jobs=-1)\n",
    "        model.fit(X_train, y_train)\n",
    "\n",
    "        y_pred = model.predict(X_test) # prediction of the actual samples\n",
    "        \n",
    "        acc = accuracy_score(y_test, y_pred)\n",
    "\n",
    "        # retrieving minority, majority from the test set\n",
    "        X_test_min, X_test_maj = X_test[X_test[protected_att] == 0], X_test[X_test[protected_att] == 1]\n",
    "\n",
    "        # predicted outcomes for minority, majority\n",
    "        y_pred_min, y_pred_maj = model.predict(X_test_min), model.predict(X_test_maj)\n",
    "\n",
    "        indices_min, indices_maj = X_test_min.index, X_test_maj.index\n",
    "        y_test_min, y_test_maj = y_test.get(key = indices_min), y_test.get(key = indices_maj)\n",
    "        \n",
    "        \n",
    "        # Needed for the computation of Cond.Stat.Disp\n",
    "            \n",
    "        # retrieving four groups: A=0_X=0, A0_X=1, A1_X=0, A1_X=1 from the test set\n",
    "            \n",
    "        X_test_min_X0, X_test_min_X1, X_test_min_X2, X_test_maj_X0, X_test_maj_X1, X_test_maj_X2 = X_test[(X_test[protected_att] == 0) & (X_test['X'] == 0)], X_test[(X_test[protected_att] == 0) & (X_test['X'] == 1)], X_test[(X_test[protected_att] == 0) & (X_test['X'] == 2)],X_test[(X_test[protected_att] == 1) & (X_test['X'] == 0)], X_test[(X_test[protected_att] == 1) & (X_test['X'] == 1)], X_test[(X_test[protected_att] == 1) & (X_test['X'] == 2)]\n",
    "        \n",
    "        # confusion matrix for minority, majority\n",
    "        conf_matrix_min, conf_matrix_maj = confusion_matrix_scorer(y_test_min,y_pred_min), confusion_matrix_scorer(y_test_maj,y_pred_maj)\n",
    "\n",
    "        \n",
    "        # predicted outcomes for the four groups\n",
    "        y_pred_min_X0, y_pred_min_X1, y_pred_min_X2,y_pred_maj_X0, y_pred_maj_X1, y_pred_maj_X2 = model.predict(X_test_min_X0), model.predict(X_test_min_X1), model.predict(X_test_min_X2), model.predict(X_test_maj_X0), model.predict(X_test_maj_X1), model.predict(X_test_maj_X2)\n",
    "#         pred_A0_X0.append(y_pred_min_X0)\n",
    "#         pred_A0_X1.append(y_pred_min_X1)\n",
    "#         pred_A1_X0.append(y_pred_min_X0)\n",
    "#         pred_A1_X1.append(y_pred_maj_X1)\n",
    "        # computing fairness metrics with obfuscated A\n",
    "        ldp_sp_min.append(Statistical_parity(y_pred_min))\n",
    "        ldp_sp_maj.append(Statistical_parity(y_pred_maj))\n",
    "        ldp_sd.append(Metric_disparity(Statistical_parity(y_pred_maj), Statistical_parity(y_pred_min)))\n",
    "        \n",
    "        ldp_eo_min.append(Equal_opportunity(conf_matrix_min))   \n",
    "        ldp_eo_maj.append(Equal_opportunity(conf_matrix_maj))\n",
    "        ldp_eod.append(Metric_disparity(Equal_opportunity(conf_matrix_maj), Equal_opportunity(conf_matrix_min)))\n",
    "        \n",
    "        ldp_pe_min.append(Predictive_equality(conf_matrix_min))\n",
    "        ldp_pe_maj.append(Predictive_equality(conf_matrix_maj))\n",
    "        ldp_ped.append(Metric_disparity(Predictive_equality(conf_matrix_maj), Predictive_equality(conf_matrix_min)))\n",
    "        \n",
    "        ldp_csp_minX0.append(Statistical_parity(y_pred_min_X0))\n",
    "        ldp_csp_majX0.append(Statistical_parity(y_pred_maj_X0))\n",
    "        ldp_csd_X0.append(Metric_disparity(Statistical_parity(y_pred_maj_X0), Statistical_parity(y_pred_min_X0)))\n",
    "        \n",
    "        ldp_csp_minX1.append(Statistical_parity(y_pred_min_X1))\n",
    "        ldp_csp_majX1.append(Statistical_parity(y_pred_maj_X1))\n",
    "        ldp_csd_X1.append(Metric_disparity(Statistical_parity(y_pred_maj_X1), Statistical_parity(y_pred_min_X1)))\n",
    "        \n",
    "        ldp_csp_minX2.append(Statistical_parity(y_pred_min_X2))\n",
    "        ldp_csp_majX2.append(Statistical_parity(y_pred_maj_X2))\n",
    "        ldp_csd_X2.append(Metric_disparity(Statistical_parity(y_pred_maj_X2), Statistical_parity(y_pred_min_X2)))\n",
    "        \n",
    "        ldp_oa_min.append(Overall_accuracy(y_test_min, y_pred_min))\n",
    "        ldp_oad.append(Metric_disparity(Overall_accuracy(y_test_maj, y_pred_maj), Overall_accuracy(y_test_min, y_pred_min)))\n",
    "        \n",
    "        ldp_oa_maj.append(Overall_accuracy(y_test_maj, y_pred_maj))        \n",
    "        ldp_acc.append(acc)\n",
    "\n",
    "    print(np.mean(ldp_sp_min))  \n",
    "    sldp_sp_min1.append(np.mean(ldp_sp_min))\n",
    "    sldp_sp_maj1.append(np.mean(ldp_sp_maj))\n",
    "    sldp_sd.append(np.mean(ldp_sd))\n",
    "    sd_std.append(np.std(sldp_sd))\n",
    "    sldp_csp_minX0.append(np.mean(ldp_csp_minX0))\n",
    "    sldp_csp_majX0.append(np.mean(ldp_csp_majX0))\n",
    "    sldp_csd_X0.append(np.mean(ldp_csd_X0))\n",
    "    csd_X0_std.append(np.std(sldp_csd_X0))\n",
    "    sldp_csp_minX1.append(np.mean(ldp_csp_minX1))\n",
    "    sldp_csp_majX1.append(np.mean(ldp_csp_majX1))\n",
    "    sldp_csd_X1.append(np.mean(ldp_csd_X1))\n",
    "    csd_X1_std.append(np.std(sldp_csd_X1))\n",
    "    sldp_csp_minX2.append(np.mean(ldp_csp_minX2))\n",
    "    sldp_csp_majX2.append(np.mean(ldp_csp_majX2))\n",
    "    sldp_csd_X2.append(np.mean(ldp_csd_X2))\n",
    "    csd_X2_std.append(np.std(sldp_csd_X2))    \n",
    "    sldp_oa_min1.append(np.mean(ldp_oa_min))\n",
    "    sldp_oa_maj1.append(np.mean(ldp_oa_maj))\n",
    "    sldp_oad.append(np.mean(ldp_oad))\n",
    "    oad_std.append(np.std(sldp_oad))\n",
    "    sldp_eo_min1.append(np.mean(ldp_eo_min))\n",
    "    sldp_eo_maj1.append(np.mean(ldp_eo_maj))\n",
    "    sldp_eod.append(np.mean(ldp_eod))\n",
    "    eod_std.append(np.std(sldp_eod))\n",
    "    sldp_pe_min1.append(np.mean(ldp_pe_min))\n",
    "    sldp_pe_maj1.append(np.mean(ldp_pe_maj))\n",
    "    sldp_ped.append(np.mean(ldp_ped))\n",
    "    ped_std.append(np.std(sldp_ped))\n",
    "    sldp_acc1.append(np.mean(ldp_acc))\n",
    "    \n",
    "#print(sldp_sp_min1)\n",
    "    \n",
    "print('That took {} seconds'.format(time.time() - starttime)) \n"
   ]
  },
  {
   "cell_type": "code",
   "execution_count": 84,
   "metadata": {},
   "outputs": [
    {
     "name": "stdout",
     "output_type": "stream",
     "text": [
      "SP for Majority, no LDP 0.4667167478244073\t, sLDP [0.4667167478244073, 0.4667167478244073, 0.4667167478244073, 0.4667167478244073, 0.4667167478244073, 0.4667167478244073, 0.4667167478244073, 0.4667167478244073, 0.4667167478244073, 0.4667167478244073]\n",
      " SP for Minority, no LDP 0.06690727962889684\t, sLDP [0.06690727962889684, 0.06690727962889684, 0.06690727962889684, 0.8004963853639706, 0.8004963853639706, 0.8004963853639706, 0.8004963853639706, 0.8004963853639706, 0.8004963853639706, 0.8004963853639706]\n",
      "CSP for Majority_X0, no LDP 0.0\t, sLDP [0.0, 0.0, 0.0, 0.0, 0.0, 0.0, 0.0, 0.0, 0.0, 0.0]\n",
      " CSP for Minority_X0, no LDP 0.0\t, sLDP [0.0, 0.0, 0.0, 0.0, 0.0, 0.0, 0.0, 0.0, 0.0, 0.0]\n",
      "CSP for Majority/X1, no LDP 1.0\t, sLDP [1.0, 1.0, 1.0, 1.0, 1.0, 1.0, 1.0, 1.0, 1.0, 1.0]\n",
      " CSP for Minority/X1, no LDP 0.0\t, sLDP [0.0, 0.0, 0.0, 1.0, 1.0, 1.0, 1.0, 1.0, 1.0, 1.0]\n",
      "CSP for Majority/X2, no LDP 1.0\t, sLDP [1.0, 1.0, 1.0, 1.0, 1.0, 1.0, 1.0, 1.0, 1.0, 1.0]\n",
      " CSP for Minority/X2, no LDP 1.0\t, sLDP [1.0, 1.0, 1.0, 1.0, 1.0, 1.0, 1.0, 1.0, 1.0, 1.0]\n",
      "Accuracy for Majority, no LDP 0.867677438242479\t, sLDP [0.867677438242479, 0.867677438242479, 0.867677438242479, 0.867677438242479, 0.867677438242479, 0.867677438242479, 0.867677438242479, 0.867677438242479, 0.867677438242479, 0.867677438242479]\n",
      " Accuracy for Minority, no LDP 0.6667970727952957\t, sLDP [0.6667970727952957, 0.6667970727952957, 0.6667970727952957, 0.5996138214696305, 0.5996138214696305, 0.5996138214696305, 0.5996138214696305, 0.5996138214696305, 0.5996138214696305, 0.5996138214696305]\n",
      "EO for Majority, no LDP 0.8583908830415167\t, sLDP [0.8583908830415167, 0.8583908830415167, 0.8583908830415167, 0.8583908830415167, 0.8583908830415167, 0.8583908830415167, 0.8583908830415167, 0.8583908830415167, 0.8583908830415167, 0.8583908830415167]\n",
      " EO for Minority, no LDP 0.16722454321472563\t, sLDP [0.16722454321472563, 0.16722454321472563, 0.16722454321472563, 1.0, 1.0, 1.0, 1.0, 1.0, 1.0, 1.0]\n",
      "PE for Majority, no LDP 0.12420793810327835\t, sLDP [0.12420793810327835, 0.12420793810327835, 0.12420793810327835, 0.12420793810327835, 0.12420793810327835, 0.12420793810327835, 0.12420793810327835, 0.12420793810327835, 0.12420793810327835, 0.12420793810327835]\n",
      " PE for Minority, no LDP 0.0\t, sLDP [0.0, 0.0, 0.0, 0.6674290049360865, 0.6674290049360865, 0.6674290049360865, 0.6674290049360865, 0.6674290049360865, 0.6674290049360865, 0.6674290049360865]\n"
     ]
    }
   ],
   "source": [
    "print(f'SP for Majority, no LDP {np.mean(np_sp_maj1)}\\t, sLDP {sldp_sp_maj1}\\n SP for Minority, no LDP {np.mean(np_sp_min1)}\\t, sLDP {sldp_sp_min1}')\n",
    "\n",
    "print(f'CSP for Majority_X0, no LDP {np.mean(ndp_csp_majX0)}\\t, sLDP {sldp_csp_majX0}\\n CSP for Minority_X0, no LDP {np.mean(ndp_csp_minX0)}\\t, sLDP {sldp_csp_minX0}')\n",
    "\n",
    "print(f'CSP for Majority/X1, no LDP {np.mean(ndp_csp_majX1)}\\t, sLDP {sldp_csp_majX1}\\n CSP for Minority/X1, no LDP {np.mean(ndp_csp_minX1)}\\t, sLDP {sldp_csp_minX1}')  \n",
    "\n",
    "print(f'CSP for Majority/X2, no LDP {np.mean(ndp_csp_majX2)}\\t, sLDP {sldp_csp_majX2}\\n CSP for Minority/X2, no LDP {np.mean(ndp_csp_minX2)}\\t, sLDP {sldp_csp_minX2}')                                    \n",
    "\n",
    "print(f'Accuracy for Majority, no LDP {np.mean(np_oa_maj1)}\\t, sLDP {sldp_oa_maj1}\\n Accuracy for Minority, no LDP {np.mean(np_oa_min1)}\\t, sLDP {sldp_oa_min1}')\n",
    "\n",
    "print(f'EO for Majority, no LDP {np.mean(np_eo_maj1)}\\t, sLDP {sldp_eo_maj1}\\n EO for Minority, no LDP {np.mean(np_eo_min1)}\\t, sLDP {sldp_eo_min1}')\n",
    "\n",
    "print(f'PE for Majority, no LDP {np.mean(np_pe_maj1)}\\t, sLDP {sldp_pe_maj1}\\n PE for Minority, no LDP {np.mean(np_pe_min1)}\\t, sLDP {sldp_pe_min1}')\n",
    "\n"
   ]
  },
  {
   "cell_type": "markdown",
   "metadata": {},
   "source": [
    "## Visualization"
   ]
  },
  {
   "cell_type": "code",
   "execution_count": 93,
   "metadata": {},
   "outputs": [],
   "source": [
    "def Make_subplots_2(lst_eps,dataset_name):    \n",
    "    fig2, ax2 = plt.subplots(1, 2, figsize=(10, 5),sharex='col', sharey=True)\n",
    "    plt.subplots_adjust(wspace=0.1, hspace=0.1)\n",
    "    plt.yticks(fontsize=9)\n",
    "    \n",
    "    #ax2[0].axhline(y=np.mean(np_sp_maj1)-np.mean(np_sp_min1), color='black', label = 'noLDP')\n",
    "    #ax2[0].errorbar(x,sldp_sd,sd_std,color='forestgreen', ecolor='forestgreen',label='SD',fmt='o',markersize=3)\n",
    "    #ax2[0].errorbar(x,ldp_ind_spd2,std_values_indldp2['SPD'],ecolor='magenta',color='magenta',label='kRR-Ind',fmt='-o',markersize=3,alpha=0.6)            \n",
    "    ax2[0].plot(sldp_sd,color='forestgreen', label='SD',marker='o', fillstyle='none')\n",
    "    plt.annotate(\"Baseline\", (lst_eps[0], np.mean(np_sp_maj1)-np.mean(np_sp_min1)))\n",
    "    \n",
    "    #ax2[1].axhline(y=np.mean(ndp_csp_majX0)-np.mean(ndp_csp_minX0), color='black', label = 'noLDP')\n",
    "    #ax2[0].errorbar(x,sldp_csd_X0,csd_X0_std,color='red', ecolor='red',label='CSD_x0',fmt='D',markersize=3)\n",
    "    ax2[0].plot(sldp_csd_X0,color='red',label='CSD_x0',marker='D', fillstyle='none')\n",
    "    \n",
    "    #ax2[0].axhline(y=np.mean(ndp_csp_majX1)-np.mean(ndp_csp_minX1), color='black', label = 'noLDP')\n",
    "    #ax2[0].errorbar(x,sldp_csd_X1,csd_X1_std,color='orange', ecolor='orange',label='CSD_x1',fmt='-o',markersize=3)\n",
    "    ax2[0].plot(sldp_csd_X1,color='orange', label='CSD_x1',marker='X', fillstyle='none')\n",
    "    \n",
    "    ax2[0].plot(sldp_csd_X2,color='purple', label='CSD_x2',marker='d', fillstyle='none')\n",
    "    \n",
    "    #ax2[0].axhline(y=np.mean(np_eo_maj1)-np.mean(np_eo_min1), color='black', label = 'noLDP')\n",
    "    #ax2[0].errorbar(x,sldp_eod,eod_std,color='blue', ecolor='blue',label='EOD',fmt='-o',markersize=3, alpha=0.4)\n",
    "    ax2[0].plot(sldp_eod,color='blue', label='EOD',marker='v', alpha=0.4, fillstyle='none')\n",
    "    \n",
    "    #ax2[0].axhline(y=np.mean(np_sp_maj1)-np.mean(np_sp_min1), color='black', label = 'noLDP')\n",
    "    #ax2[0].errorbar(x,sldp_sd,sd_std,color='forestgreen', ecolor='forestgreen',label='SD',fmt='o',markersize=3)\n",
    "    #ax2[0].errorbar(x,ldp_ind_spd2,std_values_indldp2['SPD'],ecolor='magenta',color='magenta',label='kRR-Ind',fmt='-o',markersize=3,alpha=0.6)            \n",
    "    ax2[1].plot(sldp_sd,color='forestgreen', label='SD',marker='o',markersize=3, fillstyle='none')\n",
    "    \n",
    "    \n",
    "    #ax2[1].axhline(y=np.mean(ndp_csp_majX0)-np.mean(ndp_csp_minX0), color='black', label = 'noLDP')\n",
    "    #ax2[0].errorbar(x,sldp_csd_X0,csd_X0_std,color='red', ecolor='red',label='CSD_x0',fmt='D',markersize=3)\n",
    "    ax2[1].plot(sldp_csd_X0,color='red',label='CSD_x0',marker='D',markersize=3)\n",
    "    \n",
    "    #ax2[0].axhline(y=np.mean(ndp_csp_majX1)-np.mean(ndp_csp_minX1), color='black', label = 'noLDP')\n",
    "    #ax2[0].errorbar(x,sldp_csd_X1,csd_X1_std,color='orange', ecolor='orange',label='CSD_x1',fmt='-o',markersize=3)\n",
    "    ax2[1].plot(sldp_csd_X1,color='orange', label='CSD_x1',marker='X',markersize=3)\n",
    "    \n",
    "    #ax2[0].axhline(y=np.mean(np_eo_maj1)-np.mean(np_eo_min1), color='black', label = 'noLDP')\n",
    "    #ax2[0].errorbar(x,sldp_eod,eod_std,color='blue', ecolor='blue',label='EOD',fmt='-o',markersize=3, alpha=0.4)\n",
    "    ax2[1].plot(sldp_eod,color='blue', label='EOD',marker='v',markersize=3, alpha=0.4)\n",
    "    \n",
    "     \n",
    "        \n",
    "#     ax2[4].axhline(y=np.mean(np_pe_maj1)-np.mean(np_pe_min1), color='black', label = 'noLDP')\n",
    "#     ax2[4].errorbar(x,sldp_ped,ped_std,color='forestgreen', ecolor='forestgreen',label='kRR-Comb',fmt='-o',markersize=3)\n",
    "#     #ax2[2].errorbar(x,ldp_ind_ped2,std_values_indldp2['PED'],ecolor='magenta',color='magenta',label='kRR-Ind',fmt='-o',markersize=3,alpha=0.6)       \n",
    "    \n",
    "#     ax2[5].axhline(y=np.mean(np_oa_maj1)-np.mean(np_oa_min1), color='black', label = 'noLDP')\n",
    "#     ax2[5].errorbar(x,sldp_oad,oad_std,color='forestgreen', ecolor='forestgreen',label='kRR-Comb',fmt='-o',markersize=3)\n",
    "#     #ax2[3].errorbar(x,ldp_ind_oad2,std_values_indldp2['OAD'],ecolor='magenta',color='magenta',label='kRR-Ind',fmt='-o',markersize=3,alpha=0.6)       \n",
    "    \n",
    "#     ax2[4].axhline(y=PRP_maj_mean2-PRP_min_mean2, color='black', label = 'noLDP')\n",
    "#     ax2[4].errorbar(x,allsldp_prpd2,std_values_comldp2['PRPD'],color='forestgreen', ecolor='forestgreen',label='kRR-Comb',fmt='-o',markersize=3)\n",
    "#     ax2[4].errorbar(x,ldp_ind_prpd2,std_values_indldp2['PRPD'],ecolor='magenta',color='magenta',label='kRR-Ind',fmt='-o',markersize=3,alpha=0.6)       \n",
    " \n",
    "    #ax2[0].set_title('Synthetic 4 \\n Inverted fairness conclusion ',fontsize=12)\n",
    "    ax2[1].set_title('Synthetic 2 \\n ',fontsize=12)\n",
    "#     ax2[2].set_title('CSD_x1',fontsize=12)\n",
    "#     ax2[3].set_title('EOD',fontsize=12)\n",
    "#     ax2[4].set_title('PED',fontsize=12)\n",
    "#     ax2[5].set_title('OAD',fontsize=12)\n",
    "#     ax2[4].set_title('PRD',fontsize=12)\n",
    "\n",
    "\n",
    "    for j in range(2):\n",
    "        ax2[j].set_xticks(range(len(lst_eps)))        \n",
    "        ax2[j].set_xticklabels(lst_eps,fontsize=9)\n",
    "        ax2[j].set_xlabel('$\\epsilon$', fontsize=12)   \n",
    "        ax2[j].grid(axis='y')\n",
    "        ax2[j].legend(fontsize='8')\n",
    "    # saving the plot as a pdf file\n",
    "    fig2.savefig(path_results + dataset + '.pdf',dpi=100,bbox_inches='tight')\n",
    "    \n",
    "    return fig2.show()"
   ]
  },
  {
   "cell_type": "code",
   "execution_count": 94,
   "metadata": {},
   "outputs": [],
   "source": [
    "x = range(len(lst_eps))"
   ]
  },
  {
   "cell_type": "code",
   "execution_count": 95,
   "metadata": {},
   "outputs": [
    {
     "name": "stderr",
     "output_type": "stream",
     "text": [
      "/usr/local/lib/python3.7/site-packages/ipykernel_launcher.py:76: UserWarning: Matplotlib is currently using module://ipykernel.pylab.backend_inline, which is a non-GUI backend, so cannot show the figure.\n"
     ]
    },
    {
     "data": {
      "image/png": "[encoded data removed]",
      "text/plain": [
       "<Figure size 720x360 with 2 Axes>"
      ]
     },
     "metadata": {
      "needs_background": "light"
     },
     "output_type": "display_data"
    }
   ],
   "source": [
    "Make_subplots_2(lst_eps,'Synthetic4')"
   ]
  },
  {
   "cell_type": "code",
   "execution_count": null,
   "metadata": {},
   "outputs": [],
   "source": []
  }
 ],
 "metadata": {
  "kernelspec": {
   "display_name": "Python 3",
   "language": "python",
   "name": "python3"
  },
  "language_info": {
   "codemirror_mode": {
    "name": "ipython",
    "version": 3
   },
   "file_extension": ".py",
   "mimetype": "text/x-python",
   "name": "python",
   "nbconvert_exporter": "python",
   "pygments_lexer": "ipython3",
   "version": "3.7.3"
  }
 },
 "nbformat": 4,
 "nbformat_minor": 2
}
