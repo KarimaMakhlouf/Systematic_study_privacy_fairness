{
 "cells": [
  {
   "cell_type": "code",
   "execution_count": 2,
   "metadata": {},
   "outputs": [],
   "source": [
    "import math "
   ]
  },
  {
   "cell_type": "code",
   "execution_count": 3,
   "metadata": {},
   "outputs": [],
   "source": [
    "import numpy as np\n",
    "import matplotlib.pyplot as plt\n",
    "import pandas as pd\n",
    "import time\n",
    "import copy\n",
    "import itertools\n",
    "\n",
    "# Sklearn imports\n",
    "from sklearn.model_selection import StratifiedKFold\n",
    "from sklearn.ensemble import RandomForestClassifier\n",
    "from sklearn.preprocessing import LabelEncoder\n",
    "from sklearn.model_selection import train_test_split\n",
    "from multi_freq_ldpy.pure_frequency_oracles.GRR import GRR_Client\n",
    "from sklearn.metrics import confusion_matrix, accuracy_score, precision_score, recall_score\n",
    "# LDP import\n",
    "from GRR import GRR_Client\n",
    "from GroupFairnessNotions import confusion_matrix_scorer, Statistical_parity, Metric_disparity, Equal_opportunity, Predictive_equality, Treatment_equality, Overall_accuracy, Predictive_rate_parity, CSD"
   ]
  },
  {
   "cell_type": "code",
   "execution_count": 4,
   "metadata": {},
   "outputs": [],
   "source": [
    "# Evaluating nb_seed times due to randomness\n",
    "nb_seed = 20\n",
    "\n",
    "dataset = 'Synthetic6'\n",
    "path_results = 'Results/'\n",
    "\n",
    "# list of epsilon\n",
    "#[8,2,1,0.8,0.5,0.40,0.27,0.2,0.1]\n",
    "lst_eps = [16,8,2,1,0.85,0.5,0.40,0.27,0.23,0.1]\n",
    "\n",
    "# Target attribute\n",
    "target = 'Y' \n",
    "\n",
    "# Protected attribute \n",
    "protected_att = 'A'\n",
    "\n",
    "test_size = 0.2\n",
    "\n",
    "nb_samples = 1e5\n",
    "\n",
    "lst_sensitive = [protected_att,'X']"
   ]
  },
  {
   "cell_type": "code",
   "execution_count": 5,
   "metadata": {},
   "outputs": [],
   "source": [
    "def generate_synthetic_data(n):\n",
    "#     X = np.random.binomial(1,p,n)\n",
    "    X = np.random.randint(0,5,n)\n",
    "    A = [np.random.binomial(1,0.55,1)[0] if x < 3 else np.random.binomial(1,0.75,1)[0] for x in X]\n",
    "         #if x==1 else np.random.binomial(1,0.35,1)[0] if x==2 else np.random.binomial(1,0.45,1)[0] if x==3 else np.random.binomial(1,0.75,1)[0] for x in X]\n",
    "    Y = [0.5*x + 0.75*a + np.random.normal(size=1) [0] for x,a in zip(X,A)]\n",
    "    df = pd.DataFrame({'X': X, 'A': A, 'Y':Y})\n",
    "    return df"
   ]
  },
  {
   "cell_type": "code",
   "execution_count": 6,
   "metadata": {},
   "outputs": [],
   "source": [
    "df = generate_synthetic_data(100000)"
   ]
  },
  {
   "cell_type": "code",
   "execution_count": 7,
   "metadata": {},
   "outputs": [
    {
     "data": {
      "text/plain": [
       "1    62789\n",
       "0    37211\n",
       "Name: A, dtype: int64"
      ]
     },
     "execution_count": 7,
     "metadata": {},
     "output_type": "execute_result"
    }
   ],
   "source": [
    "df.A.value_counts()"
   ]
  },
  {
   "cell_type": "code",
   "execution_count": 8,
   "metadata": {},
   "outputs": [
    {
     "data": {
      "text/plain": [
       "4    20175\n",
       "2    20104\n",
       "1    20017\n",
       "3    19862\n",
       "0    19842\n",
       "Name: X, dtype: int64"
      ]
     },
     "execution_count": 8,
     "metadata": {},
     "output_type": "execute_result"
    }
   ],
   "source": [
    "df.X.value_counts()"
   ]
  },
  {
   "cell_type": "code",
   "execution_count": 9,
   "metadata": {},
   "outputs": [],
   "source": [
    "th=df.Y.quantile(.25)\n",
    "#np.quantile(arr, .75)"
   ]
  },
  {
   "cell_type": "code",
   "execution_count": 10,
   "metadata": {},
   "outputs": [],
   "source": [
    "#th=df.Y.quantile(.5)"
   ]
  },
  {
   "cell_type": "code",
   "execution_count": 11,
   "metadata": {},
   "outputs": [],
   "source": [
    "#th=1"
   ]
  },
  {
   "cell_type": "code",
   "execution_count": 12,
   "metadata": {},
   "outputs": [
    {
     "data": {
      "text/plain": [
       "count    100000.000000\n",
       "mean          1.475462\n",
       "std           1.313797\n",
       "min          -3.803768\n",
       "25%           0.567959\n",
       "50%           1.479696\n",
       "75%           2.387674\n",
       "max           6.662169\n",
       "Name: Y, dtype: float64"
      ]
     },
     "execution_count": 12,
     "metadata": {},
     "output_type": "execute_result"
    }
   ],
   "source": [
    "df.Y.describe()"
   ]
  },
  {
   "cell_type": "code",
   "execution_count": 13,
   "metadata": {},
   "outputs": [],
   "source": [
    "df['Y'] = df['Y'].apply(lambda x: 1 if x > th else 0)\n",
    "\n",
    "#df['<= 53'] = df['mynumbers'].apply(lambda x: 'True' if x <= 53 else 'False')"
   ]
  },
  {
   "cell_type": "code",
   "execution_count": 14,
   "metadata": {},
   "outputs": [
    {
     "data": {
      "text/plain": [
       "1    75000\n",
       "0    25000\n",
       "Name: Y, dtype: int64"
      ]
     },
     "execution_count": 14,
     "metadata": {},
     "output_type": "execute_result"
    }
   ],
   "source": [
    "df.Y.value_counts()"
   ]
  },
  {
   "cell_type": "markdown",
   "metadata": {},
   "source": [
    "## Data Distribution"
   ]
  },
  {
   "cell_type": "code",
   "execution_count": 15,
   "metadata": {
    "scrolled": true
   },
   "outputs": [
    {
     "name": "stdout",
     "output_type": "stream",
     "text": [
      "1    75000\n",
      "0    25000\n",
      "Name: Y, dtype: int64\n",
      "A0_Y0: 15501\n",
      " A0_Y1: 21710\n",
      " A1_Y0: 9499\n",
      " A1_Y1: 53290\n"
     ]
    }
   ],
   "source": [
    "print(df.Y.value_counts())\n",
    "A0_Y0 = len(df[(df['A'] == 0) & (df['Y'] == 0)])\n",
    "A0_Y1 = len(df[(df['A'] == 0) & (df['Y'] == 1)])\n",
    "A1_Y0 = len(df[(df['A'] == 1) & (df['Y'] == 0)])\n",
    "A1_Y1 = len(df[(df['A'] == 1) & (df['Y'] == 1)])\n",
    "print(f'A0_Y0: {A0_Y0}\\n A0_Y1: {A0_Y1}\\n A1_Y0: {A1_Y0}\\n A1_Y1: {A1_Y1}')"
   ]
  },
  {
   "cell_type": "code",
   "execution_count": 16,
   "metadata": {},
   "outputs": [
    {
     "name": "stdout",
     "output_type": "stream",
     "text": [
      "4    20175\n",
      "2    20104\n",
      "1    20017\n",
      "3    19862\n",
      "0    19842\n",
      "Name: X, dtype: int64\n",
      "A0_X0_Y0: 0.06381\n",
      "\n",
      "A0_X1_Y0: 0.0481\n",
      "\n",
      "A0_X2_Y0: 0.0308\n",
      "\n",
      "A0_X3_Y0: 0.0829\n",
      "\n",
      "A0_X4_Y0: 0.00401\n",
      "\n",
      "A0_X0_Y1: 0.02487\n",
      "\n",
      "A0_X1_Y1: 0.04295\n",
      "\n",
      "A0_X2_Y1: 0.06053\n",
      "\n",
      "A0_X3_Y1: 0.04231\n",
      "\n",
      "A0_X4_Y1: 0.04644\n",
      "\n",
      "A1_X0_Y0: 0.04578\n",
      "\n",
      "A1_X1_Y0: 0.02688\n",
      "\n",
      "A1_X2_Y0: 0.01292\n",
      "\n",
      "A1_X3_Y0: 0.0712\n",
      "\n",
      "A1_X4_Y0: 0.00229\n",
      "\n",
      "A1_X0_Y1: 0.06396\n",
      "\n",
      "A1_X1_Y1: 0.08224\n",
      "\n",
      "A1_X2_Y1: 0.09679\n",
      "\n",
      "A1_X3_Y1: 0.1409\n",
      "\n",
      "A1_X4_Y1: 0.14901\n",
      "\n"
     ]
    }
   ],
   "source": [
    "print(df.X.value_counts())\n",
    "A0_X0_Y0 = len(df[(df['A'] == 0) & (df['X'] == 0) & (df['Y'] == 0)])\n",
    "A0_X1_Y0 = len(df[(df['A'] == 0) & (df['X'] == 1) & (df['Y'] == 0)])\n",
    "A0_X2_Y0 = len(df[(df['A'] == 0) & (df['X'] == 2) & (df['Y'] == 0)])\n",
    "A0_X3_Y0 = len(df[(df['A'] == 0) & (df['X'] == 3) & (df['Y'] == 0)])\n",
    "A0_X4_Y0 = len(df[(df['A'] == 0) & (df['X'] == 4) & (df['Y'] == 0)])\n",
    "\n",
    "A0_X0_Y1 = len(df[(df['A'] == 0) & (df['X'] == 0) & (df['Y'] == 1)])\n",
    "A0_X1_Y1 = len(df[(df['A'] == 0) & (df['X'] == 1) & (df['Y'] == 1)])\n",
    "A0_X2_Y1 = len(df[(df['A'] == 0) & (df['X'] == 2) & (df['Y'] == 1)])\n",
    "A0_X3_Y1 = len(df[(df['A'] == 0) & (df['X'] == 3) & (df['Y'] == 1)])\n",
    "A0_X4_Y1 = len(df[(df['A'] == 0) & (df['X'] == 4) & (df['Y'] == 1)])\n",
    "\n",
    "A1_X0_Y0 = len(df[(df['A'] == 1) & (df['X'] == 0) & (df['Y'] == 0)])\n",
    "A1_X1_Y0 = len(df[(df['A'] == 1) & (df['X'] == 1) & (df['Y'] == 0)])\n",
    "A1_X2_Y0 = len(df[(df['A'] == 1) & (df['X'] == 2) & (df['Y'] == 0)])\n",
    "A1_X3_Y0 = len(df[(df['A'] == 1) & (df['X'] == 3) & (df['Y'] == 0)])\n",
    "A1_X4_Y0 = len(df[(df['A'] == 1) & (df['X'] == 4) & (df['Y'] == 0)])\n",
    "\n",
    "A1_X0_Y1 = len(df[(df['A'] == 1) & (df['X'] == 0) & (df['Y'] == 1)])\n",
    "A1_X1_Y1 = len(df[(df['A'] == 1) & (df['X'] == 1) & (df['Y'] == 1)])\n",
    "A1_X2_Y1 = len(df[(df['A'] == 1) & (df['X'] == 2) & (df['Y'] == 1)])\n",
    "A1_X3_Y1 = len(df[(df['A'] == 1) & (df['X'] == 3) & (df['Y'] == 1)])\n",
    "A1_X4_Y1 = len(df[(df['A'] == 1) & (df['X'] == 4) & (df['Y'] == 1)])\n",
    "\n",
    "\n",
    "\n",
    "\n",
    "print(f'A0_X0_Y0: {A0_X0_Y0/100000}\\n') \n",
    "print(f'A0_X1_Y0: {A0_X1_Y0/100000}\\n') \n",
    "print(f'A0_X2_Y0: {A0_X2_Y0/100000}\\n') \n",
    "print(f'A0_X3_Y0: {A0_X3_Y0/10000}\\n')\n",
    "print(f'A0_X4_Y0: {A0_X4_Y0/100000}\\n')\n",
    "\n",
    "print(f'A0_X0_Y1: {A0_X0_Y1/100000}\\n') \n",
    "print(f'A0_X1_Y1: {A0_X1_Y1/100000}\\n') \n",
    "print(f'A0_X2_Y1: {A0_X2_Y1/100000}\\n') \n",
    "print(f'A0_X3_Y1: {A0_X3_Y1/100000}\\n')\n",
    "print(f'A0_X4_Y1: {A0_X4_Y1/100000}\\n')\n",
    "\n",
    "print(f'A1_X0_Y0: {A1_X0_Y0/100000}\\n') \n",
    "print(f'A1_X1_Y0: {A1_X1_Y0/100000}\\n') \n",
    "print(f'A1_X2_Y0: {A1_X2_Y0/100000}\\n') \n",
    "print(f'A1_X3_Y0: {A1_X3_Y0/10000}\\n')\n",
    "print(f'A1_X4_Y0: {A1_X4_Y0/100000}\\n')\n",
    "\n",
    "print(f'A1_X0_Y1: {A1_X0_Y1/100000}\\n') \n",
    "print(f'A1_X1_Y1: {A1_X1_Y1/100000}\\n') \n",
    "print(f'A1_X2_Y1: {A1_X2_Y1/100000}\\n') \n",
    "print(f'A1_X3_Y1: {A1_X3_Y1/100000}\\n')\n",
    "print(f'A1_X4_Y1: {A1_X4_Y1/100000}\\n')\n",
    "\n",
    "\n",
    "\n",
    "l = [A0_X0_Y0,A0_X1_Y0,A1_X0_Y0,A1_X1_Y0,A0_X0_Y1,A0_X1_Y1,A1_X0_Y1,A1_X1_Y1,A0_X2_Y0,A0_X3_Y0,A1_X2_Y0,A1_X3_Y0,A0_X2_Y1,A0_X3_Y1,A1_X2_Y1,A1_X3_Y1,A0_X4_Y0,A1_X4_Y0,A0_X4_Y1,A1_X4_Y1]\n",
    "x = sum(l)/100000\n",
    "\n",
    "\n",
    "\n",
    "\n"
   ]
  },
  {
   "cell_type": "code",
   "execution_count": 17,
   "metadata": {},
   "outputs": [
    {
     "data": {
      "text/plain": [
       "1.0"
      ]
     },
     "execution_count": 17,
     "metadata": {},
     "output_type": "execute_result"
    }
   ],
   "source": [
    "x"
   ]
  },
  {
   "cell_type": "code",
   "execution_count": 18,
   "metadata": {},
   "outputs": [],
   "source": [
    "A0 = len(df[(df['A'] == 0)])/len(df)\n",
    "A1 = len(df[(df['A'] == 1)])/len(df)\n",
    "X1 = len(df[(df['X'] == 1)])/len(df)\n",
    "X0 = len(df[(df['X'] == 0)])/len(df)"
   ]
  },
  {
   "cell_type": "markdown",
   "metadata": {},
   "source": [
    "# Non-private Random Forest (using train/test splitting)"
   ]
  },
  {
   "cell_type": "code",
   "execution_count": 19,
   "metadata": {},
   "outputs": [
    {
     "name": "stdout",
     "output_type": "stream",
     "text": [
      "0\n",
      "1\n",
      "2\n",
      "3\n",
      "4\n",
      "5\n",
      "6\n",
      "7\n",
      "8\n",
      "9\n",
      "10\n",
      "11\n",
      "12\n",
      "13\n",
      "14\n",
      "15\n",
      "16\n",
      "17\n",
      "18\n",
      "19\n"
     ]
    }
   ],
   "source": [
    "np_sp_min1, np_sp_maj1, np_sd = [], [], []\n",
    "np_acc1 = []\n",
    "np_oa_min1, np_oa_maj1, np_oad = [], [], []\n",
    "ndp_csp_minX0, ndp_csp_majX0, np_csd_X0, ndp_csp_minX1, ndp_csp_majX1, np_csd_X1 = [], [] ,[] , [],[], []\n",
    "ndp_csp_minX2, ndp_csp_majX2, np_csd_X2, ndp_csp_minX3, ndp_csp_majX3, np_csd_X3 = [], [] ,[] , [],[], []\n",
    "ndp_csp_minX4, ndp_csp_majX4, np_csd_X4 = [], [] ,[] \n",
    "np_eo_min1, np_eo_maj1, np_eod = [], [], []\n",
    "np_pe_min1, np_pe_maj1, np_ped = [], [], []\n",
    "\n",
    "\n",
    "for seed in range(nb_seed):\n",
    "    print(seed)\n",
    "    np.random.seed(seed) # for reproducibility\n",
    "    \n",
    "    # Use original datasets\n",
    "    X = copy.deepcopy(df.drop(target, axis=1))\n",
    "    y = copy.deepcopy(df[target])\n",
    "\n",
    "    # Train test splitting\n",
    "    X_train, X_test, y_train, y_test = train_test_split(X, y, test_size=test_size, shuffle=True, stratify=y, random_state=seed)\n",
    "    \n",
    "    # instantiate and train model\n",
    "    model = RandomForestClassifier(n_jobs=-1)\n",
    "    model.fit(X_train, y_train)\n",
    "    y_pred = model.predict(X_test)\n",
    "    acc = accuracy_score(y_test, y_pred)\n",
    "\n",
    "    # retrieving minority, majority from the test set\n",
    "    X_test_min, X_test_maj = X_test[X_test[protected_att] == 0], X_test[X_test[protected_att] == 1]\n",
    "\n",
    "    # predicted outcomes for minority, majority\n",
    "    y_pred_min, y_pred_maj = model.predict(X_test_min), model.predict(X_test_maj)\n",
    "\n",
    "    indices_min, indices_maj = X_test_min.index, X_test_maj.index\n",
    "    y_test_min, y_test_maj = y_test.get(key = indices_min), y_test.get(key = indices_maj)\n",
    "    \n",
    "    # Needed for the computation of Cond.Stat.Disp\n",
    "            \n",
    "    # retrieving four groups: A=0_X=0, A0_X=1, A1_X=0, A1_X=1 from the test set\n",
    "\n",
    "    X_test_min_X0, X_test_min_X1, X_test_maj_X0, X_test_maj_X1,X_test_min_X2, X_test_min_X3, X_test_maj_X2, X_test_maj_X3,X_test_min_X4, X_test_maj_X4 = X_test[(X_test[protected_att] == 0) & (X_test['X'] == 0)], X_test[(X_test[protected_att] == 0) & (X_test['X'] == 1)],X_test[(X_test[protected_att] == 1) & (X_test['X'] == 0)], X_test[(X_test[protected_att] == 1) & (X_test['X'] == 1)],X_test[(X_test[protected_att] == 0) & (X_test['X'] == 2)], X_test[(X_test[protected_att] == 0) & (X_test['X'] == 3)],X_test[(X_test[protected_att] == 1) & (X_test['X'] == 2)], X_test[(X_test[protected_att] == 1) & (X_test['X'] == 3)],X_test[(X_test[protected_att] == 0) & (X_test['X'] == 4)], X_test[(X_test[protected_att] == 1) & (X_test['X'] == 4)]\n",
    "    \n",
    "    \n",
    "    # confusion matrix for minority, majority\n",
    "    conf_matrix_min, conf_matrix_maj = confusion_matrix_scorer(y_test_min,y_pred_min), confusion_matrix_scorer(y_test_maj,y_pred_maj)\n",
    "    \n",
    "    # predicted outcomes for the four groups\n",
    "    y_pred_min_X0, y_pred_min_X1, y_pred_maj_X0, y_pred_maj_X1,y_pred_min_X2, y_pred_min_X3, y_pred_maj_X2, y_pred_maj_X3,y_pred_min_X4, y_pred_maj_X4= model.predict(X_test_min_X0), model.predict(X_test_min_X1), model.predict(X_test_maj_X0), model.predict(X_test_maj_X1), model.predict(X_test_min_X2), model.predict(X_test_min_X3), model.predict(X_test_maj_X2), model.predict(X_test_maj_X3),model.predict(X_test_min_X4), model.predict(X_test_maj_X4)\n",
    "\n",
    "    \n",
    "    # computing fairness metrics\n",
    "    np_sp_min1.append(Statistical_parity(y_pred_min))\n",
    "    np_sp_maj1.append(Statistical_parity(y_pred_maj))\n",
    "    np_sd.append(Metric_disparity(Statistical_parity(y_pred_maj), Statistical_parity(y_pred_min)))\n",
    "    np_eo_min1.append(Equal_opportunity(conf_matrix_min))\n",
    "    np_eo_maj1.append(Equal_opportunity(conf_matrix_maj))\n",
    "    np_eod.append(Metric_disparity(Equal_opportunity(conf_matrix_maj), Equal_opportunity(conf_matrix_min)))\n",
    "    np_pe_min1.append(Predictive_equality(conf_matrix_min))\n",
    "    np_pe_maj1.append(Predictive_equality(conf_matrix_maj))\n",
    "    np_ped.append(Metric_disparity(Predictive_equality(conf_matrix_maj), Predictive_equality(conf_matrix_min)))\n",
    "    \n",
    "    ndp_csp_minX0.append(Statistical_parity(y_pred_min_X0))\n",
    "    ndp_csp_majX0.append(Statistical_parity(y_pred_maj_X0))\n",
    "    np_csd_X0.append(Metric_disparity(Statistical_parity(y_pred_maj_X0), Statistical_parity(y_pred_min_X0)))\n",
    "    \n",
    "    ndp_csp_minX1.append(Statistical_parity(y_pred_min_X1))\n",
    "    ndp_csp_majX1.append(Statistical_parity(y_pred_maj_X1))  \n",
    "    np_csd_X1.append(Metric_disparity(Statistical_parity(y_pred_maj_X1), Statistical_parity(y_pred_min_X1)))\n",
    "    \n",
    "    ndp_csp_minX2.append(Statistical_parity(y_pred_min_X2))\n",
    "    ndp_csp_majX2.append(Statistical_parity(y_pred_maj_X2))\n",
    "    np_csd_X2.append(Metric_disparity(Statistical_parity(y_pred_maj_X2), Statistical_parity(y_pred_min_X2)))\n",
    "    \n",
    "    ndp_csp_minX3.append(Statistical_parity(y_pred_min_X3))\n",
    "    ndp_csp_majX3.append(Statistical_parity(y_pred_maj_X3))  \n",
    "    np_csd_X3.append(Metric_disparity(Statistical_parity(y_pred_maj_X3), Statistical_parity(y_pred_min_X3)))\n",
    "    \n",
    "    ndp_csp_minX4.append(Statistical_parity(y_pred_min_X4))\n",
    "    ndp_csp_majX4.append(Statistical_parity(y_pred_maj_X4))  \n",
    "    np_csd_X4.append(Metric_disparity(Statistical_parity(y_pred_maj_X4), Statistical_parity(y_pred_min_X4)))\n",
    "    \n",
    "    \n",
    "    \n",
    "    \n",
    "    \n",
    "    np_oa_min1.append(Overall_accuracy(y_test_min, y_pred_min))\n",
    "    np_oa_maj1.append(Overall_accuracy(y_test_maj, y_pred_maj))\n",
    "    np_oad.append(Metric_disparity(Overall_accuracy(y_test_maj, y_pred_maj), Overall_accuracy(y_test_min, y_pred_min)))\n",
    "    np_acc1.append(acc)\n"
   ]
  },
  {
   "cell_type": "code",
   "execution_count": 20,
   "metadata": {
    "scrolled": true
   },
   "outputs": [
    {
     "name": "stdout",
     "output_type": "stream",
     "text": [
      "\n",
      "=======================================No DP=======================================\n",
      "\n",
      "Non-Private fairness notions considering the protected attribute A:\n",
      "The predicted acceptance rate (statistical parity) for A=0 is: 0.5159301184862233\n",
      "The predicted acceptance rate (statistical parity) for A=1 is: 1.0\n",
      "The true positive rate (Equal Opporunity) for A=0 is: 0.6864510716574438\n",
      "The true positive rate (Equal Opporunity) for A=1 is: 1.0\n",
      "The false positive rate (Predictive Equality) for A=0 is: 0.27624182514078843\n",
      "The false positive rate (Predictive Equality) for A=1 is: 1.0\n",
      "The conditional acceptance rate for A=0/X=0 is: 0.0\n",
      "The conditional acceptance rate for A=1/X=0 is: 1.0\n",
      "The conditional acceptance rate for A=0/X=1 is: 0.0\n",
      "The conditional acceptance rate for A=1/X=1 is: 1.0\n",
      "The conditional acceptance rate for A=0/X=2 is: 1.0\n",
      "The conditional acceptance rate for A=1/X=2 is: 1.0\n",
      "The conditional acceptance rate for A=0/X=3 is: 1.0\n",
      "The conditional acceptance rate for A=1/X=3 is: 1.0\n",
      "The conditional acceptance rate for A=0/X=4 is: 1.0\n",
      "The conditional acceptance rate for A=1/X=4 is: 1.0\n"
     ]
    }
   ],
   "source": [
    "print(\"\\n=======================================No DP=======================================\\n\")\n",
    "\n",
    "print('Non-Private fairness notions considering the protected attribute '+str(protected_att)+':')\n",
    "print(\"The predicted acceptance rate (statistical parity) for A=0 is:\", np.mean(np_sp_min1))\n",
    "print(\"The predicted acceptance rate (statistical parity) for A=1 is:\", np.mean(np_sp_maj1))\n",
    "print(\"The true positive rate (Equal Opporunity) for A=0 is:\", np.mean(np_eo_min1))\n",
    "print(\"The true positive rate (Equal Opporunity) for A=1 is:\", np.mean(np_eo_maj1))\n",
    "print(\"The false positive rate (Predictive Equality) for A=0 is:\", np.mean(np_pe_min1))\n",
    "print(\"The false positive rate (Predictive Equality) for A=1 is:\", np.mean(np_pe_maj1))\n",
    "print(\"The conditional acceptance rate for A=0/X=0 is:\", np.mean(ndp_csp_minX0))\n",
    "print(\"The conditional acceptance rate for A=1/X=0 is:\", np.mean(ndp_csp_majX0)) \n",
    "print(\"The conditional acceptance rate for A=0/X=1 is:\", np.mean(ndp_csp_minX1))\n",
    "print(\"The conditional acceptance rate for A=1/X=1 is:\", np.mean(ndp_csp_majX1))\n",
    "print(\"The conditional acceptance rate for A=0/X=2 is:\", np.mean(ndp_csp_minX2))\n",
    "print(\"The conditional acceptance rate for A=1/X=2 is:\", np.mean(ndp_csp_majX2)) \n",
    "print(\"The conditional acceptance rate for A=0/X=3 is:\", np.mean(ndp_csp_minX3))\n",
    "print(\"The conditional acceptance rate for A=1/X=3 is:\", np.mean(ndp_csp_majX3))\n",
    "print(\"The conditional acceptance rate for A=0/X=4 is:\", np.mean(ndp_csp_minX4))\n",
    "print(\"The conditional acceptance rate for A=1/X=4 is:\", np.mean(ndp_csp_majX4))\n",
    "# print(\"The overall accuracy for A=0 is:\", np.mean(np_oa_min1))\n",
    "# print(\"The overall accuracy for A=1 is:\", np.mean(np_oa_maj1))\n",
    "# print(\"The overall accuracy is:\", np.mean(np_acc1))"
   ]
  },
  {
   "cell_type": "markdown",
   "metadata": {},
   "source": [
    "# Starting with Local Differential Privacy"
   ]
  },
  {
   "cell_type": "code",
   "execution_count": 21,
   "metadata": {
    "scrolled": false
   },
   "outputs": [
    {
     "name": "stdout",
     "output_type": "stream",
     "text": [
      "\n",
      "========= Setting 1: Local DP: only the sensitive feature is obfuscated =========\n",
      "\n",
      "16\n",
      "8\n",
      "2\n",
      "1\n",
      "0.85\n",
      "0.5\n",
      "0.4\n",
      "0.27\n",
      "0.23\n",
      "0.1\n",
      "That took 525.6808769702911 seconds\n"
     ]
    }
   ],
   "source": [
    "starttime = time.time()\n",
    "print(\"\\n========= Setting 1: Local DP: only the sensitive feature is obfuscated =========\\n\")\n",
    "\n",
    "df_cp = copy.deepcopy(df)\n",
    "\n",
    "sldp_sp_min1, sldp_sp_maj1, sldp_sd, sd_std  = [], [], [], []\n",
    "sldp_csp_minX0, sldp_csp_majX0, sldp_csd_X0, csd_X0_std, sldp_csp_minX1, sldp_csp_majX1, sldp_csd_X1, csd_X1_std = [], [] , [], [], [],[], [], []\n",
    "sldp_csp_minX2, sldp_csp_majX2, sldp_csd_X2, csd_X2_std, sldp_csp_minX3, sldp_csp_majX3, sldp_csd_X3, csd_X3_std = [], [] , [], [], [],[], [], []\n",
    "sldp_csp_minX4, sldp_csp_majX4, sldp_csd_X4, csd_X4_std= [], [] , [], []\n",
    "\n",
    "\n",
    "sldp_oa_min1, sldp_oa_maj1, sldp_oad, oad_std = [], [], [], []\n",
    "sldp_eo_min1, sldp_eo_maj1, sldp_eod, eod_std = [], [], [], []\n",
    "sldp_pe_min1, sldp_pe_maj1, sldp_ped, ped_std = [], [], [], []\n",
    "sldp_acc1 = []\n",
    "\n",
    "\n",
    "\n",
    "for epsilon in lst_eps:\n",
    "    print(epsilon)\n",
    "    \n",
    "    ldp_sp_min, ldp_sp_maj, ldp_sd = [], [], []\n",
    "    ldp_csp_minX0, ldp_csp_majX0, ldp_csd_X0, ldp_csp_minX1, ldp_csp_majX1,ldp_csd_X1 = [], [],[], [], [], []\n",
    "    ldp_csp_minX2, ldp_csp_majX2, ldp_csd_X2, ldp_csp_minX3, ldp_csp_majX3,ldp_csd_X3 = [], [],[], [], [], []\n",
    "    ldp_csp_minX4, ldp_csp_majX4, ldp_csd_X4 = [], [],[]\n",
    "    ldp_acc = []\n",
    "    ldp_oa_min, ldp_oa_maj, ldp_oad  = [], [], []\n",
    "    ldp_eo_min, ldp_eo_maj, ldp_eod  = [], [], []\n",
    "    ldp_pe_min, ldp_pe_maj, ldp_ped = [], [], []\n",
    "    \n",
    "    for seed in range(nb_seed):\n",
    "        #np.random.seed(seed)\n",
    "\n",
    "\n",
    "        # Preparing X and y using pandas\n",
    "        X = copy.deepcopy(df_cp.drop(target, axis=1))\n",
    "        y = copy.deepcopy(df_cp[target])\n",
    "\n",
    "        # Train test splitting\n",
    "        X_train, X_test, y_train, y_test = train_test_split(X, y, test_size=test_size, shuffle=True, stratify=y, random_state=seed)\n",
    "\n",
    "        # Attribute's domain size\n",
    "        k = len(set(X[protected_att]))\n",
    "\n",
    "        # Applying GRR to the protected attribute of the training set\n",
    "        X_train[protected_att] = X_train[protected_att].apply(lambda x: GRR_Client(x, k, epsilon))\n",
    "        \n",
    "        # instantiate and train model\n",
    "        model = RandomForestClassifier(n_jobs=-1)\n",
    "        model.fit(X_train, y_train)\n",
    "\n",
    "        y_pred = model.predict(X_test) # prediction of the actual samples\n",
    "        \n",
    "        acc = accuracy_score(y_test, y_pred)\n",
    "\n",
    "        # retrieving minority, majority from the test set\n",
    "        X_test_min, X_test_maj = X_test[X_test[protected_att] == 0], X_test[X_test[protected_att] == 1]\n",
    "\n",
    "        # predicted outcomes for minority, majority\n",
    "        y_pred_min, y_pred_maj = model.predict(X_test_min), model.predict(X_test_maj)\n",
    "\n",
    "        indices_min, indices_maj = X_test_min.index, X_test_maj.index\n",
    "        y_test_min, y_test_maj = y_test.get(key = indices_min), y_test.get(key = indices_maj)\n",
    "        \n",
    "        \n",
    "        # Needed for the computation of Cond.Stat.Disp\n",
    "            \n",
    "        # retrieving four groups: A=0_X=0, A0_X=1, A1_X=0, A1_X=1 from the test set\n",
    "            \n",
    "        X_test_min_X0, X_test_min_X1, X_test_maj_X0, X_test_maj_X1,X_test_min_X2, X_test_min_X3, X_test_maj_X2, X_test_maj_X3,X_test_min_X4, X_test_maj_X4 = X_test[(X_test[protected_att] == 0) & (X_test['X'] == 0)], X_test[(X_test[protected_att] == 0) & (X_test['X'] == 1)],X_test[(X_test[protected_att] == 1) & (X_test['X'] == 0)], X_test[(X_test[protected_att] == 1) & (X_test['X'] == 1)],X_test[(X_test[protected_att] == 0) & (X_test['X'] == 2)], X_test[(X_test[protected_att] == 0) & (X_test['X'] == 3)],X_test[(X_test[protected_att] == 1) & (X_test['X'] == 2)], X_test[(X_test[protected_att] == 1) & (X_test['X'] == 3)],X_test[(X_test[protected_att] == 0) & (X_test['X'] == 4)], X_test[(X_test[protected_att] == 1) & (X_test['X'] == 4)]\n",
    "        \n",
    "        # confusion matrix for minority, majority\n",
    "        conf_matrix_min, conf_matrix_maj = confusion_matrix_scorer(y_test_min,y_pred_min), confusion_matrix_scorer(y_test_maj,y_pred_maj)\n",
    "\n",
    "        \n",
    "        # predicted outcomes for the four groups\n",
    "#         y_pred_min_X0, y_pred_min_X1, y_pred_maj_X0, y_pred_maj_X1 = model.predict(X_test_min_X0), model.predict(X_test_min_X1), model.predict(X_test_maj_X0), model.predict(X_test_maj_X1)  \n",
    "#         \n",
    "        # predicted outcomes for the four groups\n",
    "        y_pred_min_X0, y_pred_min_X1, y_pred_maj_X0, y_pred_maj_X1,y_pred_min_X2, y_pred_min_X3, y_pred_maj_X2, y_pred_maj_X3,y_pred_min_X4, y_pred_maj_X4= model.predict(X_test_min_X0), model.predict(X_test_min_X1), model.predict(X_test_maj_X0), model.predict(X_test_maj_X1), model.predict(X_test_min_X2), model.predict(X_test_min_X3), model.predict(X_test_maj_X2), model.predict(X_test_maj_X3),model.predict(X_test_min_X4), model.predict(X_test_maj_X4)\n",
    "\n",
    "\n",
    "\n",
    "#pred_A0_X0.append(y_pred_min_X0)\n",
    "#         pred_A0_X1.append(y_pred_min_X1)\n",
    "#         pred_A1_X0.append(y_pred_min_X0)\n",
    "#         pred_A1_X1.append(y_pred_maj_X1)\n",
    "        # computing fairness metrics with obfuscated A\n",
    "        ldp_sp_min.append(Statistical_parity(y_pred_min))\n",
    "        ldp_sp_maj.append(Statistical_parity(y_pred_maj))\n",
    "        ldp_sd.append(Metric_disparity(Statistical_parity(y_pred_maj), Statistical_parity(y_pred_min)))\n",
    "        \n",
    "        ldp_eo_min.append(Equal_opportunity(conf_matrix_min))   \n",
    "        ldp_eo_maj.append(Equal_opportunity(conf_matrix_maj))\n",
    "        ldp_eod.append(Metric_disparity(Equal_opportunity(conf_matrix_maj), Equal_opportunity(conf_matrix_min)))\n",
    "        \n",
    "        ldp_pe_min.append(Predictive_equality(conf_matrix_min))\n",
    "        ldp_pe_maj.append(Predictive_equality(conf_matrix_maj))\n",
    "        ldp_ped.append(Metric_disparity(Predictive_equality(conf_matrix_maj), Predictive_equality(conf_matrix_min)))\n",
    "        \n",
    "        ldp_csp_minX0.append(Statistical_parity(y_pred_min_X0))\n",
    "        ldp_csp_majX0.append(Statistical_parity(y_pred_maj_X0))\n",
    "        ldp_csd_X0.append(Metric_disparity(Statistical_parity(y_pred_maj_X0), Statistical_parity(y_pred_min_X0)))\n",
    "        \n",
    "        ldp_csp_minX1.append(Statistical_parity(y_pred_min_X1))\n",
    "        ldp_csp_majX1.append(Statistical_parity(y_pred_maj_X1))\n",
    "        ldp_csd_X1.append(Metric_disparity(Statistical_parity(y_pred_maj_X1), Statistical_parity(y_pred_min_X1)))\n",
    "        \n",
    "        ldp_csp_minX2.append(Statistical_parity(y_pred_min_X2))\n",
    "        ldp_csp_majX2.append(Statistical_parity(y_pred_maj_X2))\n",
    "        ldp_csd_X2.append(Metric_disparity(Statistical_parity(y_pred_maj_X2), Statistical_parity(y_pred_min_X2)))\n",
    "        \n",
    "        ldp_csp_minX3.append(Statistical_parity(y_pred_min_X3))\n",
    "        ldp_csp_majX3.append(Statistical_parity(y_pred_maj_X3))\n",
    "        ldp_csd_X3.append(Metric_disparity(Statistical_parity(y_pred_maj_X3), Statistical_parity(y_pred_min_X3)))\n",
    "       \n",
    "        ldp_csp_minX4.append(Statistical_parity(y_pred_min_X4))\n",
    "        ldp_csp_majX4.append(Statistical_parity(y_pred_maj_X4))\n",
    "        ldp_csd_X4.append(Metric_disparity(Statistical_parity(y_pred_maj_X4), Statistical_parity(y_pred_min_X4)))\n",
    "       \n",
    "        \n",
    "        \n",
    "        ldp_oa_min.append(Overall_accuracy(y_test_min, y_pred_min))\n",
    "        ldp_oad.append(Metric_disparity(Overall_accuracy(y_test_maj, y_pred_maj), Overall_accuracy(y_test_min, y_pred_min)))\n",
    "        \n",
    "        ldp_oa_maj.append(Overall_accuracy(y_test_maj, y_pred_maj))        \n",
    "        ldp_acc.append(acc)\n",
    "\n",
    "    #print(np.mean(ldp_sp_min))  \n",
    "    sldp_sp_min1.append(np.mean(ldp_sp_min))\n",
    "    sldp_sp_maj1.append(np.mean(ldp_sp_maj))\n",
    "    sldp_sd.append(np.mean(ldp_sd))\n",
    "    sd_std.append(np.std(sldp_sd))\n",
    "    sldp_csp_minX0.append(np.mean(ldp_csp_minX0))\n",
    "    sldp_csp_majX0.append(np.mean(ldp_csp_majX0))\n",
    "    sldp_csd_X0.append(np.mean(ldp_csd_X0))\n",
    "    csd_X0_std.append(np.std(sldp_csd_X0))\n",
    "    sldp_csp_minX1.append(np.mean(ldp_csp_minX1))\n",
    "    sldp_csp_majX1.append(np.mean(ldp_csp_majX1))\n",
    "    sldp_csd_X1.append(np.mean(ldp_csd_X1))\n",
    "    csd_X1_std.append(np.std(sldp_csd_X1))\n",
    "    \n",
    "    sldp_csp_minX2.append(np.mean(ldp_csp_minX2))\n",
    "    sldp_csp_majX2.append(np.mean(ldp_csp_majX2))\n",
    "    sldp_csd_X2.append(np.mean(ldp_csd_X2))\n",
    "    csd_X2_std.append(np.std(sldp_csd_X2))\n",
    "    sldp_csp_minX3.append(np.mean(ldp_csp_minX3))\n",
    "    sldp_csp_majX3.append(np.mean(ldp_csp_majX3))\n",
    "    sldp_csd_X3.append(np.mean(ldp_csd_X3))\n",
    "    csd_X3_std.append(np.std(sldp_csd_X3))\n",
    "    \n",
    "    sldp_csp_minX4.append(np.mean(ldp_csp_minX4))\n",
    "    sldp_csp_majX4.append(np.mean(ldp_csp_majX4))\n",
    "    sldp_csd_X4.append(np.mean(ldp_csd_X4))\n",
    "    csd_X4_std.append(np.std(sldp_csd_X4))\n",
    "    \n",
    "    \n",
    "    \n",
    "    \n",
    "    sldp_oa_min1.append(np.mean(ldp_oa_min))\n",
    "    sldp_oa_maj1.append(np.mean(ldp_oa_maj))\n",
    "    sldp_oad.append(np.mean(ldp_oad))\n",
    "    oad_std.append(np.std(sldp_oad))\n",
    "    sldp_eo_min1.append(np.mean(ldp_eo_min))\n",
    "    sldp_eo_maj1.append(np.mean(ldp_eo_maj))\n",
    "    sldp_eod.append(np.mean(ldp_eod))\n",
    "    eod_std.append(np.std(sldp_eod))\n",
    "    sldp_pe_min1.append(np.mean(ldp_pe_min))\n",
    "    sldp_pe_maj1.append(np.mean(ldp_pe_maj))\n",
    "    sldp_ped.append(np.mean(ldp_ped))\n",
    "    ped_std.append(np.std(sldp_ped))\n",
    "    sldp_acc1.append(np.mean(ldp_acc))\n",
    "    \n",
    "#print(sldp_sp_min1)\n",
    "    \n",
    "print('That took {} seconds'.format(time.time() - starttime)) \n"
   ]
  },
  {
   "cell_type": "code",
   "execution_count": 22,
   "metadata": {},
   "outputs": [
    {
     "name": "stdout",
     "output_type": "stream",
     "text": [
      "SP for Majority, no LDP 1.0\t, sLDP [1.0, 1.0, 1.0, 1.0, 0.9737422362130255, 0.8250382507864519, 0.8250382507864519, 0.8250382507864519, 0.8250382507864519, 0.8250382507864519]\n",
      " SP for Minority, no LDP 0.5159301184862233\t, sLDP [0.5159301184862233, 0.5159301184862233, 0.7622854802929216, 0.7622854802929216, 0.7622854802929216, 0.7622854802929216, 0.7622854802929216, 0.7622854802929216, 0.7622854802929216, 0.7622854802929216]\n",
      "CSP for Majority_X0, no LDP 1.0\t, sLDP [1.0, 1.0, 1.0, 1.0, 0.85, 0.0, 0.0, 0.0, 0.0, 0.0]\n",
      " CSP for Minority_X0, no LDP 0.0\t, sLDP [0.0, 0.0, 0.0, 0.0, 0.0, 0.0, 0.0, 0.0, 0.0, 0.0]\n",
      "CSP for Majority/X1, no LDP 1.0\t, sLDP [1.0, 1.0, 1.0, 1.0, 1.0, 1.0, 1.0, 1.0, 1.0, 1.0]\n",
      " CSP for Minority/X1, no LDP 0.0\t, sLDP [0.0, 0.0, 1.0, 1.0, 1.0, 1.0, 1.0, 1.0, 1.0, 1.0]\n",
      "CSP for Majority_X2, no LDP 1.0\t, sLDP [1.0, 1.0, 1.0, 1.0, 1.0, 1.0, 1.0, 1.0, 1.0, 1.0]\n",
      " CSP for Minority_X2, no LDP 1.0\t, sLDP [1.0, 1.0, 1.0, 1.0, 1.0, 1.0, 1.0, 1.0, 1.0, 1.0]\n",
      "CSP for Majority/X3, no LDP 1.0\t, sLDP [1.0, 1.0, 1.0, 1.0, 1.0, 1.0, 1.0, 1.0, 1.0, 1.0]\n",
      " CSP for Minority/X3, no LDP 1.0\t, sLDP [1.0, 1.0, 1.0, 1.0, 1.0, 1.0, 1.0, 1.0, 1.0, 1.0]\n",
      "CSP for Majority/X4, no LDP 1.0\t, sLDP [1.0, 1.0, 1.0, 1.0, 1.0, 1.0, 1.0, 1.0, 1.0, 1.0]\n",
      " CSP for Minority/X4, no LDP 1.0\t, sLDP [1.0, 1.0, 1.0, 1.0, 1.0, 1.0, 1.0, 1.0, 1.0, 1.0]\n",
      "EO for Majority, no LDP 1.0\t, sLDP [1.0, 1.0, 1.0, 1.0, 0.9818069989083004, 0.8798860132696833, 0.8798860132696833, 0.8798860132696833, 0.8798860132696833, 0.8798860132696833]\n",
      " EO for Minority, no LDP 0.6864510716574438\t, sLDP [0.6864510716574438, 0.6864510716574438, 0.8848924364441002, 0.8848924364441002, 0.8848924364441002, 0.8848924364441002, 0.8848924364441002, 0.8848924364441002, 0.8848924364441002, 0.8848924364441002]\n"
     ]
    }
   ],
   "source": [
    "print(f'SP for Majority, no LDP {np.mean(np_sp_maj1)}\\t, sLDP {sldp_sp_maj1}\\n SP for Minority, no LDP {np.mean(np_sp_min1)}\\t, sLDP {sldp_sp_min1}')\n",
    "\n",
    "print(f'CSP for Majority_X0, no LDP {np.mean(ndp_csp_majX0)}\\t, sLDP {sldp_csp_majX0}\\n CSP for Minority_X0, no LDP {np.mean(ndp_csp_minX0)}\\t, sLDP {sldp_csp_minX0}')\n",
    "\n",
    "print(f'CSP for Majority/X1, no LDP {np.mean(ndp_csp_majX1)}\\t, sLDP {sldp_csp_majX1}\\n CSP for Minority/X1, no LDP {np.mean(ndp_csp_minX1)}\\t, sLDP {sldp_csp_minX1}')                                    \n",
    "\n",
    "\n",
    "print(f'CSP for Majority_X2, no LDP {np.mean(ndp_csp_majX2)}\\t, sLDP {sldp_csp_majX2}\\n CSP for Minority_X2, no LDP {np.mean(ndp_csp_minX2)}\\t, sLDP {sldp_csp_minX2}')\n",
    "\n",
    "print(f'CSP for Majority/X3, no LDP {np.mean(ndp_csp_majX3)}\\t, sLDP {sldp_csp_majX3}\\n CSP for Minority/X3, no LDP {np.mean(ndp_csp_minX3)}\\t, sLDP {sldp_csp_minX3}')                                    \n",
    "\n",
    "print(f'CSP for Majority/X4, no LDP {np.mean(ndp_csp_majX4)}\\t, sLDP {sldp_csp_majX4}\\n CSP for Minority/X4, no LDP {np.mean(ndp_csp_minX4)}\\t, sLDP {sldp_csp_minX4}')                                    \n",
    "# print(f'Accuracy for Majority, no LDP {np.mean(np_oa_maj1)}\\t, sLDP {sldp_oa_maj1}\\n Accuracy for Minority, no LDP {np.mean(np_oa_min1)}\\t, sLDP {sldp_oa_min1}')\n",
    "\n",
    "print(f'EO for Majority, no LDP {np.mean(np_eo_maj1)}\\t, sLDP {sldp_eo_maj1}\\n EO for Minority, no LDP {np.mean(np_eo_min1)}\\t, sLDP {sldp_eo_min1}')\n",
    "\n",
    "# print(f'PE for Majority, no LDP {np.mean(np_pe_maj1)}\\t, sLDP {sldp_pe_maj1}\\n PE for Minority, no LDP {np.mean(np_pe_min1)}\\t, sLDP {sldp_pe_min1}')\n",
    "\n"
   ]
  },
  {
   "cell_type": "markdown",
   "metadata": {},
   "source": [
    "## Visualization"
   ]
  },
  {
   "cell_type": "code",
   "execution_count": 23,
   "metadata": {},
   "outputs": [],
   "source": [
    "def Make_subplots_2(lst_eps,dataset_name):    \n",
    "    fig2, ax2 = plt.subplots(1, 2, figsize=(10, 5),sharex='col', sharey=True)\n",
    "    plt.subplots_adjust(wspace=0.1, hspace=0.1)\n",
    "    plt.yticks(fontsize=9)\n",
    "    \n",
    "    #ax2[0].axhline(y=np.mean(np_sp_maj1)-np.mean(np_sp_min1), color='black', label = 'noLDP')\n",
    "    #ax2[0].errorbar(x,sldp_sd,sd_std,color='forestgreen', ecolor='forestgreen',label='SD',fmt='o',markersize=3)\n",
    "    #ax2[0].errorbar(x,ldp_ind_spd2,std_values_indldp2['SPD'],ecolor='magenta',color='magenta',label='kRR-Ind',fmt='-o',markersize=3,alpha=0.6)            \n",
    "    ax2[0].plot(sldp_sd,color='forestgreen', label='SD',marker='o', fillstyle='none')\n",
    "    plt.annotate(\"Baseline\", (lst_eps[0], np.mean(np_sp_maj1)-np.mean(np_sp_min1)))\n",
    "    \n",
    "    #ax2[1].axhline(y=np.mean(ndp_csp_majX0)-np.mean(ndp_csp_minX0), color='black', label = 'noLDP')\n",
    "    #ax2[0].errorbar(x,sldp_csd_X0,csd_X0_std,color='red', ecolor='red',label='CSD_x0',fmt='D',markersize=3)\n",
    "    ax2[0].plot(sldp_csd_X0,color='red',label='CSD_x0',marker='D', fillstyle='none')\n",
    "    \n",
    "    #ax2[0].axhline(y=np.mean(ndp_csp_majX1)-np.mean(ndp_csp_minX1), color='black', label = 'noLDP')\n",
    "    #ax2[0].errorbar(x,sldp_csd_X1,csd_X1_std,color='orange', ecolor='orange',label='CSD_x1',fmt='-o',markersize=3)\n",
    "    ax2[0].plot(sldp_csd_X1,color='orange', label='CSD_x1',marker='X', fillstyle='none')\n",
    "    \n",
    "    ax2[0].plot(sldp_csd_X2,color='purple',label='CSD_x2',marker='*', fillstyle='none')\n",
    "    \n",
    "    ax2[0].plot(sldp_csd_X3,color='pink',label='CSD_x3',marker='d', fillstyle='none')\n",
    "    \n",
    "    ax2[0].plot(sldp_csd_X4,color='black',label='CSD_x4',marker='v', fillstyle='none')\n",
    "    \n",
    "    #ax2[0].axhline(y=np.mean(np_eo_maj1)-np.mean(np_eo_min1), color='black', label = 'noLDP')\n",
    "    #ax2[0].errorbar(x,sldp_eod,eod_std,color='blue', ecolor='blue',label='EOD',fmt='-o',markersize=3, alpha=0.4)\n",
    "    ax2[0].plot(sldp_eod,color='blue', label='EOD',marker='v', alpha=0.4, fillstyle='none')\n",
    "    \n",
    "    #ax2[0].axhline(y=np.mean(np_sp_maj1)-np.mean(np_sp_min1), color='black', label = 'noLDP')\n",
    "    #ax2[0].errorbar(x,sldp_sd,sd_std,color='forestgreen', ecolor='forestgreen',label='SD',fmt='o',markersize=3)\n",
    "    #ax2[0].errorbar(x,ldp_ind_spd2,std_values_indldp2['SPD'],ecolor='magenta',color='magenta',label='kRR-Ind',fmt='-o',markersize=3,alpha=0.6)            \n",
    "    ax2[1].plot(sldp_sd,color='forestgreen', label='SD',marker='o',markersize=3, fillstyle='none')\n",
    "    \n",
    "    \n",
    "    #ax2[1].axhline(y=np.mean(ndp_csp_majX0)-np.mean(ndp_csp_minX0), color='black', label = 'noLDP')\n",
    "    #ax2[0].errorbar(x,sldp_csd_X0,csd_X0_std,color='red', ecolor='red',label='CSD_x0',fmt='D',markersize=3)\n",
    "    ax2[1].plot(sldp_csd_X0,color='red',label='CSD_x0',marker='D',markersize=3)\n",
    "    \n",
    "    #ax2[0].axhline(y=np.mean(ndp_csp_majX1)-np.mean(ndp_csp_minX1), color='black', label = 'noLDP')\n",
    "    #ax2[0].errorbar(x,sldp_csd_X1,csd_X1_std,color='orange', ecolor='orange',label='CSD_x1',fmt='-o',markersize=3)\n",
    "    ax2[1].plot(sldp_csd_X1,color='orange', label='CSD_x1',marker='X',markersize=3)\n",
    "    \n",
    "    #ax2[0].axhline(y=np.mean(np_eo_maj1)-np.mean(np_eo_min1), color='black', label = 'noLDP')\n",
    "    #ax2[0].errorbar(x,sldp_eod,eod_std,color='blue', ecolor='blue',label='EOD',fmt='-o',markersize=3, alpha=0.4)\n",
    "    ax2[1].plot(sldp_eod,color='blue', label='EOD',marker='v',markersize=3, alpha=0.4)\n",
    "    ax2[1].plot(sldp_eod,color='yellow', label='PED',marker='v',markersize=3, alpha=0.4)\n",
    "    \n",
    "     \n",
    "        \n",
    "#     ax2[4].axhline(y=np.mean(np_pe_maj1)-np.mean(np_pe_min1), color='black', label = 'noLDP')\n",
    "#     ax2[4].errorbar(x,sldp_ped,ped_std,color='forestgreen', ecolor='forestgreen',label='kRR-Comb',fmt='-o',markersize=3)\n",
    "#     #ax2[2].errorbar(x,ldp_ind_ped2,std_values_indldp2['PED'],ecolor='magenta',color='magenta',label='kRR-Ind',fmt='-o',markersize=3,alpha=0.6)       \n",
    "    \n",
    "#     ax2[5].axhline(y=np.mean(np_oa_maj1)-np.mean(np_oa_min1), color='black', label = 'noLDP')\n",
    "#     ax2[5].errorbar(x,sldp_oad,oad_std,color='forestgreen', ecolor='forestgreen',label='kRR-Comb',fmt='-o',markersize=3)\n",
    "#     #ax2[3].errorbar(x,ldp_ind_oad2,std_values_indldp2['OAD'],ecolor='magenta',color='magenta',label='kRR-Ind',fmt='-o',markersize=3,alpha=0.6)       \n",
    "    \n",
    "#     ax2[4].axhline(y=PRP_maj_mean2-PRP_min_mean2, color='black', label = 'noLDP')\n",
    "#     ax2[4].errorbar(x,allsldp_prpd2,std_values_comldp2['PRPD'],color='forestgreen', ecolor='forestgreen',label='kRR-Comb',fmt='-o',markersize=3)\n",
    "#     ax2[4].errorbar(x,ldp_ind_prpd2,std_values_indldp2['PRPD'],ecolor='magenta',color='magenta',label='kRR-Ind',fmt='-o',markersize=3,alpha=0.6)       \n",
    " \n",
    "    #ax2[0].set_title('Synthetic 2 \\n No $X \\perp A$',fontsize=12)\n",
    "    ax2[1].set_title('Synthetic 2 \\n ',fontsize=12)\n",
    "#     ax2[2].set_title('CSD_x1',fontsize=12)\n",
    "#     ax2[3].set_title('EOD',fontsize=12)\n",
    "#     ax2[4].set_title('PED',fontsize=12)\n",
    "#     ax2[5].set_title('OAD',fontsize=12)\n",
    "#     ax2[4].set_title('PRD',fontsize=12)\n",
    "\n",
    "\n",
    "    for j in range(2):\n",
    "        ax2[j].set_xticks(range(len(lst_eps)))        \n",
    "        ax2[j].set_xticklabels(lst_eps,fontsize=9)\n",
    "        ax2[j].set_xlabel('$\\epsilon$', fontsize=12)   \n",
    "        ax2[j].grid(axis='y')\n",
    "        ax2[j].legend(fontsize='8')\n",
    "    # saving the plot as a pdf file\n",
    "    fig2.savefig(path_results + dataset + '2.pdf',dpi=100,bbox_inches='tight')\n",
    "    \n",
    "    return fig2.show()"
   ]
  },
  {
   "cell_type": "code",
   "execution_count": 24,
   "metadata": {},
   "outputs": [],
   "source": [
    "x = range(len(lst_eps))"
   ]
  },
  {
   "cell_type": "code",
   "execution_count": 25,
   "metadata": {},
   "outputs": [
    {
     "name": "stderr",
     "output_type": "stream",
     "text": [
      "/usr/local/lib/python3.7/site-packages/ipykernel_launcher.py:81: UserWarning: Matplotlib is currently using module://ipykernel.pylab.backend_inline, which is a non-GUI backend, so cannot show the figure.\n"
     ]
    },
    {
     "data": {
      "image/png": "[encoded data removed]",
      "text/plain": [
       "<Figure size 720x360 with 2 Axes>"
      ]
     },
     "metadata": {
      "needs_background": "light"
     },
     "output_type": "display_data"
    }
   ],
   "source": [
    "Make_subplots_2(lst_eps,'Synthetic2')"
   ]
  },
  {
   "cell_type": "code",
   "execution_count": 26,
   "metadata": {},
   "outputs": [
    {
     "data": {
      "image/png": "[encoded data removed]",
      "text/plain": [
       "<Figure size 504x360 with 1 Axes>"
      ]
     },
     "metadata": {
      "needs_background": "light"
     },
     "output_type": "display_data"
    }
   ],
   "source": [
    "lst_eps = [16,8,2,1,0.85,0.5,0.4,0.3,0.2,0.1]\n",
    "# specifying the plot size\n",
    "plt.figure(figsize = (7, 5))\n",
    "plt.axvline(x=range(len(lst_eps))[0], color='black', label = 'noLDP',linestyle='dashed')\n",
    "plt.plot(sldp_sd,color='darkgreen',label='SD',marker='o',markersize=3)\n",
    "plt.plot(sldp_eod,color='blue',label='EOD',marker='X',markersize=6, alpha=0.6)\n",
    "plt.plot(sldp_ped,color='yellow',label='PED',marker='X',markersize=6, alpha=0.6)\n",
    "plt.plot(sldp_csd_X0,color='orange',label='CSD$_{0}$',marker='d',markersize=5)\n",
    "plt.plot(sldp_csd_X1,color='red', label='CSD$_{1}$',marker='v',markersize=8, alpha=0.4)\n",
    "plt.plot(sldp_csd_X2,color='black',label='CSD$_{2}$',marker='d',markersize=13)\n",
    "plt.plot(sldp_csd_X3,color='magenta', label='CSD$_{3}$',marker='X',markersize=16, alpha=0.5)\n",
    "plt.plot(sldp_csd_X4,color='cyan', label='CSD$_{4}$',marker='s',markersize=8,alpha=0.5)\n",
    "\n",
    "#plt.xticks(range(len(lst_eps)))  \n",
    "\n",
    "#plt.xticklabels(range(len(lst_eps)))\n",
    "plt.xticks(range(len(lst_eps)), lst_eps)\n",
    "plt.yticks(fontsize=9)\n",
    "plt.xlabel(lst_eps,fontsize=9)\n",
    "plt.xlabel('$\\epsilon$', fontsize=12)   \n",
    "plt.grid(axis='y')\n",
    "plt.title('S6',fontsize=12)\n",
    "# place legend outside\n",
    "plt.legend()\n",
    "\n",
    "# saving the plot as a pdf file\n",
    "#plt.savefig(path_results + dataset + '_S5.pdf',dpi=100,bbox_inches='tight')\n",
    "# rendering plot\n",
    "#plt.show()\n",
    "\n",
    "plt.savefig(path_results + dataset + \"_S62.pdf\", format=\"pdf\", bbox_inches=\"tight\")\n",
    "plt.show()\n"
   ]
  },
  {
   "cell_type": "code",
   "execution_count": null,
   "metadata": {},
   "outputs": [],
   "source": []
  },
  {
   "cell_type": "code",
   "execution_count": null,
   "metadata": {},
   "outputs": [],
   "source": []
  }
 ],
 "metadata": {
  "kernelspec": {
   "display_name": "Python 3",
   "language": "python",
   "name": "python3"
  },
  "language_info": {
   "codemirror_mode": {
    "name": "ipython",
    "version": 3
   },
   "file_extension": ".py",
   "mimetype": "text/x-python",
   "name": "python",
   "nbconvert_exporter": "python",
   "pygments_lexer": "ipython3",
   "version": "3.7.3"
  }
 },
 "nbformat": 4,
 "nbformat_minor": 2
}
